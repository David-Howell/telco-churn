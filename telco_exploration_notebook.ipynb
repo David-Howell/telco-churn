{
 "cells": [
  {
   "cell_type": "code",
   "execution_count": 1,
   "id": "13fd37b3",
   "metadata": {},
   "outputs": [
    {
     "name": "stdout",
     "output_type": "stream",
     "text": [
      "\n",
      "import os\n",
      "import seaborn as sns\n",
      "import matplotlib.pyplot as plt\n",
      "import pandas as pd\n",
      "import numpy as np\n",
      "import math as m\n",
      "from scipy import stats\n",
      "from stat_tools import *\n",
      "from sklearn.model_selection import train_test_split\n",
      "import acquire\n",
      "import prepare\n",
      "from sklearn.metrics import accuracy_score, precision_score, recall_score, classification_report\n",
      "import lux\n",
      "    \n"
     ]
    }
   ],
   "source": [
    "# Let's import our imports ;)\n",
    "from telco_setup import telco_imports\n",
    "telco_imports()"
   ]
  },
  {
   "cell_type": "code",
   "execution_count": 2,
   "id": "b1155245",
   "metadata": {},
   "outputs": [],
   "source": [
    "import os\n",
    "import seaborn as sns\n",
    "import matplotlib.pyplot as plt\n",
    "import pandas as pd\n",
    "import numpy as np\n",
    "import math as m\n",
    "from scipy import stats\n",
    "from stat_tools import *\n",
    "from sklearn.model_selection import train_test_split\n",
    "import acquire\n",
    "import prepare\n",
    "from sklearn.metrics import accuracy_score, precision_score, recall_score, classification_report\n",
    "import lux"
   ]
  },
  {
   "cell_type": "code",
   "execution_count": 3,
   "id": "b5f63bcb",
   "metadata": {},
   "outputs": [],
   "source": [
    "df = acquire.get_telco_data()"
   ]
  },
  {
   "cell_type": "code",
   "execution_count": 4,
   "id": "f2371ed1",
   "metadata": {},
   "outputs": [
    {
     "data": {
      "application/vnd.jupyter.widget-view+json": {
       "model_id": "cedcec0b64b34ce89bbf1ae8a1fdd1a0",
       "version_major": 2,
       "version_minor": 0
      },
      "text/plain": [
       "Button(description='Toggle Pandas/Lux', layout=Layout(top='5px', width='140px'), style=ButtonStyle())"
      ]
     },
     "metadata": {},
     "output_type": "display_data"
    },
    {
     "data": {
      "application/vnd.jupyter.widget-view+json": {
       "model_id": "a800c13c4f6f44bf9bc1ed59a36baf96",
       "version_major": 2,
       "version_minor": 0
      },
      "text/plain": [
       "Output()"
      ]
     },
     "metadata": {},
     "output_type": "display_data"
    }
   ],
   "source": [
    "df"
   ]
  },
  {
   "cell_type": "code",
   "execution_count": 6,
   "id": "a0148b5b",
   "metadata": {},
   "outputs": [
    {
     "name": "stdout",
     "output_type": "stream",
     "text": [
      "<class 'lux.core.frame.LuxDataFrame'>\n",
      "RangeIndex: 7043 entries, 0 to 7042\n",
      "Data columns (total 21 columns):\n",
      " #   Column                 Non-Null Count  Dtype  \n",
      "---  ------                 --------------  -----  \n",
      " 0   customer_id            7043 non-null   object \n",
      " 1   gender                 7043 non-null   object \n",
      " 2   senior_citizen         7043 non-null   int64  \n",
      " 3   partner                7043 non-null   object \n",
      " 4   dependents             7043 non-null   object \n",
      " 5   tenure                 7043 non-null   int64  \n",
      " 6   phone_service          7043 non-null   object \n",
      " 7   multiple_lines         7043 non-null   object \n",
      " 8   internet_service_type  7043 non-null   object \n",
      " 9   online_security        7043 non-null   object \n",
      " 10  online_backup          7043 non-null   object \n",
      " 11  device_protection      7043 non-null   object \n",
      " 12  tech_support           7043 non-null   object \n",
      " 13  streaming_tv           7043 non-null   object \n",
      " 14  streaming_movies       7043 non-null   object \n",
      " 15  contract_type          7043 non-null   object \n",
      " 16  paperless_billing      7043 non-null   object \n",
      " 17  payment_type           7043 non-null   object \n",
      " 18  monthly_charges        7043 non-null   float64\n",
      " 19  total_charges          7043 non-null   object \n",
      " 20  churn                  7043 non-null   object \n",
      "dtypes: float64(1), int64(2), object(18)\n",
      "memory usage: 1.1+ MB\n"
     ]
    }
   ],
   "source": [
    "df.info()"
   ]
  },
  {
   "cell_type": "code",
   "execution_count": 7,
   "id": "40cdc44b",
   "metadata": {},
   "outputs": [],
   "source": [
    "df.total_charges = pd.to_numeric(df.total_charges, errors='coerce')"
   ]
  },
  {
   "cell_type": "code",
   "execution_count": 8,
   "id": "e080846d",
   "metadata": {},
   "outputs": [
    {
     "name": "stderr",
     "output_type": "stream",
     "text": [
      "/var/folders/n7/p9r5pxl53g99g0h4q1_h50fr0000gn/T/ipykernel_39701/3673192903.py:3: SettingWithCopyWarning:\n",
      "A value is trying to be set on a copy of a slice from a DataFrame\n",
      "\n",
      "See the caveats in the documentation: https://pandas.pydata.org/pandas-docs/stable/user_guide/indexing.html#returning-a-view-versus-a-copy\n"
     ]
    }
   ],
   "source": [
    "df['null_charges'] = pd.to_numeric(df['total_charges'], errors='coerce').isnull()\n",
    "\n",
    "df['total_charges'][df['null_charges'] == True] = df['monthly_charges'][df['null_charges'] == True]"
   ]
  },
  {
   "cell_type": "code",
   "execution_count": 9,
   "id": "98c16839",
   "metadata": {},
   "outputs": [
    {
     "data": {
      "application/vnd.jupyter.widget-view+json": {
       "model_id": "42b5d52c0e1b41e68b308af1360eee0f",
       "version_major": 2,
       "version_minor": 0
      },
      "text/plain": [
       "Button(description='Toggle Pandas/Lux', layout=Layout(top='5px', width='140px'), style=ButtonStyle())"
      ]
     },
     "metadata": {},
     "output_type": "display_data"
    },
    {
     "data": {
      "application/vnd.jupyter.widget-view+json": {
       "model_id": "f5c44c30f22043b9b2865aeb8b1351c6",
       "version_major": 2,
       "version_minor": 0
      },
      "text/plain": [
       "Output()"
      ]
     },
     "metadata": {},
     "output_type": "display_data"
    }
   ],
   "source": [
    "df.total_charges.value_counts(dropna=False)"
   ]
  },
  {
   "cell_type": "code",
   "execution_count": 10,
   "id": "52246905",
   "metadata": {},
   "outputs": [
    {
     "data": {
      "application/vnd.jupyter.widget-view+json": {
       "model_id": "adbac38937654605a9bb79047d029cf7",
       "version_major": 2,
       "version_minor": 0
      },
      "text/plain": [
       "Button(description='Toggle Pandas/Lux', layout=Layout(top='5px', width='140px'), style=ButtonStyle())"
      ]
     },
     "metadata": {},
     "output_type": "display_data"
    },
    {
     "data": {
      "application/vnd.jupyter.widget-view+json": {
       "model_id": "be1735b65c5f4fd8b5ccba74f33ab8ac",
       "version_major": 2,
       "version_minor": 0
      },
      "text/plain": [
       "Output()"
      ]
     },
     "metadata": {},
     "output_type": "display_data"
    }
   ],
   "source": [
    "df.total_charges.isnull().value_counts()"
   ]
  },
  {
   "cell_type": "code",
   "execution_count": 11,
   "id": "6955474b",
   "metadata": {},
   "outputs": [
    {
     "name": "stdout",
     "output_type": "stream",
     "text": [
      "Prepared df: (7043, 22)\n",
      "\n",
      "Train: (4225, 22)\n",
      "Validate: (1409, 22)\n",
      "Test: (1409, 22)\n"
     ]
    }
   ],
   "source": [
    "train, validate, test = prepare.split_data(df, 'churn')"
   ]
  },
  {
   "cell_type": "code",
   "execution_count": 22,
   "id": "fc885e20",
   "metadata": {
    "collapsed": true
   },
   "outputs": [
    {
     "name": "stdout",
     "output_type": "stream",
     "text": [
      "sns.histplot(data=train, y='customer_id', hue='churn', multiple='stack')\n",
      "train['customer_id'][df.churn == 'Yes'].value_counts()\n",
      "train['customer_id'][df.churn == 'No'].value_counts()\n",
      "sns.histplot(data=train, y='gender', hue='churn', multiple='stack')\n",
      "train['gender'][df.churn == 'Yes'].value_counts()\n",
      "train['gender'][df.churn == 'No'].value_counts()\n",
      "sns.histplot(data=train, y='senior_citizen', hue='churn', multiple='stack')\n",
      "train['senior_citizen'][df.churn == 'Yes'].value_counts()\n",
      "train['senior_citizen'][df.churn == 'No'].value_counts()\n",
      "sns.histplot(data=train, y='partner', hue='churn', multiple='stack')\n",
      "train['partner'][df.churn == 'Yes'].value_counts()\n",
      "train['partner'][df.churn == 'No'].value_counts()\n",
      "sns.histplot(data=train, y='dependents', hue='churn', multiple='stack')\n",
      "train['dependents'][df.churn == 'Yes'].value_counts()\n",
      "train['dependents'][df.churn == 'No'].value_counts()\n",
      "sns.histplot(data=train, y='tenure', hue='churn', multiple='stack')\n",
      "train['tenure'][df.churn == 'Yes'].value_counts()\n",
      "train['tenure'][df.churn == 'No'].value_counts()\n",
      "sns.histplot(data=train, y='phone_service', hue='churn', multiple='stack')\n",
      "train['phone_service'][df.churn == 'Yes'].value_counts()\n",
      "train['phone_service'][df.churn == 'No'].value_counts()\n",
      "sns.histplot(data=train, y='multiple_lines', hue='churn', multiple='stack')\n",
      "train['multiple_lines'][df.churn == 'Yes'].value_counts()\n",
      "train['multiple_lines'][df.churn == 'No'].value_counts()\n",
      "sns.histplot(data=train, y='internet_service_type', hue='churn', multiple='stack')\n",
      "train['internet_service_type'][df.churn == 'Yes'].value_counts()\n",
      "train['internet_service_type'][df.churn == 'No'].value_counts()\n",
      "sns.histplot(data=train, y='online_security', hue='churn', multiple='stack')\n",
      "train['online_security'][df.churn == 'Yes'].value_counts()\n",
      "train['online_security'][df.churn == 'No'].value_counts()\n",
      "sns.histplot(data=train, y='online_backup', hue='churn', multiple='stack')\n",
      "train['online_backup'][df.churn == 'Yes'].value_counts()\n",
      "train['online_backup'][df.churn == 'No'].value_counts()\n",
      "sns.histplot(data=train, y='device_protection', hue='churn', multiple='stack')\n",
      "train['device_protection'][df.churn == 'Yes'].value_counts()\n",
      "train['device_protection'][df.churn == 'No'].value_counts()\n",
      "sns.histplot(data=train, y='tech_support', hue='churn', multiple='stack')\n",
      "train['tech_support'][df.churn == 'Yes'].value_counts()\n",
      "train['tech_support'][df.churn == 'No'].value_counts()\n",
      "sns.histplot(data=train, y='streaming_tv', hue='churn', multiple='stack')\n",
      "train['streaming_tv'][df.churn == 'Yes'].value_counts()\n",
      "train['streaming_tv'][df.churn == 'No'].value_counts()\n",
      "sns.histplot(data=train, y='streaming_movies', hue='churn', multiple='stack')\n",
      "train['streaming_movies'][df.churn == 'Yes'].value_counts()\n",
      "train['streaming_movies'][df.churn == 'No'].value_counts()\n",
      "sns.histplot(data=train, y='contract_type', hue='churn', multiple='stack')\n",
      "train['contract_type'][df.churn == 'Yes'].value_counts()\n",
      "train['contract_type'][df.churn == 'No'].value_counts()\n",
      "sns.histplot(data=train, y='paperless_billing', hue='churn', multiple='stack')\n",
      "train['paperless_billing'][df.churn == 'Yes'].value_counts()\n",
      "train['paperless_billing'][df.churn == 'No'].value_counts()\n",
      "sns.histplot(data=train, y='payment_type', hue='churn', multiple='stack')\n",
      "train['payment_type'][df.churn == 'Yes'].value_counts()\n",
      "train['payment_type'][df.churn == 'No'].value_counts()\n",
      "sns.histplot(data=train, y='monthly_charges', hue='churn', multiple='stack')\n",
      "train['monthly_charges'][df.churn == 'Yes'].value_counts()\n",
      "train['monthly_charges'][df.churn == 'No'].value_counts()\n",
      "sns.histplot(data=train, y='total_charges', hue='churn', multiple='stack')\n",
      "train['total_charges'][df.churn == 'Yes'].value_counts()\n",
      "train['total_charges'][df.churn == 'No'].value_counts()\n",
      "sns.histplot(data=train, y='churn', hue='churn', multiple='stack')\n",
      "train['churn'][df.churn == 'Yes'].value_counts()\n",
      "train['churn'][df.churn == 'No'].value_counts()\n",
      "sns.histplot(data=train, y='null_charges', hue='churn', multiple='stack')\n",
      "train['null_charges'][df.churn == 'Yes'].value_counts()\n",
      "train['null_charges'][df.churn == 'No'].value_counts()\n"
     ]
    }
   ],
   "source": [
    "# Here we are going to start examining our training data \n",
    "# First let's print the commands to look at every individual field and how it realates to churn\n",
    "for i in train:\n",
    "    print(f\"sns.histplot(data=train, y='{i}', hue='churn', multiple='stack')\")\n",
    "    print(f\"train['{i}'][df.churn == 'Yes'].value_counts()\")\n",
    "    print(f\"train['{i}'][df.churn == 'No'].value_counts()\")"
   ]
  },
  {
   "cell_type": "code",
   "execution_count": 106,
   "id": "b2a0be4f",
   "metadata": {},
   "outputs": [
    {
     "data": {
      "image/png": "[encoded data removed]",
      "text/plain": [
       "<Figure size 432x288 with 1 Axes>"
      ]
     },
     "metadata": {
      "needs_background": "light"
     },
     "output_type": "display_data"
    }
   ],
   "source": [
    "sns.histplot(data=train, y='gender', hue='churn', multiple='stack')\n",
    "plt.title('Men and Women seem to churn at similar rates',fontdict={'fontsize':16})\n",
    "plt.text(175,'Male',f'578\\n{Percent(578/(578+1571))}')\n",
    "plt.text(175,\"Female\", f'543\\n{Percent(543/(543+1533))}')\n",
    "plt.text(1000,'Male', f'1571\\n{Percent(1571/(578+1571))}')\n",
    "plt.text(1000,'Female', f'1533\\n{Percent(1533/(543+1533))}')\n",
    "plt.show()"
   ]
  },
  {
   "cell_type": "code",
   "execution_count": 100,
   "id": "840ef351",
   "metadata": {},
   "outputs": [
    {
     "data": {
      "application/vnd.jupyter.widget-view+json": {
       "model_id": "39b4b6521a874f58964eeaf71707e624",
       "version_major": 2,
       "version_minor": 0
      },
      "text/plain": [
       "Button(description='Toggle Pandas/Lux', layout=Layout(top='5px', width='140px'), style=ButtonStyle())"
      ]
     },
     "metadata": {},
     "output_type": "display_data"
    },
    {
     "data": {
      "application/vnd.jupyter.widget-view+json": {
       "model_id": "71131d0a61b84523ab136d4d0cf3deb6",
       "version_major": 2,
       "version_minor": 0
      },
      "text/plain": [
       "Output()"
      ]
     },
     "metadata": {},
     "output_type": "display_data"
    }
   ],
   "source": [
    "train['gender'][df.churn == 'Yes'].value_counts()"
   ]
  },
  {
   "cell_type": "code",
   "execution_count": 28,
   "id": "f32bb3a6",
   "metadata": {},
   "outputs": [
    {
     "data": {
      "application/vnd.jupyter.widget-view+json": {
       "model_id": "01e922697b0245829b133c51daa2e532",
       "version_major": 2,
       "version_minor": 0
      },
      "text/plain": [
       "Button(description='Toggle Pandas/Lux', layout=Layout(top='5px', width='140px'), style=ButtonStyle())"
      ]
     },
     "metadata": {},
     "output_type": "display_data"
    },
    {
     "data": {
      "application/vnd.jupyter.widget-view+json": {
       "model_id": "1d52611c89224704b1c889d260fd5e81",
       "version_major": 2,
       "version_minor": 0
      },
      "text/plain": [
       "Output()"
      ]
     },
     "metadata": {},
     "output_type": "display_data"
    }
   ],
   "source": [
    "train['gender'][df.churn == 'No'].value_counts()"
   ]
  },
  {
   "cell_type": "code",
   "execution_count": 176,
   "id": "1de3fe5d",
   "metadata": {},
   "outputs": [
    {
     "data": {
      "image/png": "[encoded data removed]",
      "text/plain": [
       "<Figure size 432x288 with 1 Axes>"
      ]
     },
     "metadata": {
      "needs_background": "light"
     },
     "output_type": "display_data"
    }
   ],
   "source": [
    "sns.histplot(data=train, y='senior_citizen', hue='churn', multiple='stack', bins=2)\n",
    "plt.text(300,.8,f'277\\n{Percent(277/(277+407))}')\n",
    "plt.text(800,.6,f'407\\n{Percent(407/(277+407))}')\n",
    "plt.text(300,.2,f'844\\n{Percent(844/(844+2697))}')\n",
    "plt.text(2000,.2,f'2697\\n{Percent(2697/(844+2697))}')\n",
    "plt.title(f'Senior citizens seem to churn at a greater percentage\\n\\\n",
    "but also make up a much smaller percentage of total customers\\n\\\n",
    "Seniors only make up {Percent((277+407)/(277+407+844+2697))} of customers',\n",
    "          fontdict={'fontsize':16}\n",
    "         )\n",
    "plt.show()"
   ]
  },
  {
   "cell_type": "code",
   "execution_count": 30,
   "id": "e8a706ef",
   "metadata": {},
   "outputs": [
    {
     "data": {
      "application/vnd.jupyter.widget-view+json": {
       "model_id": "19a8613c73b64f4d93f8302a6eb8d884",
       "version_major": 2,
       "version_minor": 0
      },
      "text/plain": [
       "Button(description='Toggle Pandas/Lux', layout=Layout(top='5px', width='140px'), style=ButtonStyle())"
      ]
     },
     "metadata": {},
     "output_type": "display_data"
    },
    {
     "data": {
      "application/vnd.jupyter.widget-view+json": {
       "model_id": "5b460472f6d84a7b9ae4575941c1449c",
       "version_major": 2,
       "version_minor": 0
      },
      "text/plain": [
       "Output()"
      ]
     },
     "metadata": {},
     "output_type": "display_data"
    }
   ],
   "source": [
    "train['senior_citizen'][df.churn == 'Yes'].value_counts()"
   ]
  },
  {
   "cell_type": "code",
   "execution_count": 31,
   "id": "fb3bc092",
   "metadata": {},
   "outputs": [
    {
     "data": {
      "application/vnd.jupyter.widget-view+json": {
       "model_id": "3ccabd3f67eb45dc9a05e47910904794",
       "version_major": 2,
       "version_minor": 0
      },
      "text/plain": [
       "Button(description='Toggle Pandas/Lux', layout=Layout(top='5px', width='140px'), style=ButtonStyle())"
      ]
     },
     "metadata": {},
     "output_type": "display_data"
    },
    {
     "data": {
      "application/vnd.jupyter.widget-view+json": {
       "model_id": "45d72027836a46e2aea6d3729334700d",
       "version_major": 2,
       "version_minor": 0
      },
      "text/plain": [
       "Output()"
      ]
     },
     "metadata": {},
     "output_type": "display_data"
    }
   ],
   "source": [
    "train['senior_citizen'][df.churn == 'No'].value_counts()"
   ]
  },
  {
   "cell_type": "code",
   "execution_count": 135,
   "id": "decb3602",
   "metadata": {},
   "outputs": [
    {
     "data": {
      "image/png": "[encoded data removed]",
      "text/plain": [
       "<Figure size 432x288 with 1 Axes>"
      ]
     },
     "metadata": {
      "needs_background": "light"
     },
     "output_type": "display_data"
    }
   ],
   "source": [
    "sns.histplot(data=train, y='partner', hue='churn', multiple='stack')\n",
    "plt.title('People without a partner churn at \\n\\\n",
    "more than half again the rate of people with a partner',\n",
    "         fontdict={'fontsize':16})\n",
    "plt.text(400, 'No', f'722\\n{Percent(722/(722+1439))}')\n",
    "plt.text(1000, 'No', f'1439\\n{Percent(1439/(722+1439))}')\n",
    "plt.text(100, 'Yes', f'399\\n{Percent(399/(399+1665))}')\n",
    "plt.text(1000, 'Yes', f'1665\\n{Percent(1665/(399+1665))}')\n",
    "plt.show()"
   ]
  },
  {
   "cell_type": "code",
   "execution_count": 33,
   "id": "677ebce4",
   "metadata": {},
   "outputs": [
    {
     "data": {
      "application/vnd.jupyter.widget-view+json": {
       "model_id": "cb1fd2c9d1594a7388e33fbf2b845fb6",
       "version_major": 2,
       "version_minor": 0
      },
      "text/plain": [
       "Button(description='Toggle Pandas/Lux', layout=Layout(top='5px', width='140px'), style=ButtonStyle())"
      ]
     },
     "metadata": {},
     "output_type": "display_data"
    },
    {
     "data": {
      "application/vnd.jupyter.widget-view+json": {
       "model_id": "ec3010c79d3444b5800287c466655ca6",
       "version_major": 2,
       "version_minor": 0
      },
      "text/plain": [
       "Output()"
      ]
     },
     "metadata": {},
     "output_type": "display_data"
    }
   ],
   "source": [
    "train['partner'][df.churn == 'Yes'].value_counts()"
   ]
  },
  {
   "cell_type": "code",
   "execution_count": 34,
   "id": "ce5158e4",
   "metadata": {},
   "outputs": [
    {
     "data": {
      "application/vnd.jupyter.widget-view+json": {
       "model_id": "847df710d2634a8abd7df9037911abe5",
       "version_major": 2,
       "version_minor": 0
      },
      "text/plain": [
       "Button(description='Toggle Pandas/Lux', layout=Layout(top='5px', width='140px'), style=ButtonStyle())"
      ]
     },
     "metadata": {},
     "output_type": "display_data"
    },
    {
     "data": {
      "application/vnd.jupyter.widget-view+json": {
       "model_id": "d32f5368e36f45fabc56aa409a4d9a86",
       "version_major": 2,
       "version_minor": 0
      },
      "text/plain": [
       "Output()"
      ]
     },
     "metadata": {},
     "output_type": "display_data"
    }
   ],
   "source": [
    "train['partner'][df.churn == 'No'].value_counts()"
   ]
  },
  {
   "cell_type": "code",
   "execution_count": 177,
   "id": "06985267",
   "metadata": {},
   "outputs": [
    {
     "data": {
      "image/png": "[encoded data removed]",
      "text/plain": [
       "<Figure size 432x288 with 1 Axes>"
      ]
     },
     "metadata": {
      "needs_background": "light"
     },
     "output_type": "display_data"
    }
   ],
   "source": [
    "sns.histplot(data=train, y='dependents', hue='churn', multiple='stack',)# kde=True)\n",
    "\n",
    "plt.title('People without dependants churn at about\\n\\\n",
    "twice the rate as those without',fontdict={'fontsize':16})\n",
    "\n",
    "plt.text(250, 'Yes', f'{203}\\n{Percent(203/(203+1091))}')\n",
    "plt.text(1400, 'Yes', f'{1091}\\n{Percent(1091/(203+1091))}')\n",
    "plt.text(250, 'No', f'{918}\\n{Percent(918/(918+2013))}')\n",
    "plt.text(1400, 'No', f'{2013}\\n{Percent(2013/(918+2013))}')\n",
    "\n",
    "plt.show()"
   ]
  },
  {
   "cell_type": "code",
   "execution_count": 36,
   "id": "ec0634be",
   "metadata": {},
   "outputs": [
    {
     "data": {
      "application/vnd.jupyter.widget-view+json": {
       "model_id": "39352ac6157643df85ca7bf32d414a14",
       "version_major": 2,
       "version_minor": 0
      },
      "text/plain": [
       "Button(description='Toggle Pandas/Lux', layout=Layout(top='5px', width='140px'), style=ButtonStyle())"
      ]
     },
     "metadata": {},
     "output_type": "display_data"
    },
    {
     "data": {
      "application/vnd.jupyter.widget-view+json": {
       "model_id": "00dcb24504394a0cbab013978b2dced2",
       "version_major": 2,
       "version_minor": 0
      },
      "text/plain": [
       "Output()"
      ]
     },
     "metadata": {},
     "output_type": "display_data"
    }
   ],
   "source": [
    "train['dependents'][df.churn == 'Yes'].value_counts()"
   ]
  },
  {
   "cell_type": "code",
   "execution_count": 37,
   "id": "a9c8de13",
   "metadata": {},
   "outputs": [
    {
     "data": {
      "application/vnd.jupyter.widget-view+json": {
       "model_id": "cdbbdc2723e043e9a4e60d6a3e5f5eec",
       "version_major": 2,
       "version_minor": 0
      },
      "text/plain": [
       "Button(description='Toggle Pandas/Lux', layout=Layout(top='5px', width='140px'), style=ButtonStyle())"
      ]
     },
     "metadata": {},
     "output_type": "display_data"
    },
    {
     "data": {
      "application/vnd.jupyter.widget-view+json": {
       "model_id": "035b4fb20d6647ac8598d0d195c8f03d",
       "version_major": 2,
       "version_minor": 0
      },
      "text/plain": [
       "Output()"
      ]
     },
     "metadata": {},
     "output_type": "display_data"
    }
   ],
   "source": [
    "train['dependents'][df.churn == 'No'].value_counts()"
   ]
  },
  {
   "cell_type": "code",
   "execution_count": 158,
   "id": "531ece6e",
   "metadata": {},
   "outputs": [
    {
     "data": {
      "image/png": "[encoded data removed]",
      "text/plain": [
       "<Figure size 432x288 with 1 Axes>"
      ]
     },
     "metadata": {
      "needs_background": "light"
     },
     "output_type": "display_data"
    }
   ],
   "source": [
    "sns.histplot(data=train, y='tenure', hue='churn', multiple='stack')\n",
    "plt.title('Churn early, churn often...',fontdict={'fontsize':16})\n",
    "plt.show()"
   ]
  },
  {
   "cell_type": "code",
   "execution_count": 39,
   "id": "3e642b32",
   "metadata": {
    "collapsed": true
   },
   "outputs": [
    {
     "data": {
      "application/vnd.jupyter.widget-view+json": {
       "model_id": "e3b5926c2cc74b019a247b87c39447db",
       "version_major": 2,
       "version_minor": 0
      },
      "text/plain": [
       "Button(description='Toggle Pandas/Lux', layout=Layout(top='5px', width='140px'), style=ButtonStyle())"
      ]
     },
     "metadata": {},
     "output_type": "display_data"
    },
    {
     "data": {
      "application/vnd.jupyter.widget-view+json": {
       "model_id": "e6e841af4a804f19a4c0b98d2442137d",
       "version_major": 2,
       "version_minor": 0
      },
      "text/plain": [
       "Output()"
      ]
     },
     "metadata": {},
     "output_type": "display_data"
    }
   ],
   "source": [
    "train['tenure'][df.churn == 'Yes'].value_counts()"
   ]
  },
  {
   "cell_type": "code",
   "execution_count": 40,
   "id": "30919301",
   "metadata": {
    "collapsed": true
   },
   "outputs": [
    {
     "data": {
      "application/vnd.jupyter.widget-view+json": {
       "model_id": "8a671a8858944ab1a84e7ec3144d227e",
       "version_major": 2,
       "version_minor": 0
      },
      "text/plain": [
       "Button(description='Toggle Pandas/Lux', layout=Layout(top='5px', width='140px'), style=ButtonStyle())"
      ]
     },
     "metadata": {},
     "output_type": "display_data"
    },
    {
     "data": {
      "application/vnd.jupyter.widget-view+json": {
       "model_id": "22388b71eea94555af6526ba37807e48",
       "version_major": 2,
       "version_minor": 0
      },
      "text/plain": [
       "Output()"
      ]
     },
     "metadata": {},
     "output_type": "display_data"
    }
   ],
   "source": [
    "train['tenure'][df.churn == 'No'].value_counts()"
   ]
  },
  {
   "cell_type": "code",
   "execution_count": 159,
   "id": "e01c2c35",
   "metadata": {},
   "outputs": [
    {
     "data": {
      "image/png": "[encoded data removed]",
      "text/plain": [
       "<Figure size 432x288 with 1 Axes>"
      ]
     },
     "metadata": {
      "needs_background": "light"
     },
     "output_type": "display_data"
    }
   ],
   "source": [
    "sns.histplot(data=train, y='phone_service', hue='churn', multiple='stack')\n",
    "plt.title('Most people have phone service,\\nbut with or without seem to churn similarly',\n",
    "          fontdict={'fontsize':16}\n",
    "         )\n",
    "plt.show()"
   ]
  },
  {
   "cell_type": "code",
   "execution_count": 42,
   "id": "b94f0293",
   "metadata": {},
   "outputs": [
    {
     "data": {
      "application/vnd.jupyter.widget-view+json": {
       "model_id": "bb65cc65e41d4ee6b7b3fc6a4c5f361d",
       "version_major": 2,
       "version_minor": 0
      },
      "text/plain": [
       "Button(description='Toggle Pandas/Lux', layout=Layout(top='5px', width='140px'), style=ButtonStyle())"
      ]
     },
     "metadata": {},
     "output_type": "display_data"
    },
    {
     "data": {
      "application/vnd.jupyter.widget-view+json": {
       "model_id": "c6f315005b744c8f96fcdc0de89231d0",
       "version_major": 2,
       "version_minor": 0
      },
      "text/plain": [
       "Output()"
      ]
     },
     "metadata": {},
     "output_type": "display_data"
    }
   ],
   "source": [
    "train['phone_service'][df.churn == 'Yes'].value_counts()"
   ]
  },
  {
   "cell_type": "code",
   "execution_count": 43,
   "id": "71ec03d8",
   "metadata": {},
   "outputs": [
    {
     "data": {
      "application/vnd.jupyter.widget-view+json": {
       "model_id": "a2085e94459d4b59a0c1d3da5f77ae0e",
       "version_major": 2,
       "version_minor": 0
      },
      "text/plain": [
       "Button(description='Toggle Pandas/Lux', layout=Layout(top='5px', width='140px'), style=ButtonStyle())"
      ]
     },
     "metadata": {},
     "output_type": "display_data"
    },
    {
     "data": {
      "application/vnd.jupyter.widget-view+json": {
       "model_id": "beeed2125a5e4c9c8aa511f30b54b1c1",
       "version_major": 2,
       "version_minor": 0
      },
      "text/plain": [
       "Output()"
      ]
     },
     "metadata": {},
     "output_type": "display_data"
    }
   ],
   "source": [
    "train['phone_service'][df.churn == 'No'].value_counts()"
   ]
  },
  {
   "cell_type": "code",
   "execution_count": 162,
   "id": "84fc3d9e",
   "metadata": {},
   "outputs": [
    {
     "data": {
      "image/png": "[encoded data removed]",
      "text/plain": [
       "<Figure size 432x288 with 1 Axes>"
      ]
     },
     "metadata": {
      "needs_background": "light"
     },
     "output_type": "display_data"
    }
   ],
   "source": [
    "sns.histplot(data=train, y='multiple_lines', hue='churn', multiple='stack')\n",
    "plt.title('People with multiple lines seem to churn\\na little more than those that don\\'t',\n",
    "          fontdict={'fontsize':16}\n",
    "         )\n",
    "plt.show()"
   ]
  },
  {
   "cell_type": "code",
   "execution_count": 114,
   "id": "86587bc5",
   "metadata": {},
   "outputs": [
    {
     "data": {
      "application/vnd.jupyter.widget-view+json": {
       "model_id": "8ed96b841cae4847b03d27a04060f73b",
       "version_major": 2,
       "version_minor": 0
      },
      "text/plain": [
       "Button(description='Toggle Pandas/Lux', layout=Layout(top='5px', width='140px'), style=ButtonStyle())"
      ]
     },
     "metadata": {},
     "output_type": "display_data"
    },
    {
     "data": {
      "application/vnd.jupyter.widget-view+json": {
       "model_id": "a786f2069bcb49e4ac9f098f039b21aa",
       "version_major": 2,
       "version_minor": 0
      },
      "text/plain": [
       "Output()"
      ]
     },
     "metadata": {},
     "output_type": "display_data"
    }
   ],
   "source": [
    "ml_chr_yes = train['multiple_lines'][df.churn == 'Yes'].value_counts()\n",
    "ml_chr_yes"
   ]
  },
  {
   "cell_type": "code",
   "execution_count": 115,
   "id": "4155d414",
   "metadata": {},
   "outputs": [
    {
     "data": {
      "application/vnd.jupyter.widget-view+json": {
       "model_id": "e249592ab69142759e712e3c3bc8a32f",
       "version_major": 2,
       "version_minor": 0
      },
      "text/plain": [
       "Button(description='Toggle Pandas/Lux', layout=Layout(top='5px', width='140px'), style=ButtonStyle())"
      ]
     },
     "metadata": {},
     "output_type": "display_data"
    },
    {
     "data": {
      "application/vnd.jupyter.widget-view+json": {
       "model_id": "3a33fbec175d499796ae953ad0cd79c2",
       "version_major": 2,
       "version_minor": 0
      },
      "text/plain": [
       "Output()"
      ]
     },
     "metadata": {},
     "output_type": "display_data"
    }
   ],
   "source": [
    "ml_chr_no = train['multiple_lines'][df.churn == 'No'].value_counts()\n",
    "ml_chr_no"
   ]
  },
  {
   "cell_type": "code",
   "execution_count": 117,
   "id": "ae085fc1",
   "metadata": {},
   "outputs": [
    {
     "data": {
      "application/vnd.jupyter.widget-view+json": {
       "model_id": "c19487009ea640258db5a59a84b5908b",
       "version_major": 2,
       "version_minor": 0
      },
      "text/plain": [
       "Button(description='Toggle Pandas/Lux', layout=Layout(top='5px', width='140px'), style=ButtonStyle())"
      ]
     },
     "metadata": {},
     "output_type": "display_data"
    },
    {
     "data": {
      "application/vnd.jupyter.widget-view+json": {
       "model_id": "7c60269702864e98bedbd0a758a4cbde",
       "version_major": 2,
       "version_minor": 0
      },
      "text/plain": [
       "Output()"
      ]
     },
     "metadata": {},
     "output_type": "display_data"
    }
   ],
   "source": [
    "ml_chr_yes / (ml_chr_yes + ml_chr_no)"
   ]
  },
  {
   "cell_type": "code",
   "execution_count": 160,
   "id": "8f7f7465",
   "metadata": {},
   "outputs": [
    {
     "data": {
      "image/png": "[encoded data removed]",
      "text/plain": [
       "<Figure size 432x288 with 1 Axes>"
      ]
     },
     "metadata": {
      "needs_background": "light"
     },
     "output_type": "display_data"
    }
   ],
   "source": [
    "sns.histplot(data=train, y='internet_service_type', hue='churn', multiple='stack')\n",
    "plt.title('Fiber customers churn at more than twice the rate\\n\\\n",
    "of DSL who churn at more than twice the rate\\nof phone only customers',fontdict={'fontsize':16})\n",
    "plt.text(300, 'DSL',f'{isty[1]}\\n{Percent(isty[1]/(isty[1]+istn[0]))}')\n",
    "plt.text(1000, 'DSL',f'{istn[0]}\\n{Percent(istn[0]/(isty[1]+istn[0]))}')\n",
    "plt.text(100, 'None',f'{isty[2]}\\n{Percent(isty[2]/(isty[2]+istn[2]))}')\n",
    "plt.text(500, 'None',f'{istn[2]}\\n{Percent(istn[2]/(isty[2]+istn[2]))}')\n",
    "plt.text(300, 'Fiber optic',f'{isty[0]}\\n{Percent(isty[0]/(isty[0]+istn[1]))}')\n",
    "plt.text(1200, 'Fiber optic',f'{istn[1]}\\n{Percent(istn[1]/(isty[0]+istn[1]))}')\n",
    "plt.show()"
   ]
  },
  {
   "cell_type": "code",
   "execution_count": 118,
   "id": "9decfee0",
   "metadata": {},
   "outputs": [
    {
     "data": {
      "application/vnd.jupyter.widget-view+json": {
       "model_id": "201868eeb3454560b7b417445efa3b18",
       "version_major": 2,
       "version_minor": 0
      },
      "text/plain": [
       "Button(description='Toggle Pandas/Lux', layout=Layout(top='5px', width='140px'), style=ButtonStyle())"
      ]
     },
     "metadata": {},
     "output_type": "display_data"
    },
    {
     "data": {
      "application/vnd.jupyter.widget-view+json": {
       "model_id": "b404b3d2f7a54352abf772aa5a1a0bd4",
       "version_major": 2,
       "version_minor": 0
      },
      "text/plain": [
       "Output()"
      ]
     },
     "metadata": {},
     "output_type": "display_data"
    }
   ],
   "source": [
    "isty = train['internet_service_type'][df.churn == 'Yes'].value_counts()\n",
    "isty"
   ]
  },
  {
   "cell_type": "code",
   "execution_count": 119,
   "id": "e66c93a3",
   "metadata": {},
   "outputs": [
    {
     "data": {
      "application/vnd.jupyter.widget-view+json": {
       "model_id": "aecd282c02f944bcbd874f668bbc610f",
       "version_major": 2,
       "version_minor": 0
      },
      "text/plain": [
       "Button(description='Toggle Pandas/Lux', layout=Layout(top='5px', width='140px'), style=ButtonStyle())"
      ]
     },
     "metadata": {},
     "output_type": "display_data"
    },
    {
     "data": {
      "application/vnd.jupyter.widget-view+json": {
       "model_id": "c69cf5ef03e54f3b9928252f091b08f7",
       "version_major": 2,
       "version_minor": 0
      },
      "text/plain": [
       "Output()"
      ]
     },
     "metadata": {},
     "output_type": "display_data"
    }
   ],
   "source": [
    "istn = train['internet_service_type'][df.churn == 'No'].value_counts()\n",
    "istn"
   ]
  },
  {
   "cell_type": "code",
   "execution_count": 50,
   "id": "23936d3b",
   "metadata": {},
   "outputs": [
    {
     "data": {
      "text/plain": [
       "<AxesSubplot:xlabel='Count', ylabel='online_security'>"
      ]
     },
     "execution_count": 50,
     "metadata": {},
     "output_type": "execute_result"
    },
    {
     "data": {
      "image/png": "[encoded data removed]",
      "text/plain": [
       "<Figure size 432x288 with 1 Axes>"
      ]
     },
     "metadata": {
      "needs_background": "light"
     },
     "output_type": "display_data"
    }
   ],
   "source": [
    "sns.histplot(data=train, y='online_security', hue='churn', multiple='stack')"
   ]
  },
  {
   "cell_type": "code",
   "execution_count": 51,
   "id": "c2b4f813",
   "metadata": {},
   "outputs": [
    {
     "data": {
      "application/vnd.jupyter.widget-view+json": {
       "model_id": "8663c3d52b044d499ca7fd10356a389a",
       "version_major": 2,
       "version_minor": 0
      },
      "text/plain": [
       "Button(description='Toggle Pandas/Lux', layout=Layout(top='5px', width='140px'), style=ButtonStyle())"
      ]
     },
     "metadata": {},
     "output_type": "display_data"
    },
    {
     "data": {
      "application/vnd.jupyter.widget-view+json": {
       "model_id": "fc50ce820e3c4ff096bf4f82ad04c08c",
       "version_major": 2,
       "version_minor": 0
      },
      "text/plain": [
       "Output()"
      ]
     },
     "metadata": {},
     "output_type": "display_data"
    }
   ],
   "source": [
    "train['online_security'][df.churn == 'Yes'].value_counts()"
   ]
  },
  {
   "cell_type": "code",
   "execution_count": 52,
   "id": "d1bd7d7a",
   "metadata": {},
   "outputs": [
    {
     "data": {
      "application/vnd.jupyter.widget-view+json": {
       "model_id": "c75f1b08605c44ff936ec5606c48ef1a",
       "version_major": 2,
       "version_minor": 0
      },
      "text/plain": [
       "Button(description='Toggle Pandas/Lux', layout=Layout(top='5px', width='140px'), style=ButtonStyle())"
      ]
     },
     "metadata": {},
     "output_type": "display_data"
    },
    {
     "data": {
      "application/vnd.jupyter.widget-view+json": {
       "model_id": "ae1d8a7bf2554dc793f07c44f6d280f7",
       "version_major": 2,
       "version_minor": 0
      },
      "text/plain": [
       "Output()"
      ]
     },
     "metadata": {},
     "output_type": "display_data"
    }
   ],
   "source": [
    "train['online_security'][df.churn == 'No'].value_counts()"
   ]
  },
  {
   "cell_type": "code",
   "execution_count": 53,
   "id": "68693440",
   "metadata": {},
   "outputs": [
    {
     "data": {
      "text/plain": [
       "<AxesSubplot:xlabel='Count', ylabel='online_backup'>"
      ]
     },
     "execution_count": 53,
     "metadata": {},
     "output_type": "execute_result"
    },
    {
     "data": {
      "image/png": "[encoded data removed]",
      "text/plain": [
       "<Figure size 432x288 with 1 Axes>"
      ]
     },
     "metadata": {
      "needs_background": "light"
     },
     "output_type": "display_data"
    }
   ],
   "source": [
    "sns.histplot(data=train, y='online_backup', hue='churn', multiple='stack')"
   ]
  },
  {
   "cell_type": "code",
   "execution_count": 54,
   "id": "618e2548",
   "metadata": {},
   "outputs": [
    {
     "data": {
      "application/vnd.jupyter.widget-view+json": {
       "model_id": "e374a6a983dd403791b6399f4e9945af",
       "version_major": 2,
       "version_minor": 0
      },
      "text/plain": [
       "Button(description='Toggle Pandas/Lux', layout=Layout(top='5px', width='140px'), style=ButtonStyle())"
      ]
     },
     "metadata": {},
     "output_type": "display_data"
    },
    {
     "data": {
      "application/vnd.jupyter.widget-view+json": {
       "model_id": "9723144ed53549d8a36138f583c9ed0c",
       "version_major": 2,
       "version_minor": 0
      },
      "text/plain": [
       "Output()"
      ]
     },
     "metadata": {},
     "output_type": "display_data"
    }
   ],
   "source": [
    "train['online_backup'][df.churn == 'Yes'].value_counts()"
   ]
  },
  {
   "cell_type": "code",
   "execution_count": 55,
   "id": "777fa0ab",
   "metadata": {},
   "outputs": [
    {
     "data": {
      "application/vnd.jupyter.widget-view+json": {
       "model_id": "0e672280679641a79b4e8a25318bd054",
       "version_major": 2,
       "version_minor": 0
      },
      "text/plain": [
       "Button(description='Toggle Pandas/Lux', layout=Layout(top='5px', width='140px'), style=ButtonStyle())"
      ]
     },
     "metadata": {},
     "output_type": "display_data"
    },
    {
     "data": {
      "application/vnd.jupyter.widget-view+json": {
       "model_id": "109836d90a63470c9eadab682781f36c",
       "version_major": 2,
       "version_minor": 0
      },
      "text/plain": [
       "Output()"
      ]
     },
     "metadata": {},
     "output_type": "display_data"
    }
   ],
   "source": [
    "train['online_backup'][df.churn == 'No'].value_counts()"
   ]
  },
  {
   "cell_type": "code",
   "execution_count": 56,
   "id": "3141deb9",
   "metadata": {},
   "outputs": [
    {
     "data": {
      "text/plain": [
       "<AxesSubplot:xlabel='Count', ylabel='device_protection'>"
      ]
     },
     "execution_count": 56,
     "metadata": {},
     "output_type": "execute_result"
    },
    {
     "data": {
      "image/png": "[encoded data removed]",
      "text/plain": [
       "<Figure size 432x288 with 1 Axes>"
      ]
     },
     "metadata": {
      "needs_background": "light"
     },
     "output_type": "display_data"
    }
   ],
   "source": [
    "sns.histplot(data=train, y='device_protection', hue='churn', multiple='stack')"
   ]
  },
  {
   "cell_type": "code",
   "execution_count": 57,
   "id": "178a586e",
   "metadata": {},
   "outputs": [
    {
     "data": {
      "application/vnd.jupyter.widget-view+json": {
       "model_id": "e051ae75217745bdb2bd553bdae57d49",
       "version_major": 2,
       "version_minor": 0
      },
      "text/plain": [
       "Button(description='Toggle Pandas/Lux', layout=Layout(top='5px', width='140px'), style=ButtonStyle())"
      ]
     },
     "metadata": {},
     "output_type": "display_data"
    },
    {
     "data": {
      "application/vnd.jupyter.widget-view+json": {
       "model_id": "c0dc64b62cb04e53b547d64327177a82",
       "version_major": 2,
       "version_minor": 0
      },
      "text/plain": [
       "Output()"
      ]
     },
     "metadata": {},
     "output_type": "display_data"
    }
   ],
   "source": [
    "train['device_protection'][df.churn == 'Yes'].value_counts()"
   ]
  },
  {
   "cell_type": "code",
   "execution_count": 58,
   "id": "13dfb057",
   "metadata": {},
   "outputs": [
    {
     "data": {
      "application/vnd.jupyter.widget-view+json": {
       "model_id": "5dee6030b45f4b43bf53fe863f10bfe6",
       "version_major": 2,
       "version_minor": 0
      },
      "text/plain": [
       "Button(description='Toggle Pandas/Lux', layout=Layout(top='5px', width='140px'), style=ButtonStyle())"
      ]
     },
     "metadata": {},
     "output_type": "display_data"
    },
    {
     "data": {
      "application/vnd.jupyter.widget-view+json": {
       "model_id": "720489ec835c48fd8de9004811be024b",
       "version_major": 2,
       "version_minor": 0
      },
      "text/plain": [
       "Output()"
      ]
     },
     "metadata": {},
     "output_type": "display_data"
    }
   ],
   "source": [
    "train['device_protection'][df.churn == 'No'].value_counts()"
   ]
  },
  {
   "cell_type": "code",
   "execution_count": 59,
   "id": "3c284a00",
   "metadata": {},
   "outputs": [
    {
     "data": {
      "text/plain": [
       "<AxesSubplot:xlabel='Count', ylabel='tech_support'>"
      ]
     },
     "execution_count": 59,
     "metadata": {},
     "output_type": "execute_result"
    },
    {
     "data": {
      "image/png": "[encoded data removed]",
      "text/plain": [
       "<Figure size 432x288 with 1 Axes>"
      ]
     },
     "metadata": {
      "needs_background": "light"
     },
     "output_type": "display_data"
    }
   ],
   "source": [
    "sns.histplot(data=train, y='tech_support', hue='churn', multiple='stack')"
   ]
  },
  {
   "cell_type": "code",
   "execution_count": 60,
   "id": "650e2c37",
   "metadata": {},
   "outputs": [
    {
     "data": {
      "application/vnd.jupyter.widget-view+json": {
       "model_id": "a08bd14b5b874082a2f189ac84fc5c56",
       "version_major": 2,
       "version_minor": 0
      },
      "text/plain": [
       "Button(description='Toggle Pandas/Lux', layout=Layout(top='5px', width='140px'), style=ButtonStyle())"
      ]
     },
     "metadata": {},
     "output_type": "display_data"
    },
    {
     "data": {
      "application/vnd.jupyter.widget-view+json": {
       "model_id": "8abb2aa78f8941f4869431e6e3a6ce77",
       "version_major": 2,
       "version_minor": 0
      },
      "text/plain": [
       "Output()"
      ]
     },
     "metadata": {},
     "output_type": "display_data"
    }
   ],
   "source": [
    "train['tech_support'][df.churn == 'Yes'].value_counts()"
   ]
  },
  {
   "cell_type": "code",
   "execution_count": 61,
   "id": "9495ddbf",
   "metadata": {},
   "outputs": [
    {
     "data": {
      "application/vnd.jupyter.widget-view+json": {
       "model_id": "a4cf39e2dea64c3895c73d912143f944",
       "version_major": 2,
       "version_minor": 0
      },
      "text/plain": [
       "Button(description='Toggle Pandas/Lux', layout=Layout(top='5px', width='140px'), style=ButtonStyle())"
      ]
     },
     "metadata": {},
     "output_type": "display_data"
    },
    {
     "data": {
      "application/vnd.jupyter.widget-view+json": {
       "model_id": "e67636a84be54e63a2b2c661633af422",
       "version_major": 2,
       "version_minor": 0
      },
      "text/plain": [
       "Output()"
      ]
     },
     "metadata": {},
     "output_type": "display_data"
    }
   ],
   "source": [
    "train['tech_support'][df.churn == 'No'].value_counts()"
   ]
  },
  {
   "cell_type": "code",
   "execution_count": 62,
   "id": "9ce0037d",
   "metadata": {},
   "outputs": [
    {
     "data": {
      "text/plain": [
       "<AxesSubplot:xlabel='Count', ylabel='streaming_tv'>"
      ]
     },
     "execution_count": 62,
     "metadata": {},
     "output_type": "execute_result"
    },
    {
     "data": {
      "image/png": "[encoded data removed]",
      "text/plain": [
       "<Figure size 432x288 with 1 Axes>"
      ]
     },
     "metadata": {
      "needs_background": "light"
     },
     "output_type": "display_data"
    }
   ],
   "source": [
    "sns.histplot(data=train, y='streaming_tv', hue='churn', multiple='stack')"
   ]
  },
  {
   "cell_type": "code",
   "execution_count": 63,
   "id": "5df64747",
   "metadata": {},
   "outputs": [
    {
     "data": {
      "application/vnd.jupyter.widget-view+json": {
       "model_id": "101ebfe9a6d347b0a55a2694d68c462f",
       "version_major": 2,
       "version_minor": 0
      },
      "text/plain": [
       "Button(description='Toggle Pandas/Lux', layout=Layout(top='5px', width='140px'), style=ButtonStyle())"
      ]
     },
     "metadata": {},
     "output_type": "display_data"
    },
    {
     "data": {
      "application/vnd.jupyter.widget-view+json": {
       "model_id": "77fbda2de8754943b26436768a0f9dd2",
       "version_major": 2,
       "version_minor": 0
      },
      "text/plain": [
       "Output()"
      ]
     },
     "metadata": {},
     "output_type": "display_data"
    }
   ],
   "source": [
    "train['streaming_tv'][df.churn == 'Yes'].value_counts()"
   ]
  },
  {
   "cell_type": "code",
   "execution_count": 64,
   "id": "ff685d50",
   "metadata": {},
   "outputs": [
    {
     "data": {
      "application/vnd.jupyter.widget-view+json": {
       "model_id": "5506f19c766344d2a10a90709422d497",
       "version_major": 2,
       "version_minor": 0
      },
      "text/plain": [
       "Button(description='Toggle Pandas/Lux', layout=Layout(top='5px', width='140px'), style=ButtonStyle())"
      ]
     },
     "metadata": {},
     "output_type": "display_data"
    },
    {
     "data": {
      "application/vnd.jupyter.widget-view+json": {
       "model_id": "e3cfed8e03574532b269fe31980f10fd",
       "version_major": 2,
       "version_minor": 0
      },
      "text/plain": [
       "Output()"
      ]
     },
     "metadata": {},
     "output_type": "display_data"
    }
   ],
   "source": [
    "train['streaming_tv'][df.churn == 'No'].value_counts()"
   ]
  },
  {
   "cell_type": "code",
   "execution_count": 65,
   "id": "1133243c",
   "metadata": {},
   "outputs": [
    {
     "data": {
      "text/plain": [
       "<AxesSubplot:xlabel='Count', ylabel='streaming_movies'>"
      ]
     },
     "execution_count": 65,
     "metadata": {},
     "output_type": "execute_result"
    },
    {
     "data": {
      "image/png": "[encoded data removed]",
      "text/plain": [
       "<Figure size 432x288 with 1 Axes>"
      ]
     },
     "metadata": {
      "needs_background": "light"
     },
     "output_type": "display_data"
    }
   ],
   "source": [
    "sns.histplot(data=train, y='streaming_movies', hue='churn', multiple='stack')"
   ]
  },
  {
   "cell_type": "code",
   "execution_count": 66,
   "id": "9af06f09",
   "metadata": {},
   "outputs": [
    {
     "data": {
      "application/vnd.jupyter.widget-view+json": {
       "model_id": "d10211c5742046e38e4f0ad704e9ea8f",
       "version_major": 2,
       "version_minor": 0
      },
      "text/plain": [
       "Button(description='Toggle Pandas/Lux', layout=Layout(top='5px', width='140px'), style=ButtonStyle())"
      ]
     },
     "metadata": {},
     "output_type": "display_data"
    },
    {
     "data": {
      "application/vnd.jupyter.widget-view+json": {
       "model_id": "c5103a6a2f294f2a87ee998cc1f7d089",
       "version_major": 2,
       "version_minor": 0
      },
      "text/plain": [
       "Output()"
      ]
     },
     "metadata": {},
     "output_type": "display_data"
    }
   ],
   "source": [
    "train['streaming_movies'][df.churn == 'Yes'].value_counts()"
   ]
  },
  {
   "cell_type": "code",
   "execution_count": 67,
   "id": "5a9a637f",
   "metadata": {
    "scrolled": true
   },
   "outputs": [
    {
     "data": {
      "application/vnd.jupyter.widget-view+json": {
       "model_id": "2dea219dcc244bd9a0c7718a6a8edd69",
       "version_major": 2,
       "version_minor": 0
      },
      "text/plain": [
       "Button(description='Toggle Pandas/Lux', layout=Layout(top='5px', width='140px'), style=ButtonStyle())"
      ]
     },
     "metadata": {},
     "output_type": "display_data"
    },
    {
     "data": {
      "application/vnd.jupyter.widget-view+json": {
       "model_id": "a1cc8a7d282348dca173bfad70bb4036",
       "version_major": 2,
       "version_minor": 0
      },
      "text/plain": [
       "Output()"
      ]
     },
     "metadata": {},
     "output_type": "display_data"
    }
   ],
   "source": [
    "train['streaming_movies'][df.churn == 'No'].value_counts()"
   ]
  },
  {
   "cell_type": "markdown",
   "id": "284ac95d",
   "metadata": {},
   "source": [
    "# People with streaming_tv or movies churn at similar rates<br><br>But people without online_security, backup, tech support, and device protection churn at higher rates"
   ]
  },
  {
   "cell_type": "code",
   "execution_count": 126,
   "id": "4936171b",
   "metadata": {},
   "outputs": [
    {
     "data": {
      "image/png": "[encoded data removed]",
      "text/plain": [
       "<Figure size 432x288 with 1 Axes>"
      ]
     },
     "metadata": {
      "needs_background": "light"
     },
     "output_type": "display_data"
    }
   ],
   "source": [
    "sns.histplot(data=train, y='contract_type', hue='churn', multiple='stack')\n",
    "plt.title('The month-to-month group churns WAY more\\nthan those caught in contracts, but what can you do?')\n",
    "plt.show()"
   ]
  },
  {
   "cell_type": "code",
   "execution_count": 69,
   "id": "bd9d78b8",
   "metadata": {},
   "outputs": [
    {
     "data": {
      "application/vnd.jupyter.widget-view+json": {
       "model_id": "e9c9757f68244e918bfc4e5ccb614e49",
       "version_major": 2,
       "version_minor": 0
      },
      "text/plain": [
       "Button(description='Toggle Pandas/Lux', layout=Layout(top='5px', width='140px'), style=ButtonStyle())"
      ]
     },
     "metadata": {},
     "output_type": "display_data"
    },
    {
     "data": {
      "application/vnd.jupyter.widget-view+json": {
       "model_id": "e11db0ee467f4dbca4de45cfa358f628",
       "version_major": 2,
       "version_minor": 0
      },
      "text/plain": [
       "Output()"
      ]
     },
     "metadata": {},
     "output_type": "display_data"
    }
   ],
   "source": [
    "train['contract_type'][df.churn == 'Yes'].value_counts()"
   ]
  },
  {
   "cell_type": "code",
   "execution_count": 70,
   "id": "1f621b0a",
   "metadata": {},
   "outputs": [
    {
     "data": {
      "application/vnd.jupyter.widget-view+json": {
       "model_id": "6969c3815821497b900ccbba62fcbdc1",
       "version_major": 2,
       "version_minor": 0
      },
      "text/plain": [
       "Button(description='Toggle Pandas/Lux', layout=Layout(top='5px', width='140px'), style=ButtonStyle())"
      ]
     },
     "metadata": {},
     "output_type": "display_data"
    },
    {
     "data": {
      "application/vnd.jupyter.widget-view+json": {
       "model_id": "dc2709b373f24cae993dacf5b0573968",
       "version_major": 2,
       "version_minor": 0
      },
      "text/plain": [
       "Output()"
      ]
     },
     "metadata": {},
     "output_type": "display_data"
    }
   ],
   "source": [
    "train['contract_type'][df.churn == 'No'].value_counts()"
   ]
  },
  {
   "cell_type": "code",
   "execution_count": 165,
   "id": "bb943e0d",
   "metadata": {},
   "outputs": [
    {
     "data": {
      "image/png": "[encoded data removed]",
      "text/plain": [
       "<Figure size 432x288 with 1 Axes>"
      ]
     },
     "metadata": {
      "needs_background": "light"
     },
     "output_type": "display_data"
    }
   ],
   "source": [
    "sns.histplot(data=train, y='paperless_billing', hue='churn', multiple='stack')\n",
    "plt.title('Paperless billing is a positive indicator of churn\\nat twice the rate of paper billing', \n",
    "          fontdict={'fontsize':16}\n",
    "         )\n",
    "plt.text(300, 'Yes', f'838\\n{Percent(838/(838+1671))}')\n",
    "plt.text(1000, 'Yes', f'{1671}\\n{Percent(1671/(838+1671))}')\n",
    "plt.text(300, 'No', f'{283}\\n{Percent(283/(283+1433))}')\n",
    "plt.text(1000, 'No', f'{1433}\\n{Percent(1433/(283+1433))}')\n",
    "\n",
    "plt.show()"
   ]
  },
  {
   "cell_type": "code",
   "execution_count": 72,
   "id": "f9cec1ff",
   "metadata": {},
   "outputs": [
    {
     "data": {
      "application/vnd.jupyter.widget-view+json": {
       "model_id": "c46734b0fdb64dc887b4e4b1b35f9727",
       "version_major": 2,
       "version_minor": 0
      },
      "text/plain": [
       "Button(description='Toggle Pandas/Lux', layout=Layout(top='5px', width='140px'), style=ButtonStyle())"
      ]
     },
     "metadata": {},
     "output_type": "display_data"
    },
    {
     "data": {
      "application/vnd.jupyter.widget-view+json": {
       "model_id": "6e23574aa52d4cd5aaec173bfa05e406",
       "version_major": 2,
       "version_minor": 0
      },
      "text/plain": [
       "Output()"
      ]
     },
     "metadata": {},
     "output_type": "display_data"
    }
   ],
   "source": [
    "train['paperless_billing'][df.churn == 'Yes'].value_counts()"
   ]
  },
  {
   "cell_type": "code",
   "execution_count": 73,
   "id": "5939275a",
   "metadata": {},
   "outputs": [
    {
     "data": {
      "application/vnd.jupyter.widget-view+json": {
       "model_id": "37efa9888fd8475a93cebde5a82db98a",
       "version_major": 2,
       "version_minor": 0
      },
      "text/plain": [
       "Button(description='Toggle Pandas/Lux', layout=Layout(top='5px', width='140px'), style=ButtonStyle())"
      ]
     },
     "metadata": {},
     "output_type": "display_data"
    },
    {
     "data": {
      "application/vnd.jupyter.widget-view+json": {
       "model_id": "43a8caa5b9e549d29b7becdbdfe21fc9",
       "version_major": 2,
       "version_minor": 0
      },
      "text/plain": [
       "Output()"
      ]
     },
     "metadata": {},
     "output_type": "display_data"
    }
   ],
   "source": [
    "train['paperless_billing'][df.churn == 'No'].value_counts()"
   ]
  },
  {
   "cell_type": "code",
   "execution_count": 166,
   "id": "d4b62719",
   "metadata": {},
   "outputs": [
    {
     "data": {
      "image/png": "[encoded data removed]",
      "text/plain": [
       "<Figure size 432x288 with 1 Axes>"
      ]
     },
     "metadata": {
      "needs_background": "light"
     },
     "output_type": "display_data"
    }
   ],
   "source": [
    "sns.histplot(data=train, y='payment_type', hue='churn', multiple='stack')\n",
    "plt.title('The E-check may be the bain of our customers continued tenure',\n",
    "          fontdict={'fontsize':16}\n",
    "         )\n",
    "# Bank transfer (automatic)\n",
    "plt.text(200, 'Bank transfer (automatic)', f'{144}\\n{Percent(144/(144+789))}')\n",
    "plt.text(650, 'Bank transfer (automatic)', f'{789}\\n{Percent(789/(144+789))}')\n",
    "\n",
    "# Electronic Check\n",
    "plt.text(200, 'Electronic check', f'{643}\\n{Percent(643/(643+780))}')\n",
    "plt.text(650, 'Electronic check', f'{780}\\n{Percent(780/(643+780))}')\n",
    "\n",
    "# Mailed Check\n",
    "plt.text(200, 'Mailed check', f'{189}\\n{Percent(189/(189+761))}')\n",
    "plt.text(500, 'Mailed check', f'{761}\\n{Percent(761/(189+761))}')\n",
    "\n",
    "# Credit Card\n",
    "plt.text(200, 'Credit card (automatic)', f'{145}\\n{Percent(145/(145+774))}')\n",
    "plt.text(500, 'Credit card (automatic)', f'{774}\\n{Percent(774/(145+774))}')\n",
    "\n",
    "plt.show()"
   ]
  },
  {
   "cell_type": "code",
   "execution_count": 147,
   "id": "7238f2ef",
   "metadata": {},
   "outputs": [
    {
     "data": {
      "application/vnd.jupyter.widget-view+json": {
       "model_id": "facd12dce0224c65a7ab56226889e4ef",
       "version_major": 2,
       "version_minor": 0
      },
      "text/plain": [
       "Button(description='Toggle Pandas/Lux', layout=Layout(top='5px', width='140px'), style=ButtonStyle())"
      ]
     },
     "metadata": {},
     "output_type": "display_data"
    },
    {
     "data": {
      "application/vnd.jupyter.widget-view+json": {
       "model_id": "9a9967321bf64fca8a33ed092f1418ff",
       "version_major": 2,
       "version_minor": 0
      },
      "text/plain": [
       "Output()"
      ]
     },
     "metadata": {},
     "output_type": "display_data"
    }
   ],
   "source": [
    "train['payment_type'][df.churn == 'Yes'].value_counts(sort=False)"
   ]
  },
  {
   "cell_type": "code",
   "execution_count": 148,
   "id": "7d9f7ee7",
   "metadata": {},
   "outputs": [
    {
     "data": {
      "application/vnd.jupyter.widget-view+json": {
       "model_id": "fa28603c494745e0b41024f28e940150",
       "version_major": 2,
       "version_minor": 0
      },
      "text/plain": [
       "Button(description='Toggle Pandas/Lux', layout=Layout(top='5px', width='140px'), style=ButtonStyle())"
      ]
     },
     "metadata": {},
     "output_type": "display_data"
    },
    {
     "data": {
      "application/vnd.jupyter.widget-view+json": {
       "model_id": "cd5d1d3e2aad4083ba7bbb4ca999afd8",
       "version_major": 2,
       "version_minor": 0
      },
      "text/plain": [
       "Output()"
      ]
     },
     "metadata": {},
     "output_type": "display_data"
    }
   ],
   "source": [
    "train['payment_type'][df.churn == 'No'].value_counts(sort=False)"
   ]
  },
  {
   "cell_type": "code",
   "execution_count": 172,
   "id": "b0ea0880",
   "metadata": {},
   "outputs": [
    {
     "data": {
      "image/png": "[encoded data removed]",
      "text/plain": [
       "<Figure size 432x288 with 1 Axes>"
      ]
     },
     "metadata": {
      "needs_background": "light"
     },
     "output_type": "display_data"
    }
   ],
   "source": [
    "sns.histplot(data=train, x='monthly_charges', hue='churn', multiple='stack', bins=20)\n",
    "plt.title('Higher monthly charges leads to... nothing?')\n",
    "plt.show()"
   ]
  },
  {
   "cell_type": "code",
   "execution_count": 78,
   "id": "f20bcb20",
   "metadata": {
    "collapsed": true
   },
   "outputs": [
    {
     "data": {
      "application/vnd.jupyter.widget-view+json": {
       "model_id": "570aab0f8081472c98b67db0d9eaac7e",
       "version_major": 2,
       "version_minor": 0
      },
      "text/plain": [
       "Button(description='Toggle Pandas/Lux', layout=Layout(top='5px', width='140px'), style=ButtonStyle())"
      ]
     },
     "metadata": {},
     "output_type": "display_data"
    },
    {
     "data": {
      "application/vnd.jupyter.widget-view+json": {
       "model_id": "2d49bbbb21c8490e82c489f58c1fe554",
       "version_major": 2,
       "version_minor": 0
      },
      "text/plain": [
       "Output()"
      ]
     },
     "metadata": {},
     "output_type": "display_data"
    }
   ],
   "source": [
    "train['monthly_charges'][df.churn == 'Yes'].value_counts()"
   ]
  },
  {
   "cell_type": "code",
   "execution_count": 79,
   "id": "0bdd259b",
   "metadata": {
    "collapsed": true
   },
   "outputs": [
    {
     "data": {
      "application/vnd.jupyter.widget-view+json": {
       "model_id": "9215f23b9ceb49d590820eab1763fc15",
       "version_major": 2,
       "version_minor": 0
      },
      "text/plain": [
       "Button(description='Toggle Pandas/Lux', layout=Layout(top='5px', width='140px'), style=ButtonStyle())"
      ]
     },
     "metadata": {},
     "output_type": "display_data"
    },
    {
     "data": {
      "application/vnd.jupyter.widget-view+json": {
       "model_id": "8db9f1c80ae0423094a162f108eaa54a",
       "version_major": 2,
       "version_minor": 0
      },
      "text/plain": [
       "Output()"
      ]
     },
     "metadata": {},
     "output_type": "display_data"
    }
   ],
   "source": [
    "train['monthly_charges'][df.churn == 'No'].value_counts()"
   ]
  },
  {
   "cell_type": "code",
   "execution_count": 173,
   "id": "e9b40dfd",
   "metadata": {},
   "outputs": [
    {
     "data": {
      "image/png": "[encoded data removed]",
      "text/plain": [
       "<Figure size 432x288 with 1 Axes>"
      ]
     },
     "metadata": {
      "needs_background": "light"
     },
     "output_type": "display_data"
    }
   ],
   "source": [
    "sns.histplot(data=train, y='total_charges', hue='churn', multiple='stack')\n",
    "plt.title('People that churn do so before spending $8,000')\n",
    "plt.show()"
   ]
  },
  {
   "cell_type": "code",
   "execution_count": 81,
   "id": "a5526c41",
   "metadata": {
    "collapsed": true
   },
   "outputs": [
    {
     "data": {
      "application/vnd.jupyter.widget-view+json": {
       "model_id": "41f0b1f97375431e93890c537575dd55",
       "version_major": 2,
       "version_minor": 0
      },
      "text/plain": [
       "Button(description='Toggle Pandas/Lux', layout=Layout(top='5px', width='140px'), style=ButtonStyle())"
      ]
     },
     "metadata": {},
     "output_type": "display_data"
    },
    {
     "data": {
      "application/vnd.jupyter.widget-view+json": {
       "model_id": "2b1ebba9276c479daaddcb777aea1898",
       "version_major": 2,
       "version_minor": 0
      },
      "text/plain": [
       "Output()"
      ]
     },
     "metadata": {},
     "output_type": "display_data"
    }
   ],
   "source": [
    "train['total_charges'][df.churn == 'Yes'].value_counts()"
   ]
  },
  {
   "cell_type": "code",
   "execution_count": 82,
   "id": "37e870db",
   "metadata": {
    "collapsed": true
   },
   "outputs": [
    {
     "data": {
      "application/vnd.jupyter.widget-view+json": {
       "model_id": "0647f6ea70c0437aba03927fbaf5dfe3",
       "version_major": 2,
       "version_minor": 0
      },
      "text/plain": [
       "Button(description='Toggle Pandas/Lux', layout=Layout(top='5px', width='140px'), style=ButtonStyle())"
      ]
     },
     "metadata": {},
     "output_type": "display_data"
    },
    {
     "data": {
      "application/vnd.jupyter.widget-view+json": {
       "model_id": "a90c020c7dd34789a9486b011d5dbbd3",
       "version_major": 2,
       "version_minor": 0
      },
      "text/plain": [
       "Output()"
      ]
     },
     "metadata": {},
     "output_type": "display_data"
    }
   ],
   "source": [
    "train['total_charges'][df.churn == 'No'].value_counts()"
   ]
  },
  {
   "cell_type": "markdown",
   "id": "08273b3b",
   "metadata": {},
   "source": [
    "# What are some of our takeaways thus far?\n",
    "\n",
    "  - Things that aren't related to churn...\n",
    "    - gender - they churn evenly\n",
    "      - Can probably drop this field and not use it as a feature\n",
    "    - phone servie\n",
    "      - Everyone has phone service except a portion of the DSL customers\n",
    "    - multiple lines\n",
    "      - Multiple lines seems to line up with the DSL customers that do have phone\n",
    "  - Things that don't matter much...\n",
    "    - senior citizens - don't make up a great deal of customers\n",
    "    - Streaming_tv\n",
    "    - Streaming_movies\n",
    "  - Things that seem to have a relationship to churn...\n",
    "    - partner - no partner has more churn\n",
    "    - dependents - no dependents has more churn\n",
    "    - Fiber - DSL - No ISP 42%/19%/8% Churn\n",
    "    - online backup      - not having leads to churn\n",
    "    - online security    - not having leads to churn\n",
    "    - device protection  - not having leads to churn\n",
    "    - tech support       - not having leads to churn\n",
    "    - Electronic check seems to be the LARGEST indicator of churn\n",
    "      - 45% of customers using E-checks churn"
   ]
  },
  {
   "cell_type": "code",
   "execution_count": 271,
   "id": "8690770e",
   "metadata": {},
   "outputs": [],
   "source": [
    "drop_columns = ['gender', 'phone_service', 'multiple_lines', 'streaming_tv', 'streaming_movies']"
   ]
  },
  {
   "cell_type": "code",
   "execution_count": 178,
   "id": "df332b80",
   "metadata": {},
   "outputs": [
    {
     "name": "stdout",
     "output_type": "stream",
     "text": [
      "<class 'lux.core.frame.LuxDataFrame'>\n",
      "Int64Index: 4225 entries, 5911 to 3586\n",
      "Data columns (total 22 columns):\n",
      " #   Column                 Non-Null Count  Dtype  \n",
      "---  ------                 --------------  -----  \n",
      " 0   customer_id            4225 non-null   object \n",
      " 1   gender                 4225 non-null   object \n",
      " 2   senior_citizen         4225 non-null   int64  \n",
      " 3   partner                4225 non-null   object \n",
      " 4   dependents             4225 non-null   object \n",
      " 5   tenure                 4225 non-null   int64  \n",
      " 6   phone_service          4225 non-null   object \n",
      " 7   multiple_lines         4225 non-null   object \n",
      " 8   internet_service_type  4225 non-null   object \n",
      " 9   online_security        4225 non-null   object \n",
      " 10  online_backup          4225 non-null   object \n",
      " 11  device_protection      4225 non-null   object \n",
      " 12  tech_support           4225 non-null   object \n",
      " 13  streaming_tv           4225 non-null   object \n",
      " 14  streaming_movies       4225 non-null   object \n",
      " 15  contract_type          4225 non-null   object \n",
      " 16  paperless_billing      4225 non-null   object \n",
      " 17  payment_type           4225 non-null   object \n",
      " 18  monthly_charges        4225 non-null   float64\n",
      " 19  total_charges          4225 non-null   float64\n",
      " 20  churn                  4225 non-null   object \n",
      " 21  null_charges           4225 non-null   bool   \n",
      "dtypes: bool(1), float64(2), int64(2), object(17)\n",
      "memory usage: 859.3+ KB\n"
     ]
    }
   ],
   "source": [
    "train.info()"
   ]
  },
  {
   "cell_type": "code",
   "execution_count": 183,
   "id": "97cb9cb3",
   "metadata": {},
   "outputs": [
    {
     "data": {
      "image/png": "[encoded data removed]",
      "text/plain": [
       "<Figure size 835.625x360 with 2 Axes>"
      ]
     },
     "metadata": {
      "needs_background": "light"
     },
     "output_type": "display_data"
    }
   ],
   "source": [
    "sns.relplot(data=train, \n",
    "            x='tenure', \n",
    "            y='total_charges', \n",
    "            hue='internet_service_type',\n",
    "            hue_order=['Fiber optic', 'DSL', 'None'], \n",
    "            col='phone_service'\n",
    "           )\n",
    "plt.title('Only DSL customers may or may not have phone service\\n\\\n",
    "This leads to lower total charges over time for DSL w/o Phone')\n",
    "plt.show()"
   ]
  },
  {
   "cell_type": "code",
   "execution_count": 190,
   "id": "3966aad9",
   "metadata": {},
   "outputs": [],
   "source": [
    "DSLy = len(train.internet_service_type[(train.internet_service_type == 'DSL')\\\n",
    "                            & (train.phone_service == 'Yes')])"
   ]
  },
  {
   "cell_type": "code",
   "execution_count": 191,
   "id": "6e1d3862",
   "metadata": {},
   "outputs": [],
   "source": [
    "DSLn = len(train.internet_service_type[(train.internet_service_type == 'DSL')\\\n",
    "                            & (train.phone_service == 'No')])"
   ]
  },
  {
   "cell_type": "code",
   "execution_count": 192,
   "id": "8b974b4d",
   "metadata": {},
   "outputs": [
    {
     "name": "stdout",
     "output_type": "stream",
     "text": [
      "\n",
      "People with DSL+Phone make up: 72.84%\n",
      "\n",
      "While those with DSL and no Phone: 27.16%\n",
      "\n"
     ]
    }
   ],
   "source": [
    "print(f'''\n",
    "People with DSL+Phone make up: {Percent(DSLy/(DSLy+DSLn))}\n",
    "\n",
    "While those with DSL and no Phone: {Percent(DSLn/(DSLy+DSLn))}\n",
    "''')"
   ]
  },
  {
   "cell_type": "code",
   "execution_count": 193,
   "id": "e37eea68",
   "metadata": {},
   "outputs": [
    {
     "data": {
      "application/vnd.jupyter.widget-view+json": {
       "model_id": "d04005eb1d394c7985bb705fd0e805e0",
       "version_major": 2,
       "version_minor": 0
      },
      "text/plain": [
       "Button(description='Toggle Pandas/Lux', layout=Layout(top='5px', width='140px'), style=ButtonStyle())"
      ]
     },
     "metadata": {},
     "output_type": "display_data"
    },
    {
     "data": {
      "application/vnd.jupyter.widget-view+json": {
       "model_id": "71b2074234e94f51bbf359b069569ef1",
       "version_major": 2,
       "version_minor": 0
      },
      "text/plain": [
       "Output()"
      ]
     },
     "metadata": {},
     "output_type": "display_data"
    }
   ],
   "source": [
    "train.internet_service_type[(train.internet_service_type == 'Fiber optic')\\\n",
    "                            & (train.phone_service == 'No')]\n"
   ]
  },
  {
   "cell_type": "markdown",
   "id": "b77f4dfa",
   "metadata": {},
   "source": [
    "## Questions I have\n",
    "  - Are people with Fiber optic forced to have phone service also?\n",
    "    - The DSL group has over a quater (27.16%) of users with no phone,<br> and Fiber optic customers have phone service 100% of the time"
   ]
  },
  {
   "cell_type": "code",
   "execution_count": null,
   "id": "2a968861",
   "metadata": {},
   "outputs": [],
   "source": []
  },
  {
   "cell_type": "markdown",
   "id": "635253c6",
   "metadata": {},
   "source": [
    "### Let's see what's a little deeper here...\n",
    "  - Maybe we should separate the classes of customers to see if they all have the same drivers\n",
    "  - Might also just drop everyone that hasn't had a chance to churn yet (they don't tell us anything)"
   ]
  },
  {
   "cell_type": "code",
   "execution_count": 195,
   "id": "6c352c31",
   "metadata": {},
   "outputs": [
    {
     "data": {
      "application/vnd.jupyter.widget-view+json": {
       "model_id": "2fe6081e2047415f801170539a2b359d",
       "version_major": 2,
       "version_minor": 0
      },
      "text/plain": [
       "Button(description='Toggle Pandas/Lux', layout=Layout(top='5px', width='140px'), style=ButtonStyle())"
      ]
     },
     "metadata": {},
     "output_type": "display_data"
    },
    {
     "data": {
      "application/vnd.jupyter.widget-view+json": {
       "model_id": "d863ce09b7f54b1b8df367ca94a9ba9f",
       "version_major": 2,
       "version_minor": 0
      },
      "text/plain": [
       "Output()"
      ]
     },
     "metadata": {},
     "output_type": "display_data"
    }
   ],
   "source": [
    "# Find the names of the contract types so we can start fidling\n",
    "train.contract_type.value_counts(dropna=False)"
   ]
  },
  {
   "cell_type": "code",
   "execution_count": 198,
   "id": "794e230f",
   "metadata": {},
   "outputs": [
    {
     "data": {
      "application/vnd.jupyter.widget-view+json": {
       "model_id": "c6d785047ae34120924e575fb5d68ffa",
       "version_major": 2,
       "version_minor": 0
      },
      "text/plain": [
       "Button(description='Toggle Pandas/Lux', layout=Layout(top='5px', width='140px'), style=ButtonStyle())"
      ]
     },
     "metadata": {},
     "output_type": "display_data"
    },
    {
     "data": {
      "application/vnd.jupyter.widget-view+json": {
       "model_id": "fd2e36f18bc043a0bf960ca94bfee502",
       "version_major": 2,
       "version_minor": 0
      },
      "text/plain": [
       "Output()"
      ]
     },
     "metadata": {},
     "output_type": "display_data"
    }
   ],
   "source": [
    "# If contract type is Two year, and the tenure is under 25 months they couldn't have churned\n",
    "train[(train.contract_type == 'Two year')&(train.tenure < 25)].churn.value_counts()"
   ]
  },
  {
   "cell_type": "code",
   "execution_count": 214,
   "id": "21198921",
   "metadata": {},
   "outputs": [
    {
     "data": {
      "application/vnd.jupyter.widget-view+json": {
       "model_id": "a525b4ef787148899b5f537fa31667a6",
       "version_major": 2,
       "version_minor": 0
      },
      "text/plain": [
       "Button(description='Toggle Pandas/Lux', layout=Layout(top='5px', width='140px'), style=ButtonStyle())"
      ]
     },
     "metadata": {},
     "output_type": "display_data"
    },
    {
     "data": {
      "application/vnd.jupyter.widget-view+json": {
       "model_id": "42297139b8dc4986bed2903a15a019df",
       "version_major": 2,
       "version_minor": 0
      },
      "text/plain": [
       "Output()"
      ]
     },
     "metadata": {},
     "output_type": "display_data"
    }
   ],
   "source": [
    "# This is interesting... Customer with a 1-year contract churning on month 2\n",
    "train[(train.contract_type == 'One year')&(train.tenure < 3)].churn.value_counts()"
   ]
  },
  {
   "cell_type": "code",
   "execution_count": 215,
   "id": "e9edbd5c",
   "metadata": {},
   "outputs": [
    {
     "data": {
      "application/vnd.jupyter.widget-view+json": {
       "model_id": "5794abece24f49a2bacb4c082a3df80c",
       "version_major": 2,
       "version_minor": 0
      },
      "text/plain": [
       "Button(description='Toggle Pandas/Lux', layout=Layout(top='5px', width='140px'), style=ButtonStyle())"
      ]
     },
     "metadata": {},
     "output_type": "display_data"
    },
    {
     "data": {
      "application/vnd.jupyter.widget-view+json": {
       "model_id": "3c1da1c023814c399aad25817dc46a32",
       "version_major": 2,
       "version_minor": 0
      },
      "text/plain": [
       "Output()"
      ]
     },
     "metadata": {},
     "output_type": "display_data"
    }
   ],
   "source": [
    "# Phone only customer, mailed check\n",
    "train[(train.contract_type == 'One year')&(train.tenure < 3)&(train.churn == 'Yes')]"
   ]
  },
  {
   "cell_type": "code",
   "execution_count": 222,
   "id": "ef36c8e1",
   "metadata": {},
   "outputs": [
    {
     "data": {
      "application/vnd.jupyter.widget-view+json": {
       "model_id": "",
       "version_major": 2,
       "version_minor": 0
      },
      "text/plain": [
       "Button(description='Toggle Pandas/Lux', layout=Layout(top='5px', width='140px'), style=ButtonStyle())"
      ]
     },
     "metadata": {},
     "output_type": "display_data"
    },
    {
     "data": {
      "application/vnd.jupyter.widget-view+json": {
       "model_id": "",
       "version_major": 2,
       "version_minor": 0
      },
      "text/plain": [
       "Output()"
      ]
     },
     "metadata": {},
     "output_type": "display_data"
    }
   ],
   "source": [
    "train[(train.contract_type == 'One year')&(train.tenure < 10)].churn.value_counts()"
   ]
  },
  {
   "cell_type": "code",
   "execution_count": 223,
   "id": "fbfbe24b",
   "metadata": {},
   "outputs": [
    {
     "data": {
      "application/vnd.jupyter.widget-view+json": {
       "model_id": "",
       "version_major": 2,
       "version_minor": 0
      },
      "text/plain": [
       "Button(description='Toggle Pandas/Lux', layout=Layout(top='5px', width='140px'), style=ButtonStyle())"
      ]
     },
     "metadata": {},
     "output_type": "display_data"
    },
    {
     "data": {
      "application/vnd.jupyter.widget-view+json": {
       "model_id": "",
       "version_major": 2,
       "version_minor": 0
      },
      "text/plain": [
       "Output()"
      ]
     },
     "metadata": {},
     "output_type": "display_data"
    }
   ],
   "source": [
    "# Next is a DSL customer with no add on services and automatic Bank Transfer at 9 months\n",
    "train[(train.contract_type == 'One year')&(train.tenure < 10)&(train.churn == 'Yes')]"
   ]
  },
  {
   "cell_type": "code",
   "execution_count": 226,
   "id": "8835fc61",
   "metadata": {},
   "outputs": [
    {
     "data": {
      "application/vnd.jupyter.widget-view+json": {
       "model_id": "",
       "version_major": 2,
       "version_minor": 0
      },
      "text/plain": [
       "Button(description='Toggle Pandas/Lux', layout=Layout(top='5px', width='140px'), style=ButtonStyle())"
      ]
     },
     "metadata": {},
     "output_type": "display_data"
    },
    {
     "data": {
      "application/vnd.jupyter.widget-view+json": {
       "model_id": "",
       "version_major": 2,
       "version_minor": 0
      },
      "text/plain": [
       "Output()"
      ]
     },
     "metadata": {},
     "output_type": "display_data"
    }
   ],
   "source": [
    "train[(train.contract_type == 'One year')&(train.tenure < 13)].churn.value_counts()"
   ]
  },
  {
   "cell_type": "code",
   "execution_count": 263,
   "id": "95cc3843",
   "metadata": {},
   "outputs": [],
   "source": [
    "# get the index of the one year contract drops\n",
    "one_year_drops = train[(train.contract_type == 'One year')&(train.tenure < 13)].index\n",
    "# get the index of the two year contract drops\n",
    "two_year_drops = train[(train.contract_type == 'Two year')&(train.tenure < 25)].index\n",
    "# cast both.tolist() and addd them together to have an index to drop from train\n",
    "contract_drops = one_year_drops.tolist()+two_year_drops.tolist()"
   ]
  },
  {
   "cell_type": "code",
   "execution_count": 227,
   "id": "bd4f8176",
   "metadata": {},
   "outputs": [
    {
     "data": {
      "application/vnd.jupyter.widget-view+json": {
       "model_id": "6f94401c4c2c4dd195bf904a844984db",
       "version_major": 2,
       "version_minor": 0
      },
      "text/plain": [
       "Button(description='Toggle Pandas/Lux', layout=Layout(top='5px', width='140px'), style=ButtonStyle())"
      ]
     },
     "metadata": {},
     "output_type": "display_data"
    },
    {
     "data": {
      "application/vnd.jupyter.widget-view+json": {
       "model_id": "102e4c0c485b4290acc71eb6f1ee38fd",
       "version_major": 2,
       "version_minor": 0
      },
      "text/plain": [
       "Output()"
      ]
     },
     "metadata": {},
     "output_type": "display_data"
    }
   ],
   "source": [
    "# Next is a DSL customer with no add on services and automatic Bank Transfer at 9 months\n",
    "train[(train.contract_type == 'One year')&(train.tenure < 13)&(train.churn == 'Yes')]"
   ]
  },
  {
   "cell_type": "code",
   "execution_count": 276,
   "id": "afb88dc6",
   "metadata": {},
   "outputs": [
    {
     "data": {
      "text/plain": [
       "<AxesSubplot:xlabel='tenure', ylabel='churn1'>"
      ]
     },
     "execution_count": 276,
     "metadata": {},
     "output_type": "execute_result"
    },
    {
     "data": {
      "image/png": "[encoded data removed]",
      "text/plain": [
       "<Figure size 1008x576 with 1 Axes>"
      ]
     },
     "metadata": {
      "needs_background": "light"
     },
     "output_type": "display_data"
    }
   ],
   "source": [
    "plt.figure(figsize=(14,8))\n",
    "sns.histplot(data=tenure_churn, x='tenure', y='churn1', bins=70)"
   ]
  },
  {
   "cell_type": "code",
   "execution_count": 242,
   "id": "0a01f699",
   "metadata": {},
   "outputs": [],
   "source": [
    "train['churn1'] = train.churn == \"Yes\""
   ]
  },
  {
   "cell_type": "code",
   "execution_count": 274,
   "id": "82126abb",
   "metadata": {},
   "outputs": [],
   "source": [
    "train['churn1'] = train['churn1'].map({False: 0, True:1})"
   ]
  },
  {
   "cell_type": "code",
   "execution_count": 275,
   "id": "f31748f7",
   "metadata": {
    "collapsed": true
   },
   "outputs": [
    {
     "data": {
      "application/vnd.jupyter.widget-view+json": {
       "model_id": "a38a50ee5d084be9adae73ecb4a1d628",
       "version_major": 2,
       "version_minor": 0
      },
      "text/plain": [
       "Button(description='Toggle Pandas/Lux', layout=Layout(top='5px', width='140px'), style=ButtonStyle())"
      ]
     },
     "metadata": {},
     "output_type": "display_data"
    },
    {
     "data": {
      "application/vnd.jupyter.widget-view+json": {
       "model_id": "eb0664703cf54f2597c7d38eb8b98c74",
       "version_major": 2,
       "version_minor": 0
      },
      "text/plain": [
       "Output()"
      ]
     },
     "metadata": {},
     "output_type": "display_data"
    }
   ],
   "source": [
    "train['churn1']"
   ]
  },
  {
   "cell_type": "raw",
   "id": "05239739",
   "metadata": {},
   "source": []
  },
  {
   "cell_type": "code",
   "execution_count": 248,
   "id": "fd96a4b0",
   "metadata": {},
   "outputs": [],
   "source": [
    "tenure_churn = train[['tenure', 'churn1']].groupby('tenure').sum()"
   ]
  },
  {
   "cell_type": "code",
   "execution_count": 266,
   "id": "c3d9214c",
   "metadata": {},
   "outputs": [
    {
     "name": "stdout",
     "output_type": "stream",
     "text": [
      "<class 'lux.core.frame.LuxDataFrame'>\n",
      "Int64Index: 4225 entries, 5911 to 3586\n",
      "Data columns (total 23 columns):\n",
      " #   Column                 Non-Null Count  Dtype  \n",
      "---  ------                 --------------  -----  \n",
      " 0   customer_id            4225 non-null   object \n",
      " 1   gender                 4225 non-null   object \n",
      " 2   senior_citizen         4225 non-null   int64  \n",
      " 3   partner                4225 non-null   object \n",
      " 4   dependents             4225 non-null   object \n",
      " 5   tenure                 4225 non-null   int64  \n",
      " 6   phone_service          4225 non-null   object \n",
      " 7   multiple_lines         4225 non-null   object \n",
      " 8   internet_service_type  4225 non-null   object \n",
      " 9   online_security        4225 non-null   object \n",
      " 10  online_backup          4225 non-null   object \n",
      " 11  device_protection      4225 non-null   object \n",
      " 12  tech_support           4225 non-null   object \n",
      " 13  streaming_tv           4225 non-null   object \n",
      " 14  streaming_movies       4225 non-null   object \n",
      " 15  contract_type          4225 non-null   object \n",
      " 16  paperless_billing      4225 non-null   object \n",
      " 17  payment_type           4225 non-null   object \n",
      " 18  monthly_charges        4225 non-null   float64\n",
      " 19  total_charges          4225 non-null   float64\n",
      " 20  churn                  4225 non-null   object \n",
      " 21  null_charges           4225 non-null   bool   \n",
      " 22  churn1                 4225 non-null   bool   \n",
      "dtypes: bool(2), float64(2), int64(2), object(17)\n",
      "memory usage: 863.5+ KB\n"
     ]
    }
   ],
   "source": [
    " train.info()"
   ]
  },
  {
   "cell_type": "code",
   "execution_count": 267,
   "id": "df0f40de",
   "metadata": {},
   "outputs": [],
   "source": [
    "train.drop(index=contract_drops, inplace=True)"
   ]
  },
  {
   "cell_type": "code",
   "execution_count": 280,
   "id": "5119fb40",
   "metadata": {},
   "outputs": [
    {
     "data": {
      "text/plain": [
       "['gender',\n",
       " 'phone_service',\n",
       " 'multiple_lines',\n",
       " 'streaming_tv',\n",
       " 'streaming_movies',\n",
       " 'churn',\n",
       " 'null_charges',\n",
       " 'cutomer_id']"
      ]
     },
     "execution_count": 280,
     "metadata": {},
     "output_type": "execute_result"
    }
   ],
   "source": [
    "drop_columns"
   ]
  },
  {
   "cell_type": "code",
   "execution_count": 278,
   "id": "d2ee04da",
   "metadata": {},
   "outputs": [],
   "source": [
    "drop_columns += ['churn', 'null_charges', 'cutomer_id']\n",
    "# love when I make a typo that breaks my code and I hvae to rewrite/run code, copy and paste..."
   ]
  },
  {
   "cell_type": "code",
   "execution_count": 281,
   "id": "ac8a29ea",
   "metadata": {},
   "outputs": [],
   "source": [
    "# copy paste and fix the typo\n",
    "drop_columns = ['gender',\n",
    " 'phone_service',\n",
    " 'multiple_lines',\n",
    " 'streaming_tv',\n",
    " 'streaming_movies',\n",
    " 'churn',\n",
    " 'null_charges',\n",
    " 'customer_id']"
   ]
  },
  {
   "cell_type": "code",
   "execution_count": 289,
   "id": "32bf5fba",
   "metadata": {},
   "outputs": [],
   "source": [
    "train.drop(columns=drop_columns, inplace=True)"
   ]
  },
  {
   "cell_type": "code",
   "execution_count": 283,
   "id": "4f363cf7",
   "metadata": {
    "collapsed": true
   },
   "outputs": [
    {
     "ename": "AttributeError",
     "evalue": "'LuxDataFrame' object has no attribute 'map'",
     "output_type": "error",
     "traceback": [
      "\u001b[0;31m---------------------------------------------------------------------------\u001b[0m",
      "\u001b[0;31mAttributeError\u001b[0m                            Traceback (most recent call last)",
      "Input \u001b[0;32mIn [283]\u001b[0m, in \u001b[0;36m<cell line: 1>\u001b[0;34m()\u001b[0m\n\u001b[0;32m----> 1\u001b[0m \u001b[43mtrain\u001b[49m\u001b[43m[\u001b[49m\u001b[43m[\u001b[49m\u001b[38;5;124;43m'\u001b[39;49m\u001b[38;5;124;43mpartner\u001b[39;49m\u001b[38;5;124;43m'\u001b[39;49m\u001b[43m,\u001b[49m\u001b[43m \u001b[49m\n\u001b[1;32m      2\u001b[0m \u001b[43m       \u001b[49m\u001b[38;5;124;43m'\u001b[39;49m\u001b[38;5;124;43mdependents\u001b[39;49m\u001b[38;5;124;43m'\u001b[39;49m\u001b[43m,\u001b[49m\u001b[43m \u001b[49m\n\u001b[1;32m      3\u001b[0m \u001b[43m       \u001b[49m\u001b[38;5;124;43m'\u001b[39;49m\u001b[38;5;124;43monline_security\u001b[39;49m\u001b[38;5;124;43m'\u001b[39;49m\u001b[43m,\u001b[49m\u001b[43m \u001b[49m\n\u001b[1;32m      4\u001b[0m \u001b[43m       \u001b[49m\u001b[38;5;124;43m'\u001b[39;49m\u001b[38;5;124;43monline_backup\u001b[39;49m\u001b[38;5;124;43m'\u001b[39;49m\u001b[43m,\u001b[49m\u001b[43m \u001b[49m\n\u001b[1;32m      5\u001b[0m \u001b[43m       \u001b[49m\u001b[38;5;124;43m'\u001b[39;49m\u001b[38;5;124;43mdevice_protection\u001b[39;49m\u001b[38;5;124;43m'\u001b[39;49m\u001b[43m,\u001b[49m\u001b[43m \u001b[49m\n\u001b[1;32m      6\u001b[0m \u001b[43m       \u001b[49m\u001b[38;5;124;43m'\u001b[39;49m\u001b[38;5;124;43mtech_support\u001b[39;49m\u001b[38;5;124;43m'\u001b[39;49m\u001b[43m,\u001b[49m\u001b[43m \u001b[49m\n\u001b[1;32m      7\u001b[0m \u001b[43m       \u001b[49m\u001b[38;5;124;43m'\u001b[39;49m\u001b[38;5;124;43mpaperless_billing\u001b[39;49m\u001b[38;5;124;43m'\u001b[39;49m\u001b[43m]\u001b[49m\u001b[43m]\u001b[49m\u001b[38;5;241;43m.\u001b[39;49m\u001b[43mmap\u001b[49m({\u001b[38;5;124m'\u001b[39m\u001b[38;5;124mYes\u001b[39m\u001b[38;5;124m'\u001b[39m: \u001b[38;5;241m1\u001b[39m, \u001b[38;5;124m'\u001b[39m\u001b[38;5;124mNo\u001b[39m\u001b[38;5;124m'\u001b[39m: \u001b[38;5;241m0\u001b[39m, \u001b[38;5;124m'\u001b[39m\u001b[38;5;124mNo internet service\u001b[39m\u001b[38;5;124m'\u001b[39m: \u001b[38;5;241m0\u001b[39m})\n",
      "File \u001b[0;32m/opt/homebrew/anaconda3/lib/python3.9/site-packages/lux/core/frame.py:177\u001b[0m, in \u001b[0;36mLuxDataFrame.__getattr__\u001b[0;34m(self, name)\u001b[0m\n\u001b[1;32m    176\u001b[0m \u001b[38;5;28;01mdef\u001b[39;00m \u001b[38;5;21m__getattr__\u001b[39m(\u001b[38;5;28mself\u001b[39m, name):\n\u001b[0;32m--> 177\u001b[0m     ret_value \u001b[38;5;241m=\u001b[39m \u001b[38;5;28;43msuper\u001b[39;49m\u001b[43m(\u001b[49m\u001b[43mLuxDataFrame\u001b[49m\u001b[43m,\u001b[49m\u001b[43m \u001b[49m\u001b[38;5;28;43mself\u001b[39;49m\u001b[43m)\u001b[49m\u001b[38;5;241;43m.\u001b[39;49m\u001b[38;5;21;43m__getattr__\u001b[39;49m\u001b[43m(\u001b[49m\u001b[43mname\u001b[49m\u001b[43m)\u001b[49m\n\u001b[1;32m    178\u001b[0m     \u001b[38;5;28mself\u001b[39m\u001b[38;5;241m.\u001b[39mexpire_metadata()\n\u001b[1;32m    179\u001b[0m     \u001b[38;5;28mself\u001b[39m\u001b[38;5;241m.\u001b[39mexpire_recs()\n",
      "File \u001b[0;32m/opt/homebrew/anaconda3/lib/python3.9/site-packages/pandas/core/generic.py:5575\u001b[0m, in \u001b[0;36mNDFrame.__getattr__\u001b[0;34m(self, name)\u001b[0m\n\u001b[1;32m   5568\u001b[0m \u001b[38;5;28;01mif\u001b[39;00m (\n\u001b[1;32m   5569\u001b[0m     name \u001b[38;5;129;01mnot\u001b[39;00m \u001b[38;5;129;01min\u001b[39;00m \u001b[38;5;28mself\u001b[39m\u001b[38;5;241m.\u001b[39m_internal_names_set\n\u001b[1;32m   5570\u001b[0m     \u001b[38;5;129;01mand\u001b[39;00m name \u001b[38;5;129;01mnot\u001b[39;00m \u001b[38;5;129;01min\u001b[39;00m \u001b[38;5;28mself\u001b[39m\u001b[38;5;241m.\u001b[39m_metadata\n\u001b[1;32m   5571\u001b[0m     \u001b[38;5;129;01mand\u001b[39;00m name \u001b[38;5;129;01mnot\u001b[39;00m \u001b[38;5;129;01min\u001b[39;00m \u001b[38;5;28mself\u001b[39m\u001b[38;5;241m.\u001b[39m_accessors\n\u001b[1;32m   5572\u001b[0m     \u001b[38;5;129;01mand\u001b[39;00m \u001b[38;5;28mself\u001b[39m\u001b[38;5;241m.\u001b[39m_info_axis\u001b[38;5;241m.\u001b[39m_can_hold_identifiers_and_holds_name(name)\n\u001b[1;32m   5573\u001b[0m ):\n\u001b[1;32m   5574\u001b[0m     \u001b[38;5;28;01mreturn\u001b[39;00m \u001b[38;5;28mself\u001b[39m[name]\n\u001b[0;32m-> 5575\u001b[0m \u001b[38;5;28;01mreturn\u001b[39;00m \u001b[38;5;28;43mobject\u001b[39;49m\u001b[38;5;241;43m.\u001b[39;49m\u001b[38;5;21;43m__getattribute__\u001b[39;49m\u001b[43m(\u001b[49m\u001b[38;5;28;43mself\u001b[39;49m\u001b[43m,\u001b[49m\u001b[43m \u001b[49m\u001b[43mname\u001b[49m\u001b[43m)\u001b[49m\n",
      "\u001b[0;31mAttributeError\u001b[0m: 'LuxDataFrame' object has no attribute 'map'"
     ]
    }
   ],
   "source": [
    "train[['partner', \n",
    "       'dependents', \n",
    "       'online_security', \n",
    "       'online_backup', \n",
    "       'device_protection', \n",
    "       'tech_support', \n",
    "       'paperless_billing']].map({'Yes': 1, 'No': 0, 'No internet service': 0})"
   ]
  },
  {
   "cell_type": "code",
   "execution_count": 285,
   "id": "cf152d06",
   "metadata": {},
   "outputs": [],
   "source": [
    "train.partner = train.partner.map({'Yes': 1, 'No': 0, 'No internet service': 0})"
   ]
  },
  {
   "cell_type": "code",
   "execution_count": 286,
   "id": "62b776cf",
   "metadata": {
    "collapsed": true
   },
   "outputs": [
    {
     "data": {
      "application/vnd.jupyter.widget-view+json": {
       "model_id": "310050b24bab4e4195e2d59731d46edb",
       "version_major": 2,
       "version_minor": 0
      },
      "text/plain": [
       "Button(description='Toggle Pandas/Lux', layout=Layout(top='5px', width='140px'), style=ButtonStyle())"
      ]
     },
     "metadata": {},
     "output_type": "display_data"
    },
    {
     "data": {
      "application/vnd.jupyter.widget-view+json": {
       "model_id": "69a3e8626b204941a834babf91196f04",
       "version_major": 2,
       "version_minor": 0
      },
      "text/plain": [
       "Output()"
      ]
     },
     "metadata": {},
     "output_type": "display_data"
    }
   ],
   "source": [
    "train.partner"
   ]
  },
  {
   "cell_type": "code",
   "execution_count": 287,
   "id": "f91e6dc9",
   "metadata": {},
   "outputs": [],
   "source": [
    "# train.dependents = train.dependents.map({'Yes': 1, 'No': 0, 'No internet service': 0})\n",
    "# train.online_backup = train.online_backup.map({'Yes': 1, 'No': 0, 'No internet service': 0})\n",
    "# train.online_security = train.online_security.map({'Yes': 1, 'No': 0, 'No internet service': 0}\n",
    "for i in train[['dependents', \n",
    "       'online_security', \n",
    "       'online_backup', \n",
    "       'device_protection', \n",
    "       'tech_support', \n",
    "       'paperless_billing']]:\n",
    "    train[i] = train[i].map({'Yes': 1, 'No': 0, 'No internet service': 0})"
   ]
  },
  {
   "cell_type": "code",
   "execution_count": 290,
   "id": "f2a90a4d",
   "metadata": {},
   "outputs": [
    {
     "data": {
      "application/vnd.jupyter.widget-view+json": {
       "model_id": "51cb8237602d4bf5aa29da98e527348b",
       "version_major": 2,
       "version_minor": 0
      },
      "text/plain": [
       "Button(description='Toggle Pandas/Lux', layout=Layout(top='5px', width='140px'), style=ButtonStyle())"
      ]
     },
     "metadata": {},
     "output_type": "display_data"
    },
    {
     "data": {
      "application/vnd.jupyter.widget-view+json": {
       "model_id": "d8764ba1cd3941faac7332ac3ad244c8",
       "version_major": 2,
       "version_minor": 0
      },
      "text/plain": [
       "Output()"
      ]
     },
     "metadata": {},
     "output_type": "display_data"
    }
   ],
   "source": [
    "train"
   ]
  },
  {
   "cell_type": "code",
   "execution_count": 291,
   "id": "44cfb437",
   "metadata": {},
   "outputs": [],
   "source": [
    "dummy_list = ['internet_service_type', 'contract_type', 'payment_type']"
   ]
  },
  {
   "cell_type": "code",
   "execution_count": 293,
   "id": "623f9a4e",
   "metadata": {},
   "outputs": [],
   "source": [
    "dummies = pd.get_dummies(train[dummy_list])"
   ]
  },
  {
   "cell_type": "code",
   "execution_count": 296,
   "id": "46689d4a",
   "metadata": {},
   "outputs": [],
   "source": [
    "train = pd.concat([train, dummies], axis=1)"
   ]
  },
  {
   "cell_type": "code",
   "execution_count": 298,
   "id": "21e01742",
   "metadata": {},
   "outputs": [],
   "source": [
    "train['add_ons'] = train.online_backup + train.online_security + train.device_protection + train.tech_support"
   ]
  },
  {
   "cell_type": "code",
   "execution_count": 300,
   "id": "ffb146fc",
   "metadata": {},
   "outputs": [
    {
     "data": {
      "application/vnd.jupyter.widget-view+json": {
       "model_id": "0624ac84d400487691c9ebb67baf2c5e",
       "version_major": 2,
       "version_minor": 0
      },
      "text/plain": [
       "Button(description='Toggle Pandas/Lux', layout=Layout(top='5px', width='140px'), style=ButtonStyle())"
      ]
     },
     "metadata": {},
     "output_type": "display_data"
    },
    {
     "data": {
      "application/vnd.jupyter.widget-view+json": {
       "model_id": "41bc8321a870427da5a10bf4f8621f58",
       "version_major": 2,
       "version_minor": 0
      },
      "text/plain": [
       "Output()"
      ]
     },
     "metadata": {},
     "output_type": "display_data"
    }
   ],
   "source": [
    "train.add_ons"
   ]
  },
  {
   "cell_type": "code",
   "execution_count": 301,
   "id": "7c0622b8",
   "metadata": {},
   "outputs": [
    {
     "name": "stdout",
     "output_type": "stream",
     "text": [
      "<class 'lux.core.frame.LuxDataFrame'>\n",
      "Int64Index: 4057 entries, 5911 to 2127\n",
      "Data columns (total 26 columns):\n",
      " #   Column                                  Non-Null Count  Dtype  \n",
      "---  ------                                  --------------  -----  \n",
      " 0   senior_citizen                          4057 non-null   int64  \n",
      " 1   partner                                 4057 non-null   int64  \n",
      " 2   dependents                              4057 non-null   int64  \n",
      " 3   tenure                                  4057 non-null   int64  \n",
      " 4   internet_service_type                   4057 non-null   object \n",
      " 5   online_security                         4057 non-null   int64  \n",
      " 6   online_backup                           4057 non-null   int64  \n",
      " 7   device_protection                       4057 non-null   int64  \n",
      " 8   tech_support                            4057 non-null   int64  \n",
      " 9   contract_type                           4057 non-null   object \n",
      " 10  paperless_billing                       4057 non-null   int64  \n",
      " 11  payment_type                            4057 non-null   object \n",
      " 12  monthly_charges                         4057 non-null   float64\n",
      " 13  total_charges                           4057 non-null   float64\n",
      " 14  churn1                                  4057 non-null   int64  \n",
      " 15  internet_service_type_DSL               4057 non-null   uint8  \n",
      " 16  internet_service_type_Fiber optic       4057 non-null   uint8  \n",
      " 17  internet_service_type_None              4057 non-null   uint8  \n",
      " 18  contract_type_Month-to-month            4057 non-null   uint8  \n",
      " 19  contract_type_One year                  4057 non-null   uint8  \n",
      " 20  contract_type_Two year                  4057 non-null   uint8  \n",
      " 21  payment_type_Bank transfer (automatic)  4057 non-null   uint8  \n",
      " 22  payment_type_Credit card (automatic)    4057 non-null   uint8  \n",
      " 23  payment_type_Electronic check           4057 non-null   uint8  \n",
      " 24  payment_type_Mailed check               4057 non-null   uint8  \n",
      " 25  add_ons                                 4057 non-null   int64  \n",
      "dtypes: float64(2), int64(11), object(3), uint8(10)\n",
      "memory usage: 578.4+ KB\n"
     ]
    }
   ],
   "source": [
    "train.info()"
   ]
  },
  {
   "cell_type": "code",
   "execution_count": 302,
   "id": "87598191",
   "metadata": {},
   "outputs": [],
   "source": [
    "drop_dummies = ['internet_service_type', \n",
    "               'online_security', \n",
    "               'online_backup', \n",
    "               'device_protection', \n",
    "               'tech_support',\n",
    "               'contract_type',\n",
    "               'payment_type',\n",
    "               'internet_service_type_None',\n",
    "               'contract_type_Month-to-month',\n",
    "               'payment_type_Mailed check'\n",
    "              ]"
   ]
  },
  {
   "cell_type": "code",
   "execution_count": 304,
   "id": "c4bd3dca",
   "metadata": {},
   "outputs": [
    {
     "name": "stdout",
     "output_type": "stream",
     "text": [
      "<class 'lux.core.frame.LuxDataFrame'>\n",
      "Int64Index: 4057 entries, 5911 to 2127\n",
      "Data columns (total 16 columns):\n",
      " #   Column                                  Non-Null Count  Dtype  \n",
      "---  ------                                  --------------  -----  \n",
      " 0   senior_citizen                          4057 non-null   int64  \n",
      " 1   partner                                 4057 non-null   int64  \n",
      " 2   dependents                              4057 non-null   int64  \n",
      " 3   tenure                                  4057 non-null   int64  \n",
      " 4   paperless_billing                       4057 non-null   int64  \n",
      " 5   monthly_charges                         4057 non-null   float64\n",
      " 6   total_charges                           4057 non-null   float64\n",
      " 7   churn1                                  4057 non-null   int64  \n",
      " 8   internet_service_type_DSL               4057 non-null   uint8  \n",
      " 9   internet_service_type_Fiber optic       4057 non-null   uint8  \n",
      " 10  contract_type_One year                  4057 non-null   uint8  \n",
      " 11  contract_type_Two year                  4057 non-null   uint8  \n",
      " 12  payment_type_Bank transfer (automatic)  4057 non-null   uint8  \n",
      " 13  payment_type_Credit card (automatic)    4057 non-null   uint8  \n",
      " 14  payment_type_Electronic check           4057 non-null   uint8  \n",
      " 15  add_ons                                 4057 non-null   int64  \n",
      "dtypes: float64(2), int64(7), uint8(7)\n",
      "memory usage: 344.7 KB\n"
     ]
    }
   ],
   "source": [
    "train.drop(columns=drop_dummies, inplace=True)\n",
    "train.info()"
   ]
  },
  {
   "cell_type": "code",
   "execution_count": 306,
   "id": "fb5c9269",
   "metadata": {},
   "outputs": [],
   "source": [
    "train.columns = ['senior', 'partner', 'dependents', 'tenure',\n",
    "       'e_bill', 'monthly_charges', 'total_charges', 'churn1',\n",
    "       'DSL', 'Fiber',\n",
    "       'one_year', 'two_year',\n",
    "       'bank_transfer',\n",
    "       'cc', 'e_check',\n",
    "       'add_ons']"
   ]
  },
  {
   "cell_type": "code",
   "execution_count": 307,
   "id": "c34292cd",
   "metadata": {},
   "outputs": [
    {
     "data": {
      "application/vnd.jupyter.widget-view+json": {
       "model_id": "245e579d24fa4b5b88505158c467d363",
       "version_major": 2,
       "version_minor": 0
      },
      "text/plain": [
       "Button(description='Toggle Pandas/Lux', layout=Layout(top='5px', width='140px'), style=ButtonStyle())"
      ]
     },
     "metadata": {},
     "output_type": "display_data"
    },
    {
     "data": {
      "application/vnd.jupyter.widget-view+json": {
       "model_id": "a6a8dedfebb24566bf529395ff2bfa99",
       "version_major": 2,
       "version_minor": 0
      },
      "text/plain": [
       "Output()"
      ]
     },
     "metadata": {},
     "output_type": "display_data"
    }
   ],
   "source": [
    "train"
   ]
  },
  {
   "cell_type": "code",
   "execution_count": null,
   "id": "cfe345e7",
   "metadata": {},
   "outputs": [],
   "source": []
  }
 ],
 "metadata": {
  "kernelspec": {
   "display_name": "Python 3 (ipykernel)",
   "language": "python",
   "name": "python3"
  },
  "language_info": {
   "codemirror_mode": {
    "name": "ipython",
    "version": 3
   },
   "file_extension": ".py",
   "mimetype": "text/x-python",
   "name": "python",
   "nbconvert_exporter": "python",
   "pygments_lexer": "ipython3",
   "version": "3.9.12"
  }
 },
 "nbformat": 4,
 "nbformat_minor": 5
}
