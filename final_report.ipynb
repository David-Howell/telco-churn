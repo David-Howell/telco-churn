{
 "cells": [
  {
   "cell_type": "markdown",
   "id": "c3b61396",
   "metadata": {},
   "source": [
    "# Project Overview\n",
    "\n",
    "1. Business Goals\n",
    "  - Find drivers for customer churn at Telco\n",
    "    - Who churns and why...??\n",
    "  - Construct a Machine Learning model that will accurately predict customer churn.<br><br>\n",
    "  \n",
    "2. Wrangle the Data\n",
    "  - Examine the needed data on a MySQL database\n",
    "  - Import and Cache the Data for use in a Jupyter Notebook\n",
    "  - Clean and Tidy the Data<br><br>\n",
    "\n",
    "3. Expore the Data for trends and relationships\n",
    "  - More pertinent information is icluded here while there is also a reference `telco_exploration_notebook.ipynb` file with addition exploration for perusal\n",
    "  - Separation of the Data into subsets, namely:\n",
    "    - Train\n",
    "    - Validate\n",
    "    - Test\n",
    "      - These isolated sets of data will be nescesary to show veracity and reproducability\n",
    "  - Create and Test Hypothesies of trends, relationships, and correlations\n",
    "  - Visualize the Data for better conceptualization of it<br><br>\n",
    "  \n",
    "4. Use the Data to train Machine Learning models\n",
    "  - Evaluate the ML Models for accuracy and recall\n",
    "  - Determine the best models and features through iterative processes\n",
    "  - Bring these models to management<br>\n",
    "  <br>\n",
    "5. Conclusion\n",
    "  - What are the key takeaways?\n",
    "  - Did we find drviers of churn? Do our models work?\n",
    "  - What steps might be taken to detect and prevent churn?\n",
    "  - What's next? Is there more information to be gleaned?"
   ]
  },
  {
   "cell_type": "markdown",
   "id": "750ea41e",
   "metadata": {},
   "source": [
    "#  Wrangle The Data!"
   ]
  },
  {
   "cell_type": "code",
   "execution_count": 1,
   "id": "5c67b237",
   "metadata": {
    "collapsed": true
   },
   "outputs": [
    {
     "name": "stdout",
     "output_type": "stream",
     "text": [
      "\n",
      "import os\n",
      "import seaborn as sns\n",
      "import matplotlib.pyplot as plt\n",
      "import pandas as pd\n",
      "import numpy as np\n",
      "import math as m\n",
      "from scipy import stats\n",
      "from stat_tools import *\n",
      "from sklearn.model_selection import train_test_split\n",
      "import acquire\n",
      "import prepare\n",
      "from sklearn.metrics import accuracy_score, precision_score, recall_score, classification_report\n",
      "# grab Decision Tree Classifier and some helping friends from sklearn.tree\n",
      "from sklearn.tree import DecisionTreeClassifier, plot_tree, export_text\n",
      "from sklearn.ensemble import RandomForestClassifier\n",
      "from sklearn.metrics import confusion_matrix\n",
      "from sklearn.neighbors import KNeighborsClassifier\n",
      "from sklearn.linear_model import LogisticRegression\n",
      "# ignore warnings\n",
      "import warnings\n",
      "warnings.filterwarnings(\"ignore\")\n",
      "from modeling import confusion, random_forest_models\n",
      "    \n"
     ]
    }
   ],
   "source": [
    "# We need to import some libraries and functions\n",
    "from telco_setup import telco_imports\n",
    "telco_imports()"
   ]
  },
  {
   "cell_type": "markdown",
   "id": "e19df368",
   "metadata": {},
   "source": [
    "**We'll start with our imports**"
   ]
  },
  {
   "cell_type": "code",
   "execution_count": 2,
   "id": "58691252",
   "metadata": {
    "collapsed": true
   },
   "outputs": [
    {
     "name": "stdout",
     "output_type": "stream",
     "text": [
      "Prepared df: (7043, 16)\n",
      "\n",
      "Train: (4057, 16)\n",
      "Validate: (1409, 16)\n",
      "Test: (1409, 16)\n"
     ]
    }
   ],
   "source": [
    "import os\n",
    "import seaborn as sns\n",
    "import matplotlib.pyplot as plt\n",
    "import pandas as pd\n",
    "import numpy as np\n",
    "import math as m\n",
    "from scipy import stats\n",
    "from stat_tools import *\n",
    "from sklearn.model_selection import train_test_split\n",
    "import acquire\n",
    "import prepare\n",
    "from sklearn.metrics import accuracy_score, precision_score, recall_score, classification_report\n",
    "# grab Decision Tree Classifier and some helping friends from sklearn.tree\n",
    "from sklearn.tree import DecisionTreeClassifier, plot_tree, export_text\n",
    "from sklearn.ensemble import RandomForestClassifier\n",
    "from sklearn.metrics import confusion_matrix\n",
    "from sklearn.neighbors import KNeighborsClassifier\n",
    "from sklearn.linear_model import LogisticRegression\n",
    "# ignore warnings\n",
    "import warnings\n",
    "warnings.filterwarnings(\"ignore\")\n",
    "from modeling import confusion, random_forest_models"
   ]
  },
  {
   "cell_type": "code",
   "execution_count": 3,
   "id": "ef2dd98e",
   "metadata": {
    "collapsed": true,
    "slideshow": {
     "slide_type": "-"
    }
   },
   "outputs": [
    {
     "name": "stdout",
     "output_type": "stream",
     "text": [
      "<class 'pandas.core.frame.DataFrame'>\n",
      "RangeIndex: 7043 entries, 0 to 7042\n",
      "Data columns (total 21 columns):\n",
      " #   Column                 Non-Null Count  Dtype  \n",
      "---  ------                 --------------  -----  \n",
      " 0   customer_id            7043 non-null   object \n",
      " 1   gender                 7043 non-null   object \n",
      " 2   senior_citizen         7043 non-null   int64  \n",
      " 3   partner                7043 non-null   object \n",
      " 4   dependents             7043 non-null   object \n",
      " 5   tenure                 7043 non-null   int64  \n",
      " 6   phone_service          7043 non-null   object \n",
      " 7   multiple_lines         7043 non-null   object \n",
      " 8   internet_service_type  7043 non-null   object \n",
      " 9   online_security        7043 non-null   object \n",
      " 10  online_backup          7043 non-null   object \n",
      " 11  device_protection      7043 non-null   object \n",
      " 12  tech_support           7043 non-null   object \n",
      " 13  streaming_tv           7043 non-null   object \n",
      " 14  streaming_movies       7043 non-null   object \n",
      " 15  contract_type          7043 non-null   object \n",
      " 16  paperless_billing      7043 non-null   object \n",
      " 17  payment_type           7043 non-null   object \n",
      " 18  monthly_charges        7043 non-null   float64\n",
      " 19  total_charges          7043 non-null   object \n",
      " 20  churn                  7043 non-null   object \n",
      "dtypes: float64(1), int64(2), object(18)\n",
      "memory usage: 1.1+ MB\n"
     ]
    }
   ],
   "source": [
    "# Use the aqcuire file to get the data from MySQL or cache\n",
    "df = acquire.get_telco_data()\n",
    "# See if this is the right stuff\n",
    "df.info() # Check √"
   ]
  },
  {
   "cell_type": "code",
   "execution_count": 4,
   "id": "a4a975ca",
   "metadata": {
    "collapsed": true
   },
   "outputs": [
    {
     "data": {
      "text/plain": [
       "           11\n",
       "20.2       11\n",
       "19.75       9\n",
       "19.9        8\n",
       "20.05       8\n",
       "           ..\n",
       "2387.75     1\n",
       "6302.8      1\n",
       "2058.5      1\n",
       "829.55      1\n",
       "3707.6      1\n",
       "Name: total_charges, Length: 6531, dtype: int64"
      ]
     },
     "execution_count": 4,
     "metadata": {},
     "output_type": "execute_result"
    }
   ],
   "source": [
    "# Seems there's nulls in these parts... must fix\n",
    "df.total_charges.value_counts(dropna=False)"
   ]
  },
  {
   "cell_type": "markdown",
   "id": "1ed94018",
   "metadata": {},
   "source": [
    "**We found NULLS!!**\n",
    "  - Since the null values are in total charges and for customers that have tenure:0 we can move the monthly charges to them\n",
    "    - Alternately, in future versions we may drop them entirely"
   ]
  },
  {
   "cell_type": "code",
   "execution_count": 5,
   "id": "464fae0b",
   "metadata": {},
   "outputs": [],
   "source": [
    "# Pull out our trusty ol' .fix_nulls() from prepare.py\n",
    "df = prepare.fix_nulls()"
   ]
  },
  {
   "cell_type": "code",
   "execution_count": 6,
   "id": "a5c98f58",
   "metadata": {
    "collapsed": true
   },
   "outputs": [
    {
     "data": {
      "text/plain": [
       "20.20      11\n",
       "19.75       9\n",
       "19.90       8\n",
       "19.65       8\n",
       "20.05       8\n",
       "           ..\n",
       "2387.75     1\n",
       "6302.80     1\n",
       "2058.50     1\n",
       "829.55      1\n",
       "3707.60     1\n",
       "Name: total_charges, Length: 6534, dtype: int64"
      ]
     },
     "execution_count": 6,
     "metadata": {},
     "output_type": "execute_result"
    }
   ],
   "source": [
    "df.total_charges.value_counts(dropna=False) # Check √"
   ]
  },
  {
   "cell_type": "code",
   "execution_count": 7,
   "id": "b068120b",
   "metadata": {
    "scrolled": true
   },
   "outputs": [
    {
     "name": "stdout",
     "output_type": "stream",
     "text": [
      "Prepared df: (7043, 22)\n",
      "\n",
      "Train: (4225, 22)\n",
      "Validate: (1409, 22)\n",
      "Test: (1409, 22)\n"
     ]
    }
   ],
   "source": [
    "train, validate, test = prepare.split_data(df, 'churn')"
   ]
  },
  {
   "cell_type": "markdown",
   "id": "d79f18f2",
   "metadata": {},
   "source": [
    "### Finally we have a Training Set, with a Validate and Test Set "
   ]
  },
  {
   "cell_type": "markdown",
   "id": "aeb98c40",
   "metadata": {},
   "source": [
    "  - Exploration should be refined in the report because now you know which visualizations and tests led to valuable outcomes.\n",
    "  \n",
    "  "
   ]
  },
  {
   "cell_type": "code",
   "execution_count": 8,
   "id": "6d9cd6e3",
   "metadata": {
    "collapsed": true
   },
   "outputs": [
    {
     "name": "stdout",
     "output_type": "stream",
     "text": [
      "sns.histplot(data=train,     y='customer_id', hue='churn', multiple='stack')\n",
      "train['customer_id'][df.churn == 'Yes'].value_counts()\n",
      "train['customer_id'][df.churn == 'No'].value_counts()\n",
      "sns.histplot(data=train,     y='gender', hue='churn', multiple='stack')\n",
      "train['gender'][df.churn == 'Yes'].value_counts()\n",
      "train['gender'][df.churn == 'No'].value_counts()\n",
      "sns.histplot(data=train,     y='senior_citizen', hue='churn', multiple='stack')\n",
      "train['senior_citizen'][df.churn == 'Yes'].value_counts()\n",
      "train['senior_citizen'][df.churn == 'No'].value_counts()\n",
      "sns.histplot(data=train,     y='partner', hue='churn', multiple='stack')\n",
      "train['partner'][df.churn == 'Yes'].value_counts()\n",
      "train['partner'][df.churn == 'No'].value_counts()\n",
      "sns.histplot(data=train,     y='dependents', hue='churn', multiple='stack')\n",
      "train['dependents'][df.churn == 'Yes'].value_counts()\n",
      "train['dependents'][df.churn == 'No'].value_counts()\n",
      "sns.histplot(data=train,     y='tenure', hue='churn', multiple='stack')\n",
      "train['tenure'][df.churn == 'Yes'].value_counts()\n",
      "train['tenure'][df.churn == 'No'].value_counts()\n",
      "sns.histplot(data=train,     y='phone_service', hue='churn', multiple='stack')\n",
      "train['phone_service'][df.churn == 'Yes'].value_counts()\n",
      "train['phone_service'][df.churn == 'No'].value_counts()\n",
      "sns.histplot(data=train,     y='multiple_lines', hue='churn', multiple='stack')\n",
      "train['multiple_lines'][df.churn == 'Yes'].value_counts()\n",
      "train['multiple_lines'][df.churn == 'No'].value_counts()\n",
      "sns.histplot(data=train,     y='internet_service_type', hue='churn', multiple='stack')\n",
      "train['internet_service_type'][df.churn == 'Yes'].value_counts()\n",
      "train['internet_service_type'][df.churn == 'No'].value_counts()\n",
      "sns.histplot(data=train,     y='online_security', hue='churn', multiple='stack')\n",
      "train['online_security'][df.churn == 'Yes'].value_counts()\n",
      "train['online_security'][df.churn == 'No'].value_counts()\n",
      "sns.histplot(data=train,     y='online_backup', hue='churn', multiple='stack')\n",
      "train['online_backup'][df.churn == 'Yes'].value_counts()\n",
      "train['online_backup'][df.churn == 'No'].value_counts()\n",
      "sns.histplot(data=train,     y='device_protection', hue='churn', multiple='stack')\n",
      "train['device_protection'][df.churn == 'Yes'].value_counts()\n",
      "train['device_protection'][df.churn == 'No'].value_counts()\n",
      "sns.histplot(data=train,     y='tech_support', hue='churn', multiple='stack')\n",
      "train['tech_support'][df.churn == 'Yes'].value_counts()\n",
      "train['tech_support'][df.churn == 'No'].value_counts()\n",
      "sns.histplot(data=train,     y='streaming_tv', hue='churn', multiple='stack')\n",
      "train['streaming_tv'][df.churn == 'Yes'].value_counts()\n",
      "train['streaming_tv'][df.churn == 'No'].value_counts()\n",
      "sns.histplot(data=train,     y='streaming_movies', hue='churn', multiple='stack')\n",
      "train['streaming_movies'][df.churn == 'Yes'].value_counts()\n",
      "train['streaming_movies'][df.churn == 'No'].value_counts()\n",
      "sns.histplot(data=train,     y='contract_type', hue='churn', multiple='stack')\n",
      "train['contract_type'][df.churn == 'Yes'].value_counts()\n",
      "train['contract_type'][df.churn == 'No'].value_counts()\n",
      "sns.histplot(data=train,     y='paperless_billing', hue='churn', multiple='stack')\n",
      "train['paperless_billing'][df.churn == 'Yes'].value_counts()\n",
      "train['paperless_billing'][df.churn == 'No'].value_counts()\n",
      "sns.histplot(data=train,     y='payment_type', hue='churn', multiple='stack')\n",
      "train['payment_type'][df.churn == 'Yes'].value_counts()\n",
      "train['payment_type'][df.churn == 'No'].value_counts()\n",
      "sns.histplot(data=train,     y='monthly_charges', hue='churn', multiple='stack')\n",
      "train['monthly_charges'][df.churn == 'Yes'].value_counts()\n",
      "train['monthly_charges'][df.churn == 'No'].value_counts()\n",
      "sns.histplot(data=train,     y='total_charges', hue='churn', multiple='stack')\n",
      "train['total_charges'][df.churn == 'Yes'].value_counts()\n",
      "train['total_charges'][df.churn == 'No'].value_counts()\n",
      "sns.histplot(data=train,     y='churn', hue='churn', multiple='stack')\n",
      "train['churn'][df.churn == 'Yes'].value_counts()\n",
      "train['churn'][df.churn == 'No'].value_counts()\n",
      "sns.histplot(data=train,     y='null_charges', hue='churn', multiple='stack')\n",
      "train['null_charges'][df.churn == 'Yes'].value_counts()\n",
      "train['null_charges'][df.churn == 'No'].value_counts()\n"
     ]
    }
   ],
   "source": [
    "# Here we are going to start examining our training data \n",
    "# First let's print the commands to look at \n",
    "# every individual field and how it realates to churn\n",
    "for i in train:\n",
    "    print(f\"sns.histplot(data=train, \\\n",
    "    y='{i}', hue='churn', multiple='stack')\"\n",
    "         )\n",
    "    print(f\"train['{i}'][df.churn == 'Yes'].value_counts()\")\n",
    "    print(f\"train['{i}'][df.churn == 'No'].value_counts()\")    "
   ]
  },
  {
   "cell_type": "markdown",
   "id": "f2d28578",
   "metadata": {},
   "source": [
    "## Is there a difference in Churn rates based on Gender?\n",
    "- Let's take a look..."
   ]
  },
  {
   "cell_type": "code",
   "execution_count": 9,
   "id": "cbec2b13",
   "metadata": {
    "scrolled": true
   },
   "outputs": [
    {
     "data": {
      "image/png": "[encoded data removed]",
      "text/plain": [
       "<Figure size 576x360 with 1 Axes>"
      ]
     },
     "metadata": {
      "needs_background": "light"
     },
     "output_type": "display_data"
    }
   ],
   "source": [
    "# Set the size of the figure for disply\n",
    "plt.figure(figsize=(8,5))\n",
    "# Use a histograph showing gender and the % of churn in each\n",
    "sns.histplot(data=train, y='gender', hue='churn', multiple='stack')\n",
    "# Always title plots, graphs, and charts\n",
    "plt.title('Men and Women seem to churn at similar rates',\n",
    "          fontdict={'fontsize':18}\n",
    "         )\n",
    "# numbers calculated from the .value_counts()\n",
    "plt.text(175,'Male',f'578\\n{Percent(578/(578+1571))}',fontdict={'fontsize':14})\n",
    "plt.text(175,\"Female\", f'543\\n{Percent(543/(543+1533))}',fontdict={'fontsize':14})\n",
    "plt.text(1000,'Male', f'1571\\n{Percent(1571/(578+1571))}',fontdict={'fontsize':14})\n",
    "plt.text(1000,'Female', f'1533\\n{Percent(1533/(543+1533))}',fontdict={'fontsize':14})\n",
    "# Show the thing\n",
    "plt.show()"
   ]
  },
  {
   "cell_type": "markdown",
   "id": "f5601330",
   "metadata": {},
   "source": [
    "##  That doesn't look like a difference... Is it?"
   ]
  },
  {
   "cell_type": "code",
   "execution_count": 10,
   "id": "6d821ce0",
   "metadata": {},
   "outputs": [],
   "source": [
    "males = train.churn[train.gender == 'Male'].map({'No':0,\n",
    "                                                 'Yes':1\n",
    "                                                })\n",
    "# By dividing churn into male and female groups and mapping\n",
    "# No churn and Yes churn to 0 and 1 respectively we can\n",
    "# test the means of the different groups to see if they are different\n",
    "\n",
    "females = train.churn[train.gender == 'Female'].map({'No':0,\n",
    "                                                 'Yes':1\n",
    "                                                })"
   ]
  },
  {
   "cell_type": "markdown",
   "id": "4d92958b",
   "metadata": {},
   "source": [
    "## We'll make Hypotheses we can test!<br>\n",
    "_______________\n",
    "$Hₒ$ : There is no difference in churn of Males, vs churn of Females<br><br>\n",
    "$Hₐ$ : Males churn in different amounts than Females churn\n",
    "__________________________________________________________\n",
    "\n",
    "### <br>Get the Means of the distributions\n",
    "_____________"
   ]
  },
  {
   "cell_type": "code",
   "execution_count": 11,
   "id": "0c3b2670",
   "metadata": {},
   "outputs": [],
   "source": [
    "μ_males = males.mean()\n",
    "μ_females = females.mean()"
   ]
  },
  {
   "cell_type": "code",
   "execution_count": 12,
   "id": "c3d49d84",
   "metadata": {},
   "outputs": [
    {
     "data": {
      "text/plain": [
       "(0.2615606936416185, 0.26896230805025595)"
      ]
     },
     "execution_count": 12,
     "metadata": {},
     "output_type": "execute_result"
    }
   ],
   "source": [
    "μ_females, μ_males"
   ]
  },
  {
   "cell_type": "markdown",
   "id": "f39a6a71",
   "metadata": {},
   "source": [
    "**Set Alpha**"
   ]
  },
  {
   "cell_type": "code",
   "execution_count": 13,
   "id": "f6baba89",
   "metadata": {},
   "outputs": [],
   "source": [
    "α = .05"
   ]
  },
  {
   "cell_type": "markdown",
   "id": "a9be5c34",
   "metadata": {},
   "source": [
    "**Verify Assumptions**\n",
    "\n",
    "1. Independent Samples. YES! no observations in male sample exist in the female sample. \n",
    "\n",
    "2. Normal Distribution, or at least 30 observations and \"kinda\" normal. The more observations you have, the less \"normal\" it needs to appear. (CLT).  YES! Plenty of observations\n",
    "\n",
    "3. Equal Variances (the scipy methods we will use has an argument to handle when variances aren't equal, but let's use a levene test to find out)."
   ]
  },
  {
   "cell_type": "code",
   "execution_count": 14,
   "id": "123dfe81",
   "metadata": {},
   "outputs": [
    {
     "data": {
      "text/plain": [
       "(0.2966476690943107, 0.5860204625545165)"
      ]
     },
     "execution_count": 14,
     "metadata": {},
     "output_type": "execute_result"
    }
   ],
   "source": [
    "tstat, pval = stats.levene(males, females)\n",
    "\n",
    "tstat, pval"
   ]
  },
  {
   "cell_type": "markdown",
   "id": "eddfb2b4",
   "metadata": {},
   "source": [
    "**As fate would have it:** our varience seems similar"
   ]
  },
  {
   "cell_type": "code",
   "execution_count": 15,
   "id": "b4ed44c9",
   "metadata": {},
   "outputs": [
    {
     "data": {
      "text/plain": [
       "(-0.5446537148448641, 0.5860204625544931)"
      ]
     },
     "execution_count": 15,
     "metadata": {},
     "output_type": "execute_result"
    }
   ],
   "source": [
    "t,p = stats.ttest_ind(females, males)\n",
    "t,p"
   ]
  },
  {
   "cell_type": "markdown",
   "id": "44388c12",
   "metadata": {},
   "source": [
    "### We **Cannot Reject** the $H_0$: Null hypothesis"
   ]
  },
  {
   "cell_type": "markdown",
   "id": "f37084b4",
   "metadata": {},
   "source": [
    "## Do you think senior citizens make up much of the customer base?"
   ]
  },
  {
   "cell_type": "code",
   "execution_count": 16,
   "id": "5c9e0a70",
   "metadata": {
    "scrolled": false
   },
   "outputs": [
    {
     "data": {
      "image/png": "[encoded data removed]",
      "text/plain": [
       "<Figure size 576x360 with 1 Axes>"
      ]
     },
     "metadata": {
      "needs_background": "light"
     },
     "output_type": "display_data"
    }
   ],
   "source": [
    "plt.figure(figsize=(8,5))\n",
    "sns.histplot(data=train, y='senior_citizen', hue='churn', multiple='stack', bins=2)\n",
    "# Use the Hist plot, looking at senior citzens, and hue of churn, stack for better color differentiation\n",
    "plt.text(300,.8,f'277\\n{Percent(277/(277+407))}',fontdict={'fontsize':14})\n",
    "plt.text(800,.6,f'407\\n{Percent(407/(277+407))}',fontdict={'fontsize':14})\n",
    "plt.text(300,.2,f'844\\n{Percent(844/(844+2697))}',fontdict={'fontsize':14})\n",
    "plt.text(2000,.2,f'2697\\n{Percent(2697/(844+2697))}',fontdict={'fontsize':14})\n",
    "# All of the above numbers are taken from .value_counts(dropna=False) to catch any nulls we might have missed\n",
    "plt.title(f'Senior citizens seem to churn at a greater percentage\\n\\\n",
    "but also make up a much smaller percentage of total customers\\n\\\n",
    "Seniors only make up {Percent((277+407)/(277+407+844+2697))} of customers',\n",
    "          fontdict={'fontsize':18}\n",
    "         )\n",
    "plt.show()"
   ]
  },
  {
   "cell_type": "markdown",
   "id": "7e3114df",
   "metadata": {},
   "source": [
    "## We'll make Hypotheses we can test!<br>\n",
    "_______________\n",
    "$Hₒ$ : There is no difference in churn of Seniors, vs churn of Not_Seniors_yet<br><br>\n",
    "$Hₐ$ : Seniors churn in different amounts than Not_Seniors_Yet churn\n",
    "__________________________________________________________\n",
    "\n",
    "### <br>Get the Means of the distributions\n",
    "_____________"
   ]
  },
  {
   "cell_type": "code",
   "execution_count": 17,
   "id": "3ad72b53",
   "metadata": {},
   "outputs": [],
   "source": [
    "seniors = train.churn[train.senior_citizen == 1].map({'No':0,\n",
    "                                                 'Yes':1\n",
    "                                                })\n",
    "# By dividing churn into male and female groups and mapping\n",
    "# No churn and Yes churn to 0 and 1 respectively we can\n",
    "# test the means of the different groups to see if they are different\n",
    "\n",
    "not_senior_yet = train.churn[train.senior_citizen == 0].map({'No':0,\n",
    "                                                 'Yes':1\n",
    "                                                })"
   ]
  },
  {
   "cell_type": "code",
   "execution_count": 18,
   "id": "b6f7f797",
   "metadata": {},
   "outputs": [
    {
     "data": {
      "text/plain": [
       "(0.40497076023391815, 0.23835074837616493)"
      ]
     },
     "execution_count": 18,
     "metadata": {},
     "output_type": "execute_result"
    }
   ],
   "source": [
    "μ_seniors = seniors.mean()\n",
    "μ_not_senior_yet = not_senior_yet.mean()\n",
    "μ_seniors, μ_not_senior_yet"
   ]
  },
  {
   "cell_type": "markdown",
   "id": "47480d17",
   "metadata": {},
   "source": [
    "**Verify Assumptions**\n",
    "\n",
    "1. Independent Samples. YES! no observations in seniors sample exist in the not_seniors_yet sample. \n",
    "\n",
    "2. Normal Distribution, or at least 30 observations and \"kinda\" normal. The more observations you have, the less \"normal\" it needs to appear. (CLT).  YES! Plenty of observations\n",
    "\n",
    "3. Equal Variances (the scipy methods we will use has an argument to handle when variances aren't equal, but let's use a levene test to find out)."
   ]
  },
  {
   "cell_type": "code",
   "execution_count": 19,
   "id": "6d4bbf64",
   "metadata": {},
   "outputs": [
    {
     "data": {
      "text/plain": [
       "(83.21560907199049, 1.1134588331065843e-19)"
      ]
     },
     "execution_count": 19,
     "metadata": {},
     "output_type": "execute_result"
    }
   ],
   "source": [
    "tstat, pval = stats.levene(seniors, not_senior_yet)\n",
    "\n",
    "tstat, pval"
   ]
  },
  {
   "cell_type": "markdown",
   "id": "dfcd1047",
   "metadata": {},
   "source": [
    "### The Small p-value suggests they do not have equal varience"
   ]
  },
  {
   "cell_type": "code",
   "execution_count": 20,
   "id": "643d228a",
   "metadata": {},
   "outputs": [
    {
     "data": {
      "text/plain": [
       "(8.288704479313202, 4.1800740223813366e-16)"
      ]
     },
     "execution_count": 20,
     "metadata": {},
     "output_type": "execute_result"
    }
   ],
   "source": [
    "# We'll set our ttest to equal_var= False\n",
    "t,p = stats.ttest_ind(seniors, not_senior_yet, equal_var= False)\n",
    "t,p"
   ]
  },
  {
   "cell_type": "markdown",
   "id": "e954f6c4",
   "metadata": {},
   "source": [
    "## We can safely: REJECT The Null $H_0$: Hypothesis\n",
    "  - The t > 0 : True and p is near 0"
   ]
  },
  {
   "cell_type": "markdown",
   "id": "786b88e0",
   "metadata": {},
   "source": [
    "# What about payment types?\n",
    "  - Does this have an effect on churn?"
   ]
  },
  {
   "cell_type": "code",
   "execution_count": 21,
   "id": "3b403aa8",
   "metadata": {
    "scrolled": true
   },
   "outputs": [
    {
     "data": {
      "image/png": "[encoded data removed]",
      "text/plain": [
       "<Figure size 576x360 with 1 Axes>"
      ]
     },
     "metadata": {
      "needs_background": "light"
     },
     "output_type": "display_data"
    }
   ],
   "source": [
    "# We're doing the same things again here\n",
    "plt.figure(figsize=(8,5))\n",
    "sns.histplot(data=train, y='payment_type', hue='churn', multiple='stack')\n",
    "plt.title('The E-check may be the bain of our customers continued tenure',\n",
    "          fontdict={'fontsize':18}\n",
    "         )\n",
    "# Bank transfer (automatic)\n",
    "plt.text(200, 'Bank transfer (automatic)', f'{144}\\n{Percent(144/(144+789))}',fontdict={'fontsize':14})\n",
    "plt.text(650, 'Bank transfer (automatic)', f'{789}\\n{Percent(789/(144+789))}',fontdict={'fontsize':14})\n",
    "\n",
    "# Electronic Check\n",
    "plt.text(200, 'Electronic check', f'{643}\\n{Percent(643/(643+780))}',fontdict={'fontsize':14})\n",
    "plt.text(650, 'Electronic check', f'{780}\\n{Percent(780/(643+780))}',fontdict={'fontsize':14})\n",
    "\n",
    "# Mailed Check\n",
    "plt.text(200, 'Mailed check', f'{189}\\n{Percent(189/(189+761))}',fontdict={'fontsize':14})\n",
    "plt.text(500, 'Mailed check', f'{761}\\n{Percent(761/(189+761))}',fontdict={'fontsize':14})\n",
    "\n",
    "# Credit Card\n",
    "plt.text(200, 'Credit card (automatic)', f'{145}\\n{Percent(145/(145+774))}',fontdict={'fontsize':14})\n",
    "plt.text(500, 'Credit card (automatic)', f'{774}\\n{Percent(774/(145+774))}',fontdict={'fontsize':14})\n",
    "\n",
    "plt.show()"
   ]
  },
  {
   "cell_type": "markdown",
   "id": "2d0c1c2f",
   "metadata": {},
   "source": [
    "###  We can clearly see that E-check customers have the highest amout of churn<br><br>from everything we've seen so far.\n",
    "  - This will probably be an important part of our model, and is likely a driver of churn\n",
    "  - More questions need to be answered by our AR (accounts recievable) department\n",
    "    - Have there been issues with the E-check system?\n",
    "      - Is there a way to see what people do when they interact with the system?\n",
    "    - Does billing send reminders?\n",
    "    - Something is very different here...\n",
    "    "
   ]
  },
  {
   "cell_type": "markdown",
   "id": "d2f9b9e1",
   "metadata": {},
   "source": [
    "## Do people with different types of Internet service Churn differently?"
   ]
  },
  {
   "cell_type": "code",
   "execution_count": 22,
   "id": "c59f67a6",
   "metadata": {},
   "outputs": [],
   "source": [
    "#  isty = internet service type where churn has (Yes) happened\n",
    "isty = train['internet_service_type'][df.churn == 'Yes'].value_counts()\n",
    "# isty # Check √ - Index = [0]: Fiber, [1]: DSL, [2]: None\n",
    "\n",
    "# istn = internet service type where churn has (No[t]) happened\n",
    "istn = train['internet_service_type'][df.churn == 'No'].value_counts()\n",
    "# istn # Check √ - Index = [0]: DSL, [1]: Fiber, [2]: None"
   ]
  },
  {
   "cell_type": "code",
   "execution_count": 23,
   "id": "8350d261",
   "metadata": {},
   "outputs": [
    {
     "data": {
      "image/png": "[encoded data removed]",
      "text/plain": [
       "<Figure size 576x360 with 1 Axes>"
      ]
     },
     "metadata": {
      "needs_background": "light"
     },
     "output_type": "display_data"
    }
   ],
   "source": [
    "# plot the internet service type counts stacking churn and no churn\n",
    "plt.figure(figsize=(8,5))\n",
    "sns.histplot(data=train, y='internet_service_type', hue='churn', multiple='stack')\n",
    "plt.title('Fiber customers churn at more than twice the rate\\n\\\n",
    "of DSL who churn at more than twice the rate\\nof phone only customers',fontdict={'fontsize':16})\n",
    "# We can use the indexes to show percent of each service\n",
    "#     Churn/Total in that service, and No churn/total\n",
    "plt.text(300, 'DSL',f'{isty[1]}\\n{Percent(isty[1]/(isty[1]+istn[0]))}',fontdict={'fontsize':14})\n",
    "plt.text(1000, 'DSL',f'{istn[0]}\\n{Percent(istn[0]/(isty[1]+istn[0]))}',fontdict={'fontsize':14})\n",
    "plt.text(100, 'None',f'{isty[2]}\\n{Percent(isty[2]/(isty[2]+istn[2]))}',fontdict={'fontsize':14})\n",
    "plt.text(500, 'None',f'{istn[2]}\\n{Percent(istn[2]/(isty[2]+istn[2]))}',fontdict={'fontsize':14})\n",
    "plt.text(300, 'Fiber optic',f'{isty[0]}\\n{Percent(isty[0]/(isty[0]+istn[1]))}',fontdict={'fontsize':14})\n",
    "plt.text(1200, 'Fiber optic',f'{istn[1]}\\n{Percent(istn[1]/(isty[0]+istn[1]))}',fontdict={'fontsize':14})\n",
    "plt.show()"
   ]
  },
  {
   "cell_type": "markdown",
   "id": "3fec6c94",
   "metadata": {},
   "source": [
    "# Wow... Aside from E-checks <br><br>Fiber customers seem to Churn more than anyone else...\n",
    "  - What is **happening** here??\n",
    "  - Maybe looking at more aspects of this could help<br><br>\n",
    "  \n",
    "# Can we look at the tenure and total charges of these groups?"
   ]
  },
  {
   "cell_type": "code",
   "execution_count": 24,
   "id": "071a6d6a",
   "metadata": {
    "scrolled": false
   },
   "outputs": [
    {
     "data": {
      "image/png": "[encoded data removed]",
      "text/plain": [
       "<Figure size 835.625x360 with 2 Axes>"
      ]
     },
     "metadata": {
      "needs_background": "light"
     },
     "output_type": "display_data"
    }
   ],
   "source": [
    "sns.relplot(data=train, \n",
    "            x='tenure', \n",
    "            y='total_charges', \n",
    "            hue='internet_service_type',\n",
    "            hue_order=['Fiber optic', 'DSL', 'None'], \n",
    "            col='phone_service'\n",
    "           )\n",
    "plt.title('Only DSL customers may or may not have phone service\\n\\\n",
    "This leads to lower total charges over time for DSL w/o Phone',\n",
    "             y=1.2,\n",
    "             fontdict= {'fontsize':16}\n",
    "            )\n",
    "plt.show()"
   ]
  },
  {
   "cell_type": "markdown",
   "id": "69a8058c",
   "metadata": {},
   "source": [
    "## Interesting insight... where are the Fiber customers w/o Phone Service?"
   ]
  },
  {
   "cell_type": "code",
   "execution_count": 25,
   "id": "22569177",
   "metadata": {},
   "outputs": [
    {
     "name": "stdout",
     "output_type": "stream",
     "text": [
      "\n",
      "People with DSL + Phone make up: 72.84% of DSL customers\n",
      "\n",
      "While those with DSL and No Phone: 27.16%\n",
      "\n"
     ]
    }
   ],
   "source": [
    "# lets look at the percentage of DSL customers with and without Phone service\n",
    "DSLy = len(train.internet_service_type[(train.internet_service_type == 'DSL')\\\n",
    "                            & (train.phone_service == 'Yes')])\n",
    "DSLn = len(train.internet_service_type[(train.internet_service_type == 'DSL')\\\n",
    "                            & (train.phone_service == 'No')])\n",
    "# Now that we have the numbers we can divide by the total DSL customers to find out\n",
    "print(f'''\n",
    "People with DSL + Phone make up: {Percent(DSLy/(DSLy+DSLn))} of DSL customers\n",
    "\n",
    "While those with DSL and No Phone: {Percent(DSLn/(DSLy+DSLn))}\n",
    "''')"
   ]
  },
  {
   "cell_type": "code",
   "execution_count": 26,
   "id": "0dc9b575",
   "metadata": {},
   "outputs": [
    {
     "name": "stdout",
     "output_type": "stream",
     "text": [
      "\n",
      "People with Fiber + Phone make up: 100% of Fiber customers\n",
      "\n",
      "While those with Fiber and No Phone: 0%\n",
      "\n"
     ]
    }
   ],
   "source": [
    "# Here we'll do the same thing to look at Fiber customers\n",
    "train.internet_service_type[(train.internet_service_type == 'Fiber optic')\\\n",
    "                            & (train.phone_service == 'No')]\n",
    "print(f'''\n",
    "People with Fiber + Phone make up: 100% of Fiber customers\n",
    "\n",
    "While those with Fiber and No Phone: 0%\n",
    "''')"
   ]
  },
  {
   "cell_type": "markdown",
   "id": "1ebd8908",
   "metadata": {},
   "source": [
    "## Questions I have\n",
    "####  - Are people with Fiber optic forced to have phone service also?\n",
    "####    - The DSL group has over a quater (27.16%) of users with no phone,<br> and Fiber optic customers have phone service 100% of the time"
   ]
  },
  {
   "cell_type": "markdown",
   "id": "28170221",
   "metadata": {},
   "source": [
    "# Let's break these up again<br><br> to visualize the difference in churn"
   ]
  },
  {
   "cell_type": "code",
   "execution_count": 27,
   "id": "a64cf709",
   "metadata": {},
   "outputs": [
    {
     "data": {
      "image/png": "[encoded data removed]",
      "text/plain": [
       "<Figure size 835.625x360 with 2 Axes>"
      ]
     },
     "metadata": {
      "needs_background": "light"
     },
     "output_type": "display_data"
    }
   ],
   "source": [
    "sns.relplot(data=train, \n",
    "            x='tenure', \n",
    "            y='total_charges', \n",
    "            hue='internet_service_type',\n",
    "            hue_order=['Fiber optic', 'DSL', 'None'], \n",
    "            col='churn'\n",
    "           ).fig.suptitle('Phone Customers Love TELCO\\n\\\n",
    "           But We Can\\'t Keep Enough Fiber As We Age...' ,\n",
    "               fontsize = 'x-large' , \n",
    "               fontweight = 'bold' ,\n",
    "                y= 1.1\n",
    "                         )\n",
    "\n",
    "plt.show()"
   ]
  },
  {
   "cell_type": "markdown",
   "id": "5673f1bb",
   "metadata": {},
   "source": [
    "# This really shows across the spectrum that:\n",
    "\n",
    "1. Fiber customers churn early, \n",
    "2. often, and\n",
    "3. consitently throughout tenure!\n",
    "\n",
    "### And begs more questions for those with more domain knowledge\n",
    "  - Was there an outage that caused a bunch of these people to churn?\n",
    "  - Did they all churn around the same date?\n",
    "  - Are people with Fiber paying for bundled Phone Service we won't let them out of?"
   ]
  },
  {
   "cell_type": "markdown",
   "id": "6dd76dd9",
   "metadata": {},
   "source": [
    "  - Include your 3 best models in the final notebook to review. Show the steps and code you went through to fit the models, evaluate, and select."
   ]
  },
  {
   "cell_type": "markdown",
   "id": "703f1bab",
   "metadata": {},
   "source": [
    "# Let's move on to some Models!\n",
    "1. First we'll prep the data for modeling\n",
    "  - Change all the columns to numeric, encoding fields as necessary\n",
    "  - Dropping some of the columns we've already determined aren't related to churn\n",
    "    - `gender`, `streaming_tv`, `streaming_movies`"
   ]
  },
  {
   "cell_type": "code",
   "execution_count": 28,
   "id": "8859ded3",
   "metadata": {},
   "outputs": [
    {
     "name": "stdout",
     "output_type": "stream",
     "text": [
      "Prepared df: (7043, 16)\n",
      "\n",
      "Train: (4057, 16)\n",
      "Validate: (1409, 16)\n",
      "Test: (1409, 16)\n"
     ]
    }
   ],
   "source": [
    "# re-prepare the data for modeling this time\n",
    "df = prepare.fix_nulls()\n",
    "df = prepare.prep_telco_1(df)\n",
    "train, validate, test = prepare.split_data_model(df, 'churn1')"
   ]
  },
  {
   "cell_type": "code",
   "execution_count": 29,
   "id": "170c4dcd",
   "metadata": {},
   "outputs": [],
   "source": [
    "# set the X_columns and the y_column\n",
    "X_cols = train.columns.to_list()\n",
    "X_cols.remove('churn1')\n",
    "y_col = 'churn1'"
   ]
  },
  {
   "cell_type": "code",
   "execution_count": 30,
   "id": "21bcb194",
   "metadata": {
    "collapsed": true
   },
   "outputs": [
    {
     "data": {
      "text/plain": [
       "['senior',\n",
       " 'partner',\n",
       " 'dependents',\n",
       " 'tenure',\n",
       " 'e_bill',\n",
       " 'monthly_charges',\n",
       " 'total_charges',\n",
       " 'DSL',\n",
       " 'Fiber',\n",
       " 'one_year',\n",
       " 'two_year',\n",
       " 'bank_transfer',\n",
       " 'cc',\n",
       " 'e_check',\n",
       " 'add_ons']"
      ]
     },
     "execution_count": 30,
     "metadata": {},
     "output_type": "execute_result"
    }
   ],
   "source": [
    "X_cols"
   ]
  },
  {
   "cell_type": "code",
   "execution_count": 31,
   "id": "ccc85057",
   "metadata": {},
   "outputs": [
    {
     "data": {
      "text/plain": [
       "'churn1'"
      ]
     },
     "execution_count": 31,
     "metadata": {},
     "output_type": "execute_result"
    }
   ],
   "source": [
    "y_col"
   ]
  },
  {
   "cell_type": "code",
   "execution_count": 32,
   "id": "bdf44e46",
   "metadata": {},
   "outputs": [],
   "source": [
    "# Use our X and y columns for training, validation, and testing sets\n",
    "X_train, y_train = train[X_cols], train[y_col]\n",
    "X_validate, y_validate = validate[X_cols], validate[y_col]\n",
    "X_test, y_test = test[X_cols], test[y_col]"
   ]
  },
  {
   "cell_type": "markdown",
   "id": "8e7e31f4",
   "metadata": {},
   "source": [
    "## Establish the baseline assumption:\n",
    "  - Lol, no one Churns"
   ]
  },
  {
   "cell_type": "code",
   "execution_count": 33,
   "id": "efb34c2d",
   "metadata": {},
   "outputs": [
    {
     "data": {
      "text/plain": [
       "0"
      ]
     },
     "execution_count": 33,
     "metadata": {},
     "output_type": "execute_result"
    }
   ],
   "source": [
    "# Let's find our baseline \n",
    "int(y_train.mode())"
   ]
  },
  {
   "cell_type": "markdown",
   "id": "c007fb24",
   "metadata": {},
   "source": [
    "###  We'll build a function to make a number of differing models<br>and evaluate them at the same time"
   ]
  },
  {
   "cell_type": "code",
   "execution_count": 34,
   "id": "b0c87c9e",
   "metadata": {},
   "outputs": [],
   "source": [
    "def random_forest_models(num_models, rand_st=123, positive=1, max_samp=1.0, trees=100):\n",
    "    '''\n",
    "    random_forest_models is a function that:\n",
    "        \n",
    "        Takes in:   num_models=  >> The number of rf models \n",
    "                                  you want to create  ;dtype(int)\n",
    "                       rand_st=  >> Random State  \n",
    "                                  ;dtype(int) = 123 unless specified\n",
    "                      positive=  >> what is the positive test \n",
    "                                  (0 or 1)\n",
    "                      max_samp=  >> maximum samples per tree\n",
    "                                  ;dtype(int, float) = (default)1.0\n",
    "                                  if int: = number of samples\n",
    "                                  if float: = percentage of total samples\n",
    "                         trees=  >> n_estimators: number of trees in the forest\n",
    "        \n",
    "Assumed variables apply:\n",
    "    \n",
    "                  train: training dataset\n",
    "               validate: validate dataset\n",
    "                   test: test dataset\n",
    "\n",
    "                 X_cols = df.columns.drop('target_y').to_list()\n",
    "                  y_col = 'target_y'\n",
    "\n",
    "                X_train = train[X_cols]\n",
    "                y_train = train[y_col]\n",
    "                  X_val = validate[X_cols]\n",
    "                  y_val = validate[y_col]\n",
    "                 X_test = test[X_cols]\n",
    "                 y_test = test[y_col]\n",
    "                 \n",
    "        Returns: a DataFrame with predictions for each model\n",
    "    '''\n",
    "    b = int(y_train.mode())\n",
    "    preds = pd.DataFrame({\n",
    "    'actual': y_train,\n",
    "    'baseline': b,\n",
    "    })\n",
    "    TN, FP, FN, TP = confusion_matrix(preds.actual, preds.baseline).ravel()\n",
    "    print(f'''\\nBaseline vs. Actual\\n\\n\\\n",
    "    True Positive = {TP} ----  False Positive = {FP}\n",
    "    True Negative = {TN} ----  False Negative = {FN}\n",
    "    \n",
    "    Accuracy = {Percent((TN+TP)/(TN+TP+FN+FP))}\n",
    "    Recall   = {TP/(TP+FN):.2%}\n",
    "    ''')\n",
    "#     confusion(TN=TN, TP=TP, FN=FN, FP=FP)\n",
    "    depth = 11 #num_models * 2 + 1\n",
    "#     fig, ax = plt.subplot(nrows = num_models,n)\n",
    "    for i in range(1, num_models+1):\n",
    "        depth -= 1\n",
    "        name = f'model_{i}_depth_{depth}'\n",
    "        \n",
    "        rf = RandomForestClassifier(random_state = rand_st, \n",
    "                                    min_samples_leaf = i, \n",
    "                                    max_depth = depth,\n",
    "                                    max_samples = max_samp,\n",
    "                                    n_estimators = trees\n",
    "                                   )\n",
    "        rf.fit(X_train, y_train)\n",
    "        \n",
    "        preds[name] = rf.predict(X_train)\n",
    "#         val_name = f'{name}_validate'\n",
    "        TN, FP, FN, TP = confusion_matrix(preds.actual, preds[name]).ravel()\n",
    "        print(f'\\n{name}\\n\\n {rf}')\n",
    "        confusion(TN=TN, TP=TP, FN=FN, FP=FP)\n",
    "        print(f'Validation score is: {rf.score(X_validate, y_validate):.2%}')\n",
    "        print('______________________________')\n",
    "#         preds[val_name] = rf.predict(X_val)\n",
    "#         plt.subplot(i,i,12)\n",
    "#         plt.title(f'{name} feature importances')\n",
    "#         plt.barh(X_train.columns, rf.feature_importances_)\n",
    "#         plt.show\n",
    "                \n",
    "    return preds"
   ]
  },
  {
   "cell_type": "markdown",
   "id": "5eaaaf35",
   "metadata": {},
   "source": [
    "## We see right away that:<br> Baseline Accuracy is about: 73%<br>Baseline Recall is: 0.00%\n",
    "\n",
    "### We want better accuracy than that for our models<br><br>Additionally, Recall may be what we want to look for\n",
    "- Since we want to find out who IS churning, let's minimize our misses\n",
    "- bigest problem with baseline, is the Recall: 0.00%"
   ]
  },
  {
   "cell_type": "code",
   "execution_count": 35,
   "id": "e28d35a4",
   "metadata": {
    "collapsed": true
   },
   "outputs": [
    {
     "name": "stdout",
     "output_type": "stream",
     "text": [
      "\n",
      "Baseline vs. Actual\n",
      "\n",
      "    True Positive = 0 ----  False Positive = 0\n",
      "    True Negative = 2943 ----  False Negative = 1114\n",
      "    \n",
      "    Accuracy = 72.54%\n",
      "    Recall   = 0.00%\n",
      "    \n",
      "\n",
      "model_1_depth_10\n",
      "\n",
      " RandomForestClassifier(max_depth=10, max_samples=1.0, random_state=123)\n",
      "\n",
      "    _______________________________________________________________________________________\n",
      "    \n",
      "    True Positive = 779 ---- False Positive = 167\n",
      "    True Negative = 2776 ---- False Negative = 335\n",
      "    \n",
      "    Out of 4057 predictions -- Correct predictions = 3555 (True Pos + True Neg) \n",
      "    \n",
      "    REAL POSITIVE = (TP + FN) = 1114 ---- PREDICTED POSITIVE = (TP + FP) = 946\n",
      "    \n",
      "    REAL NEGATIVE = (TN + FP) = 2943 ---- PREDICTED NEGATIVE = (TN + FN) = 3111\n",
      "     \n",
      "        Accuracy = 87.63% -->> Correct Predictions / Total Predictions\n",
      "       Precision = 82.35% -->> True Positive / Predicted Positive\n",
      "             NPV = 89.23% -->> True Negative / Predicted Negative\n",
      "          Recall = 69.93% -->> True Positive / Real Positive\n",
      "     Specificity = 94.33% -->> True Negative / Real Negative\n",
      "        f1-score = 75.63% -->> Harmonic Mean of Precision and Recall\n",
      "    _______________________________________________________________________________________\n",
      "    \n",
      "Validation score is: 79.49%\n",
      "______________________________\n",
      "\n",
      "model_2_depth_9\n",
      "\n",
      " RandomForestClassifier(max_depth=9, max_samples=1.0, min_samples_leaf=2,\n",
      "                       random_state=123)\n",
      "\n",
      "    _______________________________________________________________________________________\n",
      "    \n",
      "    True Positive = 693 ---- False Positive = 224\n",
      "    True Negative = 2719 ---- False Negative = 421\n",
      "    \n",
      "    Out of 4057 predictions -- Correct predictions = 3412 (True Pos + True Neg) \n",
      "    \n",
      "    REAL POSITIVE = (TP + FN) = 1114 ---- PREDICTED POSITIVE = (TP + FP) = 917\n",
      "    \n",
      "    REAL NEGATIVE = (TN + FP) = 2943 ---- PREDICTED NEGATIVE = (TN + FN) = 3140\n",
      "     \n",
      "        Accuracy = 84.10% -->> Correct Predictions / Total Predictions\n",
      "       Precision = 75.57% -->> True Positive / Predicted Positive\n",
      "             NPV = 86.59% -->> True Negative / Predicted Negative\n",
      "          Recall = 62.21% -->> True Positive / Real Positive\n",
      "     Specificity = 92.39% -->> True Negative / Real Negative\n",
      "        f1-score = 68.24% -->> Harmonic Mean of Precision and Recall\n",
      "    _______________________________________________________________________________________\n",
      "    \n",
      "Validation score is: 79.77%\n",
      "______________________________\n",
      "\n",
      "model_3_depth_8\n",
      "\n",
      " RandomForestClassifier(max_depth=8, max_samples=1.0, min_samples_leaf=3,\n",
      "                       random_state=123)\n",
      "\n",
      "    _______________________________________________________________________________________\n",
      "    \n",
      "    True Positive = 657 ---- False Positive = 250\n",
      "    True Negative = 2693 ---- False Negative = 457\n",
      "    \n",
      "    Out of 4057 predictions -- Correct predictions = 3350 (True Pos + True Neg) \n",
      "    \n",
      "    REAL POSITIVE = (TP + FN) = 1114 ---- PREDICTED POSITIVE = (TP + FP) = 907\n",
      "    \n",
      "    REAL NEGATIVE = (TN + FP) = 2943 ---- PREDICTED NEGATIVE = (TN + FN) = 3150\n",
      "     \n",
      "        Accuracy = 82.57% -->> Correct Predictions / Total Predictions\n",
      "       Precision = 72.44% -->> True Positive / Predicted Positive\n",
      "             NPV = 85.49% -->> True Negative / Predicted Negative\n",
      "          Recall = 58.98% -->> True Positive / Real Positive\n",
      "     Specificity = 91.51% -->> True Negative / Real Negative\n",
      "        f1-score = 65.02% -->> Harmonic Mean of Precision and Recall\n",
      "    _______________________________________________________________________________________\n",
      "    \n",
      "Validation score is: 80.48%\n",
      "______________________________\n",
      "\n",
      "model_4_depth_7\n",
      "\n",
      " RandomForestClassifier(max_depth=7, max_samples=1.0, min_samples_leaf=4,\n",
      "                       random_state=123)\n",
      "\n",
      "    _______________________________________________________________________________________\n",
      "    \n",
      "    True Positive = 615 ---- False Positive = 258\n",
      "    True Negative = 2685 ---- False Negative = 499\n",
      "    \n",
      "    Out of 4057 predictions -- Correct predictions = 3300 (True Pos + True Neg) \n",
      "    \n",
      "    REAL POSITIVE = (TP + FN) = 1114 ---- PREDICTED POSITIVE = (TP + FP) = 873\n",
      "    \n",
      "    REAL NEGATIVE = (TN + FP) = 2943 ---- PREDICTED NEGATIVE = (TN + FN) = 3184\n",
      "     \n",
      "        Accuracy = 81.34% -->> Correct Predictions / Total Predictions\n",
      "       Precision = 70.45% -->> True Positive / Predicted Positive\n",
      "             NPV = 84.33% -->> True Negative / Predicted Negative\n",
      "          Recall = 55.21% -->> True Positive / Real Positive\n",
      "     Specificity = 91.23% -->> True Negative / Real Negative\n",
      "        f1-score = 61.90% -->> Harmonic Mean of Precision and Recall\n",
      "    _______________________________________________________________________________________\n",
      "    \n",
      "Validation score is: 79.84%\n",
      "______________________________\n",
      "\n",
      "model_5_depth_6\n",
      "\n",
      " RandomForestClassifier(max_depth=6, max_samples=1.0, min_samples_leaf=5,\n",
      "                       random_state=123)\n",
      "\n",
      "    _______________________________________________________________________________________\n",
      "    \n",
      "    True Positive = 577 ---- False Positive = 250\n",
      "    True Negative = 2693 ---- False Negative = 537\n",
      "    \n",
      "    Out of 4057 predictions -- Correct predictions = 3270 (True Pos + True Neg) \n",
      "    \n",
      "    REAL POSITIVE = (TP + FN) = 1114 ---- PREDICTED POSITIVE = (TP + FP) = 827\n",
      "    \n",
      "    REAL NEGATIVE = (TN + FP) = 2943 ---- PREDICTED NEGATIVE = (TN + FN) = 3230\n",
      "     \n",
      "        Accuracy = 80.60% -->> Correct Predictions / Total Predictions\n",
      "       Precision = 69.77% -->> True Positive / Predicted Positive\n",
      "             NPV = 83.37% -->> True Negative / Predicted Negative\n",
      "          Recall = 51.80% -->> True Positive / Real Positive\n",
      "     Specificity = 91.51% -->> True Negative / Real Negative\n",
      "        f1-score = 59.45% -->> Harmonic Mean of Precision and Recall\n",
      "    _______________________________________________________________________________________\n",
      "    \n",
      "Validation score is: 80.27%\n",
      "______________________________\n",
      "\n",
      "model_6_depth_5\n",
      "\n",
      " RandomForestClassifier(max_depth=5, max_samples=1.0, min_samples_leaf=6,\n",
      "                       random_state=123)\n",
      "\n",
      "    _______________________________________________________________________________________\n",
      "    \n",
      "    True Positive = 495 ---- False Positive = 220\n",
      "    True Negative = 2723 ---- False Negative = 619\n",
      "    \n",
      "    Out of 4057 predictions -- Correct predictions = 3218 (True Pos + True Neg) \n",
      "    \n",
      "    REAL POSITIVE = (TP + FN) = 1114 ---- PREDICTED POSITIVE = (TP + FP) = 715\n",
      "    \n",
      "    REAL NEGATIVE = (TN + FP) = 2943 ---- PREDICTED NEGATIVE = (TN + FN) = 3342\n",
      "     \n",
      "        Accuracy = 79.32% -->> Correct Predictions / Total Predictions\n",
      "       Precision = 69.23% -->> True Positive / Predicted Positive\n",
      "             NPV = 81.48% -->> True Negative / Predicted Negative\n",
      "          Recall = 44.43% -->> True Positive / Real Positive\n",
      "     Specificity = 92.52% -->> True Negative / Real Negative\n",
      "        f1-score = 54.13% -->> Harmonic Mean of Precision and Recall\n",
      "    _______________________________________________________________________________________\n",
      "    \n",
      "Validation score is: 80.20%\n",
      "______________________________\n",
      "\n",
      "model_7_depth_4\n",
      "\n",
      " RandomForestClassifier(max_depth=4, max_samples=1.0, min_samples_leaf=7,\n",
      "                       random_state=123)\n",
      "\n",
      "    _______________________________________________________________________________________\n",
      "    \n",
      "    True Positive = 433 ---- False Positive = 191\n",
      "    True Negative = 2752 ---- False Negative = 681\n",
      "    \n",
      "    Out of 4057 predictions -- Correct predictions = 3185 (True Pos + True Neg) \n",
      "    \n",
      "    REAL POSITIVE = (TP + FN) = 1114 ---- PREDICTED POSITIVE = (TP + FP) = 624\n",
      "    \n",
      "    REAL NEGATIVE = (TN + FP) = 2943 ---- PREDICTED NEGATIVE = (TN + FN) = 3433\n",
      "     \n",
      "        Accuracy = 78.51% -->> Correct Predictions / Total Predictions\n",
      "       Precision = 69.39% -->> True Positive / Predicted Positive\n",
      "             NPV = 80.16% -->> True Negative / Predicted Negative\n",
      "          Recall = 38.87% -->> True Positive / Real Positive\n",
      "     Specificity = 93.51% -->> True Negative / Real Negative\n",
      "        f1-score = 49.83% -->> Harmonic Mean of Precision and Recall\n",
      "    _______________________________________________________________________________________\n",
      "    \n",
      "Validation score is: 79.49%\n",
      "______________________________\n",
      "\n",
      "model_8_depth_3\n",
      "\n",
      " RandomForestClassifier(max_depth=3, max_samples=1.0, min_samples_leaf=8,\n",
      "                       random_state=123)\n",
      "\n",
      "    _______________________________________________________________________________________\n",
      "    \n",
      "    True Positive = 374 ---- False Positive = 161\n",
      "    True Negative = 2782 ---- False Negative = 740\n",
      "    \n",
      "    Out of 4057 predictions -- Correct predictions = 3156 (True Pos + True Neg) \n",
      "    \n",
      "    REAL POSITIVE = (TP + FN) = 1114 ---- PREDICTED POSITIVE = (TP + FP) = 535\n",
      "    \n",
      "    REAL NEGATIVE = (TN + FP) = 2943 ---- PREDICTED NEGATIVE = (TN + FN) = 3522\n",
      "     \n",
      "        Accuracy = 77.79% -->> Correct Predictions / Total Predictions\n",
      "       Precision = 69.91% -->> True Positive / Predicted Positive\n",
      "             NPV = 78.99% -->> True Negative / Predicted Negative\n",
      "          Recall = 33.57% -->> True Positive / Real Positive\n",
      "     Specificity = 94.53% -->> True Negative / Real Negative\n",
      "        f1-score = 45.36% -->> Harmonic Mean of Precision and Recall\n",
      "    _______________________________________________________________________________________\n",
      "    \n",
      "Validation score is: 78.78%\n",
      "______________________________\n"
     ]
    },
    {
     "name": "stdout",
     "output_type": "stream",
     "text": [
      "\n",
      "model_9_depth_2\n",
      "\n",
      " RandomForestClassifier(max_depth=2, max_samples=1.0, min_samples_leaf=9,\n",
      "                       random_state=123)\n",
      "\n",
      "    _______________________________________________________________________________________\n",
      "    \n",
      "    True Positive = 143 ---- False Positive = 37\n",
      "    True Negative = 2906 ---- False Negative = 971\n",
      "    \n",
      "    Out of 4057 predictions -- Correct predictions = 3049 (True Pos + True Neg) \n",
      "    \n",
      "    REAL POSITIVE = (TP + FN) = 1114 ---- PREDICTED POSITIVE = (TP + FP) = 180\n",
      "    \n",
      "    REAL NEGATIVE = (TN + FP) = 2943 ---- PREDICTED NEGATIVE = (TN + FN) = 3877\n",
      "     \n",
      "        Accuracy = 75.15% -->> Correct Predictions / Total Predictions\n",
      "       Precision = 79.44% -->> True Positive / Predicted Positive\n",
      "             NPV = 74.95% -->> True Negative / Predicted Negative\n",
      "          Recall = 12.84% -->> True Positive / Real Positive\n",
      "     Specificity = 98.74% -->> True Negative / Real Negative\n",
      "        f1-score = 22.10% -->> Harmonic Mean of Precision and Recall\n",
      "    _______________________________________________________________________________________\n",
      "    \n",
      "Validation score is: 75.94%\n",
      "______________________________\n"
     ]
    }
   ],
   "source": [
    "# use the thing!\n",
    "preds = random_forest_models(9)"
   ]
  },
  {
   "cell_type": "markdown",
   "id": "667b11fc",
   "metadata": {},
   "source": [
    "# The bes model so far...\n",
    "## About 80% Validation accuracy score<br>And almost 59% Recall \n",
    "model_3_depth_8\n",
    "\n",
    " RandomForestClassifier(max_depth=8, max_samples=1.0, min_samples_leaf=3,\n",
    "                       random_state=123)\n",
    "\n",
    "    _______________________________________________________________________________________\n",
    "    \n",
    "    True Positive = 657 ---- False Positive = 250\n",
    "    True Negative = 2693 ---- False Negative = 457\n",
    "    \n",
    "    Out of 4057 predictions -- Correct predictions = 3350 (True Pos + True Neg) \n",
    "    \n",
    "    REAL POSITIVE = (TP + FN) = 1114 ---- PREDICTED POSITIVE = (TP + FP) = 907\n",
    "    \n",
    "    REAL NEGATIVE = (TN + FP) = 2943 ---- PREDICTED NEGATIVE = (TN + FN) = 3150\n",
    "     \n",
    "        Accuracy = 82.57% -->> Correct Predictions / Total Predictions\n",
    "       Precision = 72.44% -->> True Positive / Predicted Positive\n",
    "             NPV = 85.49% -->> True Negative / Predicted Negative\n",
    "          Recall = 58.98% -->> True Positive / Real Positive\n",
    "     Specificity = 91.51% -->> True Negative / Real Negative\n",
    "        f1-score = 65.02% -->> Harmonic Mean of Precision and Recall\n",
    "    _______________________________________________________________________________________\n",
    "    \n",
    "Validation score is: 80.48%\n",
    "______________________________\n"
   ]
  },
  {
   "cell_type": "markdown",
   "id": "52473e86",
   "metadata": {},
   "source": [
    "# Try it showing full confusion for Validate\n",
    "\n",
    "### 55% Recall on the Validate set... can we do better??"
   ]
  },
  {
   "cell_type": "code",
   "execution_count": 36,
   "id": "0329ea4e",
   "metadata": {},
   "outputs": [
    {
     "name": "stdout",
     "output_type": "stream",
     "text": [
      "\n",
      "Train on \n",
      "\n",
      "RandomForestClassifier(max_depth=8, max_samples=1.0, min_samples_leaf=3,\n",
      "                       random_state=123)\n",
      "\n",
      "    _______________________________________________________________________________________\n",
      "    \n",
      "    True Positive = 657 ---- False Positive = 250\n",
      "    True Negative = 2693 ---- False Negative = 457\n",
      "    \n",
      "    Out of 4057 predictions -- Correct predictions = 3350 (True Pos + True Neg) \n",
      "    \n",
      "    REAL POSITIVE = (TP + FN) = 1114 ---- PREDICTED POSITIVE = (TP + FP) = 907\n",
      "    \n",
      "    REAL NEGATIVE = (TN + FP) = 2943 ---- PREDICTED NEGATIVE = (TN + FN) = 3150\n",
      "     \n",
      "        Accuracy = 82.57% -->> Correct Predictions / Total Predictions\n",
      "       Precision = 72.44% -->> True Positive / Predicted Positive\n",
      "             NPV = 85.49% -->> True Negative / Predicted Negative\n",
      "          Recall = 58.98% -->> True Positive / Real Positive\n",
      "     Specificity = 91.51% -->> True Negative / Real Negative\n",
      "        f1-score = 65.02% -->> Harmonic Mean of Precision and Recall\n",
      "    _______________________________________________________________________________________\n",
      "    \n",
      "\n",
      "Validate on \n",
      "\n",
      " RandomForestClassifier(max_depth=8, max_samples=1.0, min_samples_leaf=3,\n",
      "                       random_state=123)\n",
      "\n",
      "    _______________________________________________________________________________________\n",
      "    \n",
      "    True Positive = 206 ---- False Positive = 107\n",
      "    True Negative = 928 ---- False Negative = 168\n",
      "    \n",
      "    Out of 1409 predictions -- Correct predictions = 1134 (True Pos + True Neg) \n",
      "    \n",
      "    REAL POSITIVE = (TP + FN) = 374 ---- PREDICTED POSITIVE = (TP + FP) = 313\n",
      "    \n",
      "    REAL NEGATIVE = (TN + FP) = 1035 ---- PREDICTED NEGATIVE = (TN + FN) = 1096\n",
      "     \n",
      "        Accuracy = 80.48% -->> Correct Predictions / Total Predictions\n",
      "       Precision = 65.81% -->> True Positive / Predicted Positive\n",
      "             NPV = 84.67% -->> True Negative / Predicted Negative\n",
      "          Recall = 55.08% -->> True Positive / Real Positive\n",
      "     Specificity = 89.66% -->> True Negative / Real Negative\n",
      "        f1-score = 59.97% -->> Harmonic Mean of Precision and Recall\n",
      "    _______________________________________________________________________________________\n",
      "    \n"
     ]
    }
   ],
   "source": [
    "rf_try_2 = RandomForestClassifier(max_depth=8, max_samples=1.0, min_samples_leaf=3,\n",
    "                       n_estimators=100, random_state=123)\n",
    "\n",
    "rf_try_2.fit(X_train,y_train)\n",
    "\n",
    "pred_try_2_train = rf_try_2.predict(X_train)\n",
    "\n",
    "pred_try_2_validate = rf_try_2.predict(X_validate)\n",
    "\n",
    "TN, FP, FN, TP = confusion_matrix(y_train, pred_try_2_train).ravel()\n",
    "print(f'\\nTrain on \\n\\n{rf_try_2}')\n",
    "confusion(TN=TN, TP=TP, FN=FN, FP=FP)\n",
    "\n",
    "TNv, FPv, FNv, TPv = confusion_matrix(y_validate, pred_try_2_validate).ravel()\n",
    "print(f'\\nValidate on \\n\\n {rf_try_2}')\n",
    "confusion(TN=TNv, TP=TPv, FN=FNv, FP=FPv)"
   ]
  },
  {
   "cell_type": "markdown",
   "id": "74490dd5",
   "metadata": {},
   "source": [
    "# We try Logistic Regression models and get:\n",
    "\n",
    "## Up to almost 56% Recall on Validate, but only 53% on Training<br><br>This doesn't feel like improvement"
   ]
  },
  {
   "cell_type": "code",
   "execution_count": 37,
   "id": "73e22b1c",
   "metadata": {},
   "outputs": [
    {
     "name": "stdout",
     "output_type": "stream",
     "text": [
      "\n",
      "Train on \n",
      "\n",
      "RandomForestClassifier(max_depth=8, max_samples=1.0, min_samples_leaf=3,\n",
      "                       random_state=123)\n",
      "\n",
      "    _______________________________________________________________________________________\n",
      "    \n",
      "    True Positive = 594 ---- False Positive = 316\n",
      "    True Negative = 2627 ---- False Negative = 520\n",
      "    \n",
      "    Out of 4057 predictions -- Correct predictions = 3221 (True Pos + True Neg) \n",
      "    \n",
      "    REAL POSITIVE = (TP + FN) = 1114 ---- PREDICTED POSITIVE = (TP + FP) = 910\n",
      "    \n",
      "    REAL NEGATIVE = (TN + FP) = 2943 ---- PREDICTED NEGATIVE = (TN + FN) = 3147\n",
      "     \n",
      "        Accuracy = 79.39% -->> Correct Predictions / Total Predictions\n",
      "       Precision = 65.27% -->> True Positive / Predicted Positive\n",
      "             NPV = 83.48% -->> True Negative / Predicted Negative\n",
      "          Recall = 53.32% -->> True Positive / Real Positive\n",
      "     Specificity = 89.26% -->> True Negative / Real Negative\n",
      "        f1-score = 58.70% -->> Harmonic Mean of Precision and Recall\n",
      "    _______________________________________________________________________________________\n",
      "    \n",
      "\n",
      "Validate on \n",
      "\n",
      "    _______________________________________________________________________________________\n",
      "    \n",
      "    True Positive = 209 ---- False Positive = 102\n",
      "    True Negative = 933 ---- False Negative = 165\n",
      "    \n",
      "    Out of 1409 predictions -- Correct predictions = 1142 (True Pos + True Neg) \n",
      "    \n",
      "    REAL POSITIVE = (TP + FN) = 374 ---- PREDICTED POSITIVE = (TP + FP) = 311\n",
      "    \n",
      "    REAL NEGATIVE = (TN + FP) = 1035 ---- PREDICTED NEGATIVE = (TN + FN) = 1098\n",
      "     \n",
      "        Accuracy = 81.05% -->> Correct Predictions / Total Predictions\n",
      "       Precision = 67.20% -->> True Positive / Predicted Positive\n",
      "             NPV = 84.97% -->> True Negative / Predicted Negative\n",
      "          Recall = 55.88% -->> True Positive / Real Positive\n",
      "     Specificity = 90.14% -->> True Negative / Real Negative\n",
      "        f1-score = 61.02% -->> Harmonic Mean of Precision and Recall\n",
      "    _______________________________________________________________________________________\n",
      "    \n"
     ]
    }
   ],
   "source": [
    "# Build it\n",
    "logit = LogisticRegression(random_state=123, C=1.0, solver='liblinear', penalty='l1')\n",
    "# Fit it\n",
    "logit.fit(X_train, y_train)\n",
    "# Use it\n",
    "y_pred = logit.predict(X_train)\n",
    "y_pred\n",
    "# Validate\n",
    "y_pred1 = logit.predict(X_validate)\n",
    "y_pred1\n",
    "# Evaluate\n",
    "TN, FP, FN, TP = confusion_matrix(y_train, y_pred).ravel()\n",
    "print(f'\\nTrain on \\n\\n{rf_try_2}')\n",
    "confusion(TN=TN, TP=TP, FN=FN, FP=FP)\n",
    "\n",
    "TNv, FPv, FNv, TPv = confusion_matrix(y_validate, y_pred1).ravel()\n",
    "print(f'\\nValidate on ') # \\n\\n {rf_try_2}')\n",
    "confusion(TN=TNv, TP=TPv, FN=FNv, FP=FPv)"
   ]
  },
  {
   "cell_type": "markdown",
   "id": "d0dd760f",
   "metadata": {},
   "source": [
    "# Let's see if there's anything in here we could drop...\n",
    "\n",
    "## What if we Train the models with less noise?<br><br>I'm dropping all customers from training that aren't Fiber!"
   ]
  },
  {
   "cell_type": "code",
   "execution_count": 38,
   "id": "f73fe373",
   "metadata": {
    "collapsed": true
   },
   "outputs": [
    {
     "data": {
      "text/html": [
       "<div>\n",
       "<style scoped>\n",
       "    .dataframe tbody tr th:only-of-type {\n",
       "        vertical-align: middle;\n",
       "    }\n",
       "\n",
       "    .dataframe tbody tr th {\n",
       "        vertical-align: top;\n",
       "    }\n",
       "\n",
       "    .dataframe thead th {\n",
       "        text-align: right;\n",
       "    }\n",
       "</style>\n",
       "<table border=\"1\" class=\"dataframe\">\n",
       "  <thead>\n",
       "    <tr style=\"text-align: right;\">\n",
       "      <th></th>\n",
       "      <th>senior</th>\n",
       "      <th>partner</th>\n",
       "      <th>dependents</th>\n",
       "      <th>tenure</th>\n",
       "      <th>e_bill</th>\n",
       "      <th>monthly_charges</th>\n",
       "      <th>total_charges</th>\n",
       "      <th>DSL</th>\n",
       "      <th>Fiber</th>\n",
       "      <th>one_year</th>\n",
       "      <th>two_year</th>\n",
       "      <th>bank_transfer</th>\n",
       "      <th>cc</th>\n",
       "      <th>e_check</th>\n",
       "      <th>add_ons</th>\n",
       "    </tr>\n",
       "  </thead>\n",
       "  <tbody>\n",
       "    <tr>\n",
       "      <th>5911</th>\n",
       "      <td>0</td>\n",
       "      <td>0</td>\n",
       "      <td>1</td>\n",
       "      <td>26</td>\n",
       "      <td>1</td>\n",
       "      <td>39.95</td>\n",
       "      <td>1023.75</td>\n",
       "      <td>1</td>\n",
       "      <td>0</td>\n",
       "      <td>1</td>\n",
       "      <td>0</td>\n",
       "      <td>1</td>\n",
       "      <td>0</td>\n",
       "      <td>0</td>\n",
       "      <td>1</td>\n",
       "    </tr>\n",
       "    <tr>\n",
       "      <th>2479</th>\n",
       "      <td>0</td>\n",
       "      <td>1</td>\n",
       "      <td>0</td>\n",
       "      <td>47</td>\n",
       "      <td>0</td>\n",
       "      <td>26.90</td>\n",
       "      <td>1250.85</td>\n",
       "      <td>0</td>\n",
       "      <td>0</td>\n",
       "      <td>1</td>\n",
       "      <td>0</td>\n",
       "      <td>0</td>\n",
       "      <td>0</td>\n",
       "      <td>1</td>\n",
       "      <td>0</td>\n",
       "    </tr>\n",
       "    <tr>\n",
       "      <th>5889</th>\n",
       "      <td>0</td>\n",
       "      <td>0</td>\n",
       "      <td>0</td>\n",
       "      <td>1</td>\n",
       "      <td>1</td>\n",
       "      <td>50.45</td>\n",
       "      <td>50.45</td>\n",
       "      <td>1</td>\n",
       "      <td>0</td>\n",
       "      <td>0</td>\n",
       "      <td>0</td>\n",
       "      <td>0</td>\n",
       "      <td>0</td>\n",
       "      <td>0</td>\n",
       "      <td>1</td>\n",
       "    </tr>\n",
       "    <tr>\n",
       "      <th>6087</th>\n",
       "      <td>0</td>\n",
       "      <td>0</td>\n",
       "      <td>0</td>\n",
       "      <td>69</td>\n",
       "      <td>1</td>\n",
       "      <td>60.05</td>\n",
       "      <td>4176.70</td>\n",
       "      <td>1</td>\n",
       "      <td>0</td>\n",
       "      <td>0</td>\n",
       "      <td>1</td>\n",
       "      <td>1</td>\n",
       "      <td>0</td>\n",
       "      <td>0</td>\n",
       "      <td>3</td>\n",
       "    </tr>\n",
       "    <tr>\n",
       "      <th>785</th>\n",
       "      <td>0</td>\n",
       "      <td>0</td>\n",
       "      <td>0</td>\n",
       "      <td>51</td>\n",
       "      <td>0</td>\n",
       "      <td>87.55</td>\n",
       "      <td>4475.90</td>\n",
       "      <td>0</td>\n",
       "      <td>1</td>\n",
       "      <td>1</td>\n",
       "      <td>0</td>\n",
       "      <td>0</td>\n",
       "      <td>1</td>\n",
       "      <td>0</td>\n",
       "      <td>0</td>\n",
       "    </tr>\n",
       "    <tr>\n",
       "      <th>...</th>\n",
       "      <td>...</td>\n",
       "      <td>...</td>\n",
       "      <td>...</td>\n",
       "      <td>...</td>\n",
       "      <td>...</td>\n",
       "      <td>...</td>\n",
       "      <td>...</td>\n",
       "      <td>...</td>\n",
       "      <td>...</td>\n",
       "      <td>...</td>\n",
       "      <td>...</td>\n",
       "      <td>...</td>\n",
       "      <td>...</td>\n",
       "      <td>...</td>\n",
       "      <td>...</td>\n",
       "    </tr>\n",
       "    <tr>\n",
       "      <th>5269</th>\n",
       "      <td>1</td>\n",
       "      <td>1</td>\n",
       "      <td>1</td>\n",
       "      <td>60</td>\n",
       "      <td>1</td>\n",
       "      <td>80.95</td>\n",
       "      <td>4859.10</td>\n",
       "      <td>0</td>\n",
       "      <td>1</td>\n",
       "      <td>0</td>\n",
       "      <td>0</td>\n",
       "      <td>0</td>\n",
       "      <td>0</td>\n",
       "      <td>1</td>\n",
       "      <td>1</td>\n",
       "    </tr>\n",
       "    <tr>\n",
       "      <th>6102</th>\n",
       "      <td>0</td>\n",
       "      <td>1</td>\n",
       "      <td>0</td>\n",
       "      <td>2</td>\n",
       "      <td>0</td>\n",
       "      <td>79.70</td>\n",
       "      <td>165.00</td>\n",
       "      <td>0</td>\n",
       "      <td>1</td>\n",
       "      <td>0</td>\n",
       "      <td>0</td>\n",
       "      <td>1</td>\n",
       "      <td>0</td>\n",
       "      <td>0</td>\n",
       "      <td>2</td>\n",
       "    </tr>\n",
       "    <tr>\n",
       "      <th>356</th>\n",
       "      <td>1</td>\n",
       "      <td>0</td>\n",
       "      <td>0</td>\n",
       "      <td>52</td>\n",
       "      <td>1</td>\n",
       "      <td>50.50</td>\n",
       "      <td>2566.30</td>\n",
       "      <td>1</td>\n",
       "      <td>0</td>\n",
       "      <td>0</td>\n",
       "      <td>0</td>\n",
       "      <td>0</td>\n",
       "      <td>0</td>\n",
       "      <td>1</td>\n",
       "      <td>3</td>\n",
       "    </tr>\n",
       "    <tr>\n",
       "      <th>1756</th>\n",
       "      <td>0</td>\n",
       "      <td>0</td>\n",
       "      <td>0</td>\n",
       "      <td>4</td>\n",
       "      <td>1</td>\n",
       "      <td>70.20</td>\n",
       "      <td>237.95</td>\n",
       "      <td>0</td>\n",
       "      <td>1</td>\n",
       "      <td>0</td>\n",
       "      <td>0</td>\n",
       "      <td>0</td>\n",
       "      <td>0</td>\n",
       "      <td>1</td>\n",
       "      <td>0</td>\n",
       "    </tr>\n",
       "    <tr>\n",
       "      <th>2127</th>\n",
       "      <td>0</td>\n",
       "      <td>0</td>\n",
       "      <td>0</td>\n",
       "      <td>35</td>\n",
       "      <td>0</td>\n",
       "      <td>55.25</td>\n",
       "      <td>1924.10</td>\n",
       "      <td>1</td>\n",
       "      <td>0</td>\n",
       "      <td>0</td>\n",
       "      <td>1</td>\n",
       "      <td>0</td>\n",
       "      <td>0</td>\n",
       "      <td>0</td>\n",
       "      <td>1</td>\n",
       "    </tr>\n",
       "  </tbody>\n",
       "</table>\n",
       "<p>4057 rows × 15 columns</p>\n",
       "</div>"
      ],
      "text/plain": [
       "      senior  partner  dependents  tenure  e_bill  monthly_charges  \\\n",
       "5911       0        0           1      26       1            39.95   \n",
       "2479       0        1           0      47       0            26.90   \n",
       "5889       0        0           0       1       1            50.45   \n",
       "6087       0        0           0      69       1            60.05   \n",
       "785        0        0           0      51       0            87.55   \n",
       "...      ...      ...         ...     ...     ...              ...   \n",
       "5269       1        1           1      60       1            80.95   \n",
       "6102       0        1           0       2       0            79.70   \n",
       "356        1        0           0      52       1            50.50   \n",
       "1756       0        0           0       4       1            70.20   \n",
       "2127       0        0           0      35       0            55.25   \n",
       "\n",
       "      total_charges  DSL  Fiber  one_year  two_year  bank_transfer  cc  \\\n",
       "5911        1023.75    1      0         1         0              1   0   \n",
       "2479        1250.85    0      0         1         0              0   0   \n",
       "5889          50.45    1      0         0         0              0   0   \n",
       "6087        4176.70    1      0         0         1              1   0   \n",
       "785         4475.90    0      1         1         0              0   1   \n",
       "...             ...  ...    ...       ...       ...            ...  ..   \n",
       "5269        4859.10    0      1         0         0              0   0   \n",
       "6102         165.00    0      1         0         0              1   0   \n",
       "356         2566.30    1      0         0         0              0   0   \n",
       "1756         237.95    0      1         0         0              0   0   \n",
       "2127        1924.10    1      0         0         1              0   0   \n",
       "\n",
       "      e_check  add_ons  \n",
       "5911        0        1  \n",
       "2479        1        0  \n",
       "5889        0        1  \n",
       "6087        0        3  \n",
       "785         0        0  \n",
       "...       ...      ...  \n",
       "5269        1        1  \n",
       "6102        0        2  \n",
       "356         1        3  \n",
       "1756        1        0  \n",
       "2127        0        1  \n",
       "\n",
       "[4057 rows x 15 columns]"
      ]
     },
     "execution_count": 38,
     "metadata": {},
     "output_type": "execute_result"
    }
   ],
   "source": [
    "X_train"
   ]
  },
  {
   "cell_type": "code",
   "execution_count": 39,
   "id": "cc67262e",
   "metadata": {
    "collapsed": true
   },
   "outputs": [
    {
     "name": "stdout",
     "output_type": "stream",
     "text": [
      "<class 'pandas.core.frame.DataFrame'>\n",
      "Int64Index: 1850 entries, 785 to 1756\n",
      "Data columns (total 15 columns):\n",
      " #   Column           Non-Null Count  Dtype  \n",
      "---  ------           --------------  -----  \n",
      " 0   senior           1850 non-null   int64  \n",
      " 1   partner          1850 non-null   int64  \n",
      " 2   dependents       1850 non-null   int64  \n",
      " 3   tenure           1850 non-null   int64  \n",
      " 4   e_bill           1850 non-null   int64  \n",
      " 5   monthly_charges  1850 non-null   float64\n",
      " 6   total_charges    1850 non-null   float64\n",
      " 7   DSL              1850 non-null   uint8  \n",
      " 8   Fiber            1850 non-null   uint8  \n",
      " 9   one_year         1850 non-null   uint8  \n",
      " 10  two_year         1850 non-null   uint8  \n",
      " 11  bank_transfer    1850 non-null   uint8  \n",
      " 12  cc               1850 non-null   uint8  \n",
      " 13  e_check          1850 non-null   uint8  \n",
      " 14  add_ons          1850 non-null   int64  \n",
      "dtypes: float64(2), int64(6), uint8(7)\n",
      "memory usage: 142.7 KB\n"
     ]
    }
   ],
   "source": [
    "# New training set! Only Fiber\n",
    "# Smaller dataset, but way more representative of those that churn?\n",
    "X_train_fiber = X_train[X_train.Fiber == 1]\n",
    "X_train_fiber.info()"
   ]
  },
  {
   "cell_type": "code",
   "execution_count": 40,
   "id": "9ee45218",
   "metadata": {
    "collapsed": true
   },
   "outputs": [
    {
     "data": {
      "text/plain": [
       "5911    0\n",
       "2479    0\n",
       "5889    1\n",
       "6087    0\n",
       "785     0\n",
       "       ..\n",
       "5269    0\n",
       "6102    1\n",
       "356     0\n",
       "1756    1\n",
       "2127    0\n",
       "Name: churn1, Length: 4057, dtype: int64"
      ]
     },
     "execution_count": 40,
     "metadata": {},
     "output_type": "execute_result"
    }
   ],
   "source": [
    "#  We'll have to drop the y rows from training that we did from X\n",
    "y_train_fiber = y_train\n",
    "y_train_fiber"
   ]
  },
  {
   "cell_type": "code",
   "execution_count": 41,
   "id": "11f40e01",
   "metadata": {},
   "outputs": [],
   "source": [
    "# This should work...\n",
    "y_train_fiber.drop(index=X_train[X_train.Fiber != 1].index.tolist(), inplace=True)"
   ]
  },
  {
   "cell_type": "code",
   "execution_count": 42,
   "id": "fe68f292",
   "metadata": {
    "collapsed": true
   },
   "outputs": [
    {
     "data": {
      "text/plain": [
       "785     0\n",
       "3057    0\n",
       "5757    1\n",
       "3465    1\n",
       "1539    0\n",
       "       ..\n",
       "4308    0\n",
       "4998    0\n",
       "5269    0\n",
       "6102    1\n",
       "1756    1\n",
       "Name: churn1, Length: 1850, dtype: int64"
      ]
     },
     "execution_count": 42,
     "metadata": {},
     "output_type": "execute_result"
    }
   ],
   "source": [
    "y_train_fiber"
   ]
  },
  {
   "cell_type": "code",
   "execution_count": 43,
   "id": "c27523fb",
   "metadata": {},
   "outputs": [
    {
     "name": "stdout",
     "output_type": "stream",
     "text": [
      "\n",
      "Train Scores: \n",
      "\n",
      "RandomForestClassifier(max_depth=8, max_samples=1.0, min_samples_leaf=3,\n",
      "                       random_state=123)\n",
      "\n",
      "    _______________________________________________________________________________________\n",
      "    \n",
      "    True Positive = 533 ---- False Positive = 263\n",
      "    True Negative = 815 ---- False Negative = 239\n",
      "    \n",
      "    Out of 1850 predictions -- Correct predictions = 1348 (True Pos + True Neg) \n",
      "    \n",
      "    REAL POSITIVE = (TP + FN) = 772 ---- PREDICTED POSITIVE = (TP + FP) = 796\n",
      "    \n",
      "    REAL NEGATIVE = (TN + FP) = 1078 ---- PREDICTED NEGATIVE = (TN + FN) = 1054\n",
      "     \n",
      "        Accuracy = 72.86% -->> Correct Predictions / Total Predictions\n",
      "       Precision = 66.96% -->> True Positive / Predicted Positive\n",
      "             NPV = 77.32% -->> True Negative / Predicted Negative\n",
      "          Recall = 69.04% -->> True Positive / Real Positive\n",
      "     Specificity = 75.60% -->> True Negative / Real Negative\n",
      "        f1-score = 67.98% -->> Harmonic Mean of Precision and Recall\n",
      "    _______________________________________________________________________________________\n",
      "    \n",
      "\n",
      "Validate Scores: \n",
      "\n",
      "    _______________________________________________________________________________________\n",
      "    \n",
      "    True Positive = 241 ---- False Positive = 158\n",
      "    True Negative = 877 ---- False Negative = 133\n",
      "    \n",
      "    Out of 1409 predictions -- Correct predictions = 1118 (True Pos + True Neg) \n",
      "    \n",
      "    REAL POSITIVE = (TP + FN) = 374 ---- PREDICTED POSITIVE = (TP + FP) = 399\n",
      "    \n",
      "    REAL NEGATIVE = (TN + FP) = 1035 ---- PREDICTED NEGATIVE = (TN + FN) = 1010\n",
      "     \n",
      "        Accuracy = 79.35% -->> Correct Predictions / Total Predictions\n",
      "       Precision = 60.40% -->> True Positive / Predicted Positive\n",
      "             NPV = 86.83% -->> True Negative / Predicted Negative\n",
      "          Recall = 64.44% -->> True Positive / Real Positive\n",
      "     Specificity = 84.73% -->> True Negative / Real Negative\n",
      "        f1-score = 62.35% -->> Harmonic Mean of Precision and Recall\n",
      "    _______________________________________________________________________________________\n",
      "    \n",
      "\n",
      "Test Scores:\n",
      "\n",
      "    _______________________________________________________________________________________\n",
      "    \n",
      "    True Positive = 256 ---- False Positive = 163\n",
      "    True Negative = 872 ---- False Negative = 118\n",
      "    \n",
      "    Out of 1409 predictions -- Correct predictions = 1128 (True Pos + True Neg) \n",
      "    \n",
      "    REAL POSITIVE = (TP + FN) = 374 ---- PREDICTED POSITIVE = (TP + FP) = 419\n",
      "    \n",
      "    REAL NEGATIVE = (TN + FP) = 1035 ---- PREDICTED NEGATIVE = (TN + FN) = 990\n",
      "     \n",
      "        Accuracy = 80.06% -->> Correct Predictions / Total Predictions\n",
      "       Precision = 61.10% -->> True Positive / Predicted Positive\n",
      "             NPV = 88.08% -->> True Negative / Predicted Negative\n",
      "          Recall = 68.45% -->> True Positive / Real Positive\n",
      "     Specificity = 84.25% -->> True Negative / Real Negative\n",
      "        f1-score = 64.56% -->> Harmonic Mean of Precision and Recall\n",
      "    _______________________________________________________________________________________\n",
      "    \n"
     ]
    }
   ],
   "source": [
    "logit = LogisticRegression(random_state=123, C=1.0, solver='liblinear', penalty='l1')\n",
    "\n",
    "logit.fit(X_train_fiber, y_train_fiber)\n",
    "\n",
    "y_pred = logit.predict(X_train_fiber)\n",
    "# y_pred # Check √\n",
    "\n",
    "y_pred_validate = logit.predict(X_validate)\n",
    "# y_pred_validate # Check √\n",
    "\n",
    "y_pred_test = logit.predict(X_test)\n",
    "# y_pred_test # Check √\n",
    "\n",
    "TN, FP, FN, TP = confusion_matrix(y_train_fiber, y_pred).ravel()\n",
    "print(f'\\nTrain Scores: \\n\\n{rf_try_2}')\n",
    "confusion(TN=TN, TP=TP, FN=FN, FP=FP)\n",
    "\n",
    "TNv, FPv, FNv, TPv = confusion_matrix(y_validate, y_pred_validate).ravel()\n",
    "print(f'\\nValidate Scores: ') # \\n\\n {rf_try_2}')\n",
    "confusion(TN=TNv, TP=TPv, FN=FNv, FP=FPv)\n",
    "\n",
    "TNt, FPt, FNt, TPt = confusion_matrix(y_test, y_pred_test).ravel()\n",
    "print(f'\\nTest Scores:') # \\n\\n {rf_try_2}')\n",
    "confusion(TN=TNt, TP=TPt, FN=FNt, FP=FPt)"
   ]
  },
  {
   "cell_type": "markdown",
   "id": "854fc0aa",
   "metadata": {},
   "source": [
    "## And there we have it...\n",
    "### This regression model gives us:\n",
    "  - Training Recall of 69% - The highest seen yet\n",
    "  \n",
    "### Out-of-sample: <br>Recall:<br>    Validate: 64.44%<br>     Test:  68.45%\n",
    "  "
   ]
  },
  {
   "cell_type": "markdown",
   "id": "5653ca47",
   "metadata": {},
   "source": [
    "  - On your best model, a chart visualizing how it performed on test would be valuable."
   ]
  },
  {
   "cell_type": "markdown",
   "id": "458b5ba5",
   "metadata": {},
   "source": [
    "#  Conclusion:"
   ]
  },
  {
   "cell_type": "markdown",
   "id": "47683118",
   "metadata": {},
   "source": [
    "# What are some of our takeaways thus far?\n",
    "\n",
    "  - Things that aren't related to churn...\n",
    "    - gender - they churn evenly\n",
    "      - Can probably drop this field and not use it as a feature\n",
    "    - phone servie\n",
    "      - Everyone has phone service except a portion of the DSL customers\n",
    "    - multiple lines\n",
    "      - Multiple lines seems to line up with the DSL customers that do have phone\n",
    "  - Things that don't matter much...\n",
    "    - senior citizens - don't make up a great deal of customers\n",
    "    - Streaming_tv\n",
    "    - Streaming_movies\n",
    "  - Things that seem to have a relationship to churn...\n",
    "    - partner - no partner has more churn\n",
    "    - dependents - no dependents has more churn\n",
    "    - Fiber - DSL - No ISP 42%/19%/8% Churn\n",
    "    - online backup      - not having leads to churn\n",
    "    - online security    - not having leads to churn\n",
    "    - device protection  - not having leads to churn\n",
    "    - tech support       - not having leads to churn\n",
    "    - Electronic check seems to be the LARGEST indicator of churn\n",
    "      - 45% of customers using E-checks churn"
   ]
  },
  {
   "cell_type": "markdown",
   "id": "ee602a39",
   "metadata": {},
   "source": [
    "#  What do we do about Fiber customers and E-Checks?\n",
    "1. We need to find out more information:\n",
    "2. Recomend looking into allowing Fiber customers to drop phone service\n",
    "3. Recomend checking service reliability with Fiber\n",
    "4. Recomend checking E-check system for bugs/ usability\n",
    "5. Recomend one month discount to anyone that will switch from E-check to automated payments\n"
   ]
  },
  {
   "cell_type": "markdown",
   "id": "3bbf67a9",
   "metadata": {},
   "source": [
    "# What's next?\n",
    "\n",
    "1. We can look into monthly charges of segments of the customer base, control for internet types, and phone services\n",
    "2. We can look further into Modeling for churn in other distinct classes of customers\n"
   ]
  },
  {
   "cell_type": "markdown",
   "id": "ab7b8bf8",
   "metadata": {},
   "source": [
    "Final Cell\n",
    "<br><br><br><br><br><br><br><br><br><br><br><br><br><br><br><br><br><br><br><br><br><br><br><br><br><br><br><br><br><br><br><br><br><br><br><br><br><br><br><br><br><br><br><br><br><br><br><br>"
   ]
  },
  {
   "cell_type": "code",
   "execution_count": 44,
   "id": "1f1762be",
   "metadata": {},
   "outputs": [
    {
     "data": {
      "text/html": [
       "<div>\n",
       "<style scoped>\n",
       "    .dataframe tbody tr th:only-of-type {\n",
       "        vertical-align: middle;\n",
       "    }\n",
       "\n",
       "    .dataframe tbody tr th {\n",
       "        vertical-align: top;\n",
       "    }\n",
       "\n",
       "    .dataframe thead th {\n",
       "        text-align: right;\n",
       "    }\n",
       "</style>\n",
       "<table border=\"1\" class=\"dataframe\">\n",
       "  <thead>\n",
       "    <tr style=\"text-align: right;\">\n",
       "      <th></th>\n",
       "      <th>0</th>\n",
       "      <th>1</th>\n",
       "    </tr>\n",
       "  </thead>\n",
       "  <tbody>\n",
       "    <tr>\n",
       "      <th>3160</th>\n",
       "      <td>0.848492</td>\n",
       "      <td>0.151508</td>\n",
       "    </tr>\n",
       "    <tr>\n",
       "      <th>1577</th>\n",
       "      <td>0.986476</td>\n",
       "      <td>0.013524</td>\n",
       "    </tr>\n",
       "    <tr>\n",
       "      <th>6823</th>\n",
       "      <td>0.329168</td>\n",
       "      <td>0.670832</td>\n",
       "    </tr>\n",
       "    <tr>\n",
       "      <th>3615</th>\n",
       "      <td>0.470280</td>\n",
       "      <td>0.529720</td>\n",
       "    </tr>\n",
       "    <tr>\n",
       "      <th>882</th>\n",
       "      <td>0.241437</td>\n",
       "      <td>0.758563</td>\n",
       "    </tr>\n",
       "    <tr>\n",
       "      <th>...</th>\n",
       "      <td>...</td>\n",
       "      <td>...</td>\n",
       "    </tr>\n",
       "    <tr>\n",
       "      <th>1097</th>\n",
       "      <td>0.353367</td>\n",
       "      <td>0.646633</td>\n",
       "    </tr>\n",
       "    <tr>\n",
       "      <th>6441</th>\n",
       "      <td>0.317763</td>\n",
       "      <td>0.682237</td>\n",
       "    </tr>\n",
       "    <tr>\n",
       "      <th>5985</th>\n",
       "      <td>0.995512</td>\n",
       "      <td>0.004488</td>\n",
       "    </tr>\n",
       "    <tr>\n",
       "      <th>2452</th>\n",
       "      <td>0.998734</td>\n",
       "      <td>0.001266</td>\n",
       "    </tr>\n",
       "    <tr>\n",
       "      <th>983</th>\n",
       "      <td>0.409910</td>\n",
       "      <td>0.590090</td>\n",
       "    </tr>\n",
       "  </tbody>\n",
       "</table>\n",
       "<p>1409 rows × 2 columns</p>\n",
       "</div>"
      ],
      "text/plain": [
       "             0         1\n",
       "3160  0.848492  0.151508\n",
       "1577  0.986476  0.013524\n",
       "6823  0.329168  0.670832\n",
       "3615  0.470280  0.529720\n",
       "882   0.241437  0.758563\n",
       "...        ...       ...\n",
       "1097  0.353367  0.646633\n",
       "6441  0.317763  0.682237\n",
       "5985  0.995512  0.004488\n",
       "2452  0.998734  0.001266\n",
       "983   0.409910  0.590090\n",
       "\n",
       "[1409 rows x 2 columns]"
      ]
     },
     "execution_count": 44,
     "metadata": {},
     "output_type": "execute_result"
    }
   ],
   "source": [
    "y_prob_test = logit.predict_proba(X_test)\n",
    "y_prob_test = pd.DataFrame(y_prob_test, index=X_test.index)\n",
    "y_prob_test"
   ]
  },
  {
   "cell_type": "code",
   "execution_count": 45,
   "id": "63b38d45",
   "metadata": {},
   "outputs": [
    {
     "data": {
      "text/plain": [
       "3160    0\n",
       "1577    0\n",
       "6823    1\n",
       "3615    1\n",
       "882     1\n",
       "       ..\n",
       "1097    1\n",
       "6441    1\n",
       "5985    0\n",
       "2452    0\n",
       "983     1\n",
       "Length: 1409, dtype: int64"
      ]
     },
     "execution_count": 45,
     "metadata": {},
     "output_type": "execute_result"
    }
   ],
   "source": [
    "y_pred_test = logit.predict(X_test)\n",
    "y_pred_test = pd.Series(y_pred_test, index= X_test.index)\n",
    "y_pred_test"
   ]
  },
  {
   "cell_type": "code",
   "execution_count": 46,
   "id": "c4c8de29",
   "metadata": {
    "scrolled": false
   },
   "outputs": [
    {
     "data": {
      "text/html": [
       "<div>\n",
       "<style scoped>\n",
       "    .dataframe tbody tr th:only-of-type {\n",
       "        vertical-align: middle;\n",
       "    }\n",
       "\n",
       "    .dataframe tbody tr th {\n",
       "        vertical-align: top;\n",
       "    }\n",
       "\n",
       "    .dataframe thead th {\n",
       "        text-align: right;\n",
       "    }\n",
       "</style>\n",
       "<table border=\"1\" class=\"dataframe\">\n",
       "  <thead>\n",
       "    <tr style=\"text-align: right;\">\n",
       "      <th></th>\n",
       "      <th>senior</th>\n",
       "      <th>partner</th>\n",
       "      <th>dependents</th>\n",
       "      <th>tenure</th>\n",
       "      <th>e_bill</th>\n",
       "      <th>monthly_charges</th>\n",
       "      <th>total_charges</th>\n",
       "      <th>DSL</th>\n",
       "      <th>Fiber</th>\n",
       "      <th>one_year</th>\n",
       "      <th>two_year</th>\n",
       "      <th>bank_transfer</th>\n",
       "      <th>cc</th>\n",
       "      <th>e_check</th>\n",
       "      <th>add_ons</th>\n",
       "    </tr>\n",
       "  </thead>\n",
       "  <tbody>\n",
       "    <tr>\n",
       "      <th>3160</th>\n",
       "      <td>0</td>\n",
       "      <td>1</td>\n",
       "      <td>1</td>\n",
       "      <td>51</td>\n",
       "      <td>1</td>\n",
       "      <td>95.15</td>\n",
       "      <td>5000.05</td>\n",
       "      <td>0</td>\n",
       "      <td>1</td>\n",
       "      <td>1</td>\n",
       "      <td>0</td>\n",
       "      <td>0</td>\n",
       "      <td>0</td>\n",
       "      <td>0</td>\n",
       "      <td>2</td>\n",
       "    </tr>\n",
       "    <tr>\n",
       "      <th>1577</th>\n",
       "      <td>0</td>\n",
       "      <td>1</td>\n",
       "      <td>0</td>\n",
       "      <td>65</td>\n",
       "      <td>0</td>\n",
       "      <td>71.00</td>\n",
       "      <td>4386.20</td>\n",
       "      <td>1</td>\n",
       "      <td>0</td>\n",
       "      <td>0</td>\n",
       "      <td>1</td>\n",
       "      <td>1</td>\n",
       "      <td>0</td>\n",
       "      <td>0</td>\n",
       "      <td>3</td>\n",
       "    </tr>\n",
       "    <tr>\n",
       "      <th>6823</th>\n",
       "      <td>0</td>\n",
       "      <td>0</td>\n",
       "      <td>0</td>\n",
       "      <td>18</td>\n",
       "      <td>1</td>\n",
       "      <td>96.05</td>\n",
       "      <td>1740.70</td>\n",
       "      <td>0</td>\n",
       "      <td>1</td>\n",
       "      <td>0</td>\n",
       "      <td>0</td>\n",
       "      <td>0</td>\n",
       "      <td>0</td>\n",
       "      <td>1</td>\n",
       "      <td>1</td>\n",
       "    </tr>\n",
       "    <tr>\n",
       "      <th>3615</th>\n",
       "      <td>0</td>\n",
       "      <td>0</td>\n",
       "      <td>0</td>\n",
       "      <td>25</td>\n",
       "      <td>1</td>\n",
       "      <td>105.50</td>\n",
       "      <td>2686.05</td>\n",
       "      <td>0</td>\n",
       "      <td>1</td>\n",
       "      <td>0</td>\n",
       "      <td>0</td>\n",
       "      <td>0</td>\n",
       "      <td>0</td>\n",
       "      <td>1</td>\n",
       "      <td>3</td>\n",
       "    </tr>\n",
       "    <tr>\n",
       "      <th>882</th>\n",
       "      <td>1</td>\n",
       "      <td>0</td>\n",
       "      <td>0</td>\n",
       "      <td>4</td>\n",
       "      <td>1</td>\n",
       "      <td>88.85</td>\n",
       "      <td>372.45</td>\n",
       "      <td>0</td>\n",
       "      <td>1</td>\n",
       "      <td>0</td>\n",
       "      <td>0</td>\n",
       "      <td>0</td>\n",
       "      <td>0</td>\n",
       "      <td>1</td>\n",
       "      <td>1</td>\n",
       "    </tr>\n",
       "    <tr>\n",
       "      <th>...</th>\n",
       "      <td>...</td>\n",
       "      <td>...</td>\n",
       "      <td>...</td>\n",
       "      <td>...</td>\n",
       "      <td>...</td>\n",
       "      <td>...</td>\n",
       "      <td>...</td>\n",
       "      <td>...</td>\n",
       "      <td>...</td>\n",
       "      <td>...</td>\n",
       "      <td>...</td>\n",
       "      <td>...</td>\n",
       "      <td>...</td>\n",
       "      <td>...</td>\n",
       "      <td>...</td>\n",
       "    </tr>\n",
       "    <tr>\n",
       "      <th>1097</th>\n",
       "      <td>0</td>\n",
       "      <td>0</td>\n",
       "      <td>0</td>\n",
       "      <td>2</td>\n",
       "      <td>0</td>\n",
       "      <td>76.40</td>\n",
       "      <td>160.80</td>\n",
       "      <td>1</td>\n",
       "      <td>0</td>\n",
       "      <td>0</td>\n",
       "      <td>0</td>\n",
       "      <td>0</td>\n",
       "      <td>0</td>\n",
       "      <td>1</td>\n",
       "      <td>2</td>\n",
       "    </tr>\n",
       "    <tr>\n",
       "      <th>6441</th>\n",
       "      <td>0</td>\n",
       "      <td>0</td>\n",
       "      <td>0</td>\n",
       "      <td>1</td>\n",
       "      <td>1</td>\n",
       "      <td>45.70</td>\n",
       "      <td>45.70</td>\n",
       "      <td>1</td>\n",
       "      <td>0</td>\n",
       "      <td>0</td>\n",
       "      <td>0</td>\n",
       "      <td>0</td>\n",
       "      <td>0</td>\n",
       "      <td>0</td>\n",
       "      <td>0</td>\n",
       "    </tr>\n",
       "    <tr>\n",
       "      <th>5985</th>\n",
       "      <td>0</td>\n",
       "      <td>0</td>\n",
       "      <td>0</td>\n",
       "      <td>67</td>\n",
       "      <td>1</td>\n",
       "      <td>25.60</td>\n",
       "      <td>1790.35</td>\n",
       "      <td>0</td>\n",
       "      <td>0</td>\n",
       "      <td>0</td>\n",
       "      <td>1</td>\n",
       "      <td>1</td>\n",
       "      <td>0</td>\n",
       "      <td>0</td>\n",
       "      <td>0</td>\n",
       "    </tr>\n",
       "    <tr>\n",
       "      <th>2452</th>\n",
       "      <td>0</td>\n",
       "      <td>1</td>\n",
       "      <td>1</td>\n",
       "      <td>72</td>\n",
       "      <td>0</td>\n",
       "      <td>38.50</td>\n",
       "      <td>2763.00</td>\n",
       "      <td>1</td>\n",
       "      <td>0</td>\n",
       "      <td>0</td>\n",
       "      <td>1</td>\n",
       "      <td>0</td>\n",
       "      <td>1</td>\n",
       "      <td>0</td>\n",
       "      <td>3</td>\n",
       "    </tr>\n",
       "    <tr>\n",
       "      <th>983</th>\n",
       "      <td>0</td>\n",
       "      <td>0</td>\n",
       "      <td>0</td>\n",
       "      <td>11</td>\n",
       "      <td>1</td>\n",
       "      <td>74.55</td>\n",
       "      <td>824.75</td>\n",
       "      <td>0</td>\n",
       "      <td>1</td>\n",
       "      <td>0</td>\n",
       "      <td>0</td>\n",
       "      <td>0</td>\n",
       "      <td>0</td>\n",
       "      <td>1</td>\n",
       "      <td>1</td>\n",
       "    </tr>\n",
       "  </tbody>\n",
       "</table>\n",
       "<p>1409 rows × 15 columns</p>\n",
       "</div>"
      ],
      "text/plain": [
       "      senior  partner  dependents  tenure  e_bill  monthly_charges  \\\n",
       "3160       0        1           1      51       1            95.15   \n",
       "1577       0        1           0      65       0            71.00   \n",
       "6823       0        0           0      18       1            96.05   \n",
       "3615       0        0           0      25       1           105.50   \n",
       "882        1        0           0       4       1            88.85   \n",
       "...      ...      ...         ...     ...     ...              ...   \n",
       "1097       0        0           0       2       0            76.40   \n",
       "6441       0        0           0       1       1            45.70   \n",
       "5985       0        0           0      67       1            25.60   \n",
       "2452       0        1           1      72       0            38.50   \n",
       "983        0        0           0      11       1            74.55   \n",
       "\n",
       "      total_charges  DSL  Fiber  one_year  two_year  bank_transfer  cc  \\\n",
       "3160        5000.05    0      1         1         0              0   0   \n",
       "1577        4386.20    1      0         0         1              1   0   \n",
       "6823        1740.70    0      1         0         0              0   0   \n",
       "3615        2686.05    0      1         0         0              0   0   \n",
       "882          372.45    0      1         0         0              0   0   \n",
       "...             ...  ...    ...       ...       ...            ...  ..   \n",
       "1097         160.80    1      0         0         0              0   0   \n",
       "6441          45.70    1      0         0         0              0   0   \n",
       "5985        1790.35    0      0         0         1              1   0   \n",
       "2452        2763.00    1      0         0         1              0   1   \n",
       "983          824.75    0      1         0         0              0   0   \n",
       "\n",
       "      e_check  add_ons  \n",
       "3160        0        2  \n",
       "1577        0        3  \n",
       "6823        1        1  \n",
       "3615        1        3  \n",
       "882         1        1  \n",
       "...       ...      ...  \n",
       "1097        1        2  \n",
       "6441        0        0  \n",
       "5985        0        0  \n",
       "2452        0        3  \n",
       "983         1        1  \n",
       "\n",
       "[1409 rows x 15 columns]"
      ]
     },
     "execution_count": 46,
     "metadata": {},
     "output_type": "execute_result"
    }
   ],
   "source": [
    "X_test"
   ]
  },
  {
   "cell_type": "code",
   "execution_count": 47,
   "id": "70d7fc7f",
   "metadata": {},
   "outputs": [
    {
     "data": {
      "text/html": [
       "<div>\n",
       "<style scoped>\n",
       "    .dataframe tbody tr th:only-of-type {\n",
       "        vertical-align: middle;\n",
       "    }\n",
       "\n",
       "    .dataframe tbody tr th {\n",
       "        vertical-align: top;\n",
       "    }\n",
       "\n",
       "    .dataframe thead th {\n",
       "        text-align: right;\n",
       "    }\n",
       "</style>\n",
       "<table border=\"1\" class=\"dataframe\">\n",
       "  <thead>\n",
       "    <tr style=\"text-align: right;\">\n",
       "      <th></th>\n",
       "      <th>senior</th>\n",
       "      <th>partner</th>\n",
       "      <th>dependents</th>\n",
       "      <th>tenure</th>\n",
       "      <th>e_bill</th>\n",
       "      <th>monthly_charges</th>\n",
       "      <th>total_charges</th>\n",
       "      <th>DSL</th>\n",
       "      <th>Fiber</th>\n",
       "      <th>one_year</th>\n",
       "      <th>two_year</th>\n",
       "      <th>bank_transfer</th>\n",
       "      <th>cc</th>\n",
       "      <th>e_check</th>\n",
       "      <th>add_ons</th>\n",
       "      <th>0</th>\n",
       "      <th>0</th>\n",
       "      <th>1</th>\n",
       "    </tr>\n",
       "  </thead>\n",
       "  <tbody>\n",
       "    <tr>\n",
       "      <th>3160</th>\n",
       "      <td>0</td>\n",
       "      <td>1</td>\n",
       "      <td>1</td>\n",
       "      <td>51</td>\n",
       "      <td>1</td>\n",
       "      <td>95.15</td>\n",
       "      <td>5000.05</td>\n",
       "      <td>0</td>\n",
       "      <td>1</td>\n",
       "      <td>1</td>\n",
       "      <td>0</td>\n",
       "      <td>0</td>\n",
       "      <td>0</td>\n",
       "      <td>0</td>\n",
       "      <td>2</td>\n",
       "      <td>0</td>\n",
       "      <td>0.848492</td>\n",
       "      <td>0.151508</td>\n",
       "    </tr>\n",
       "    <tr>\n",
       "      <th>1577</th>\n",
       "      <td>0</td>\n",
       "      <td>1</td>\n",
       "      <td>0</td>\n",
       "      <td>65</td>\n",
       "      <td>0</td>\n",
       "      <td>71.00</td>\n",
       "      <td>4386.20</td>\n",
       "      <td>1</td>\n",
       "      <td>0</td>\n",
       "      <td>0</td>\n",
       "      <td>1</td>\n",
       "      <td>1</td>\n",
       "      <td>0</td>\n",
       "      <td>0</td>\n",
       "      <td>3</td>\n",
       "      <td>0</td>\n",
       "      <td>0.986476</td>\n",
       "      <td>0.013524</td>\n",
       "    </tr>\n",
       "    <tr>\n",
       "      <th>6823</th>\n",
       "      <td>0</td>\n",
       "      <td>0</td>\n",
       "      <td>0</td>\n",
       "      <td>18</td>\n",
       "      <td>1</td>\n",
       "      <td>96.05</td>\n",
       "      <td>1740.70</td>\n",
       "      <td>0</td>\n",
       "      <td>1</td>\n",
       "      <td>0</td>\n",
       "      <td>0</td>\n",
       "      <td>0</td>\n",
       "      <td>0</td>\n",
       "      <td>1</td>\n",
       "      <td>1</td>\n",
       "      <td>1</td>\n",
       "      <td>0.329168</td>\n",
       "      <td>0.670832</td>\n",
       "    </tr>\n",
       "    <tr>\n",
       "      <th>3615</th>\n",
       "      <td>0</td>\n",
       "      <td>0</td>\n",
       "      <td>0</td>\n",
       "      <td>25</td>\n",
       "      <td>1</td>\n",
       "      <td>105.50</td>\n",
       "      <td>2686.05</td>\n",
       "      <td>0</td>\n",
       "      <td>1</td>\n",
       "      <td>0</td>\n",
       "      <td>0</td>\n",
       "      <td>0</td>\n",
       "      <td>0</td>\n",
       "      <td>1</td>\n",
       "      <td>3</td>\n",
       "      <td>1</td>\n",
       "      <td>0.470280</td>\n",
       "      <td>0.529720</td>\n",
       "    </tr>\n",
       "    <tr>\n",
       "      <th>882</th>\n",
       "      <td>1</td>\n",
       "      <td>0</td>\n",
       "      <td>0</td>\n",
       "      <td>4</td>\n",
       "      <td>1</td>\n",
       "      <td>88.85</td>\n",
       "      <td>372.45</td>\n",
       "      <td>0</td>\n",
       "      <td>1</td>\n",
       "      <td>0</td>\n",
       "      <td>0</td>\n",
       "      <td>0</td>\n",
       "      <td>0</td>\n",
       "      <td>1</td>\n",
       "      <td>1</td>\n",
       "      <td>1</td>\n",
       "      <td>0.241437</td>\n",
       "      <td>0.758563</td>\n",
       "    </tr>\n",
       "    <tr>\n",
       "      <th>...</th>\n",
       "      <td>...</td>\n",
       "      <td>...</td>\n",
       "      <td>...</td>\n",
       "      <td>...</td>\n",
       "      <td>...</td>\n",
       "      <td>...</td>\n",
       "      <td>...</td>\n",
       "      <td>...</td>\n",
       "      <td>...</td>\n",
       "      <td>...</td>\n",
       "      <td>...</td>\n",
       "      <td>...</td>\n",
       "      <td>...</td>\n",
       "      <td>...</td>\n",
       "      <td>...</td>\n",
       "      <td>...</td>\n",
       "      <td>...</td>\n",
       "      <td>...</td>\n",
       "    </tr>\n",
       "    <tr>\n",
       "      <th>1097</th>\n",
       "      <td>0</td>\n",
       "      <td>0</td>\n",
       "      <td>0</td>\n",
       "      <td>2</td>\n",
       "      <td>0</td>\n",
       "      <td>76.40</td>\n",
       "      <td>160.80</td>\n",
       "      <td>1</td>\n",
       "      <td>0</td>\n",
       "      <td>0</td>\n",
       "      <td>0</td>\n",
       "      <td>0</td>\n",
       "      <td>0</td>\n",
       "      <td>1</td>\n",
       "      <td>2</td>\n",
       "      <td>1</td>\n",
       "      <td>0.353367</td>\n",
       "      <td>0.646633</td>\n",
       "    </tr>\n",
       "    <tr>\n",
       "      <th>6441</th>\n",
       "      <td>0</td>\n",
       "      <td>0</td>\n",
       "      <td>0</td>\n",
       "      <td>1</td>\n",
       "      <td>1</td>\n",
       "      <td>45.70</td>\n",
       "      <td>45.70</td>\n",
       "      <td>1</td>\n",
       "      <td>0</td>\n",
       "      <td>0</td>\n",
       "      <td>0</td>\n",
       "      <td>0</td>\n",
       "      <td>0</td>\n",
       "      <td>0</td>\n",
       "      <td>0</td>\n",
       "      <td>1</td>\n",
       "      <td>0.317763</td>\n",
       "      <td>0.682237</td>\n",
       "    </tr>\n",
       "    <tr>\n",
       "      <th>5985</th>\n",
       "      <td>0</td>\n",
       "      <td>0</td>\n",
       "      <td>0</td>\n",
       "      <td>67</td>\n",
       "      <td>1</td>\n",
       "      <td>25.60</td>\n",
       "      <td>1790.35</td>\n",
       "      <td>0</td>\n",
       "      <td>0</td>\n",
       "      <td>0</td>\n",
       "      <td>1</td>\n",
       "      <td>1</td>\n",
       "      <td>0</td>\n",
       "      <td>0</td>\n",
       "      <td>0</td>\n",
       "      <td>0</td>\n",
       "      <td>0.995512</td>\n",
       "      <td>0.004488</td>\n",
       "    </tr>\n",
       "    <tr>\n",
       "      <th>2452</th>\n",
       "      <td>0</td>\n",
       "      <td>1</td>\n",
       "      <td>1</td>\n",
       "      <td>72</td>\n",
       "      <td>0</td>\n",
       "      <td>38.50</td>\n",
       "      <td>2763.00</td>\n",
       "      <td>1</td>\n",
       "      <td>0</td>\n",
       "      <td>0</td>\n",
       "      <td>1</td>\n",
       "      <td>0</td>\n",
       "      <td>1</td>\n",
       "      <td>0</td>\n",
       "      <td>3</td>\n",
       "      <td>0</td>\n",
       "      <td>0.998734</td>\n",
       "      <td>0.001266</td>\n",
       "    </tr>\n",
       "    <tr>\n",
       "      <th>983</th>\n",
       "      <td>0</td>\n",
       "      <td>0</td>\n",
       "      <td>0</td>\n",
       "      <td>11</td>\n",
       "      <td>1</td>\n",
       "      <td>74.55</td>\n",
       "      <td>824.75</td>\n",
       "      <td>0</td>\n",
       "      <td>1</td>\n",
       "      <td>0</td>\n",
       "      <td>0</td>\n",
       "      <td>0</td>\n",
       "      <td>0</td>\n",
       "      <td>1</td>\n",
       "      <td>1</td>\n",
       "      <td>1</td>\n",
       "      <td>0.409910</td>\n",
       "      <td>0.590090</td>\n",
       "    </tr>\n",
       "  </tbody>\n",
       "</table>\n",
       "<p>1409 rows × 18 columns</p>\n",
       "</div>"
      ],
      "text/plain": [
       "      senior  partner  dependents  tenure  e_bill  monthly_charges  \\\n",
       "3160       0        1           1      51       1            95.15   \n",
       "1577       0        1           0      65       0            71.00   \n",
       "6823       0        0           0      18       1            96.05   \n",
       "3615       0        0           0      25       1           105.50   \n",
       "882        1        0           0       4       1            88.85   \n",
       "...      ...      ...         ...     ...     ...              ...   \n",
       "1097       0        0           0       2       0            76.40   \n",
       "6441       0        0           0       1       1            45.70   \n",
       "5985       0        0           0      67       1            25.60   \n",
       "2452       0        1           1      72       0            38.50   \n",
       "983        0        0           0      11       1            74.55   \n",
       "\n",
       "      total_charges  DSL  Fiber  one_year  two_year  bank_transfer  cc  \\\n",
       "3160        5000.05    0      1         1         0              0   0   \n",
       "1577        4386.20    1      0         0         1              1   0   \n",
       "6823        1740.70    0      1         0         0              0   0   \n",
       "3615        2686.05    0      1         0         0              0   0   \n",
       "882          372.45    0      1         0         0              0   0   \n",
       "...             ...  ...    ...       ...       ...            ...  ..   \n",
       "1097         160.80    1      0         0         0              0   0   \n",
       "6441          45.70    1      0         0         0              0   0   \n",
       "5985        1790.35    0      0         0         1              1   0   \n",
       "2452        2763.00    1      0         0         1              0   1   \n",
       "983          824.75    0      1         0         0              0   0   \n",
       "\n",
       "      e_check  add_ons  0         0         1  \n",
       "3160        0        2  0  0.848492  0.151508  \n",
       "1577        0        3  0  0.986476  0.013524  \n",
       "6823        1        1  1  0.329168  0.670832  \n",
       "3615        1        3  1  0.470280  0.529720  \n",
       "882         1        1  1  0.241437  0.758563  \n",
       "...       ...      ... ..       ...       ...  \n",
       "1097        1        2  1  0.353367  0.646633  \n",
       "6441        0        0  1  0.317763  0.682237  \n",
       "5985        0        0  0  0.995512  0.004488  \n",
       "2452        0        3  0  0.998734  0.001266  \n",
       "983         1        1  1  0.409910  0.590090  \n",
       "\n",
       "[1409 rows x 18 columns]"
      ]
     },
     "execution_count": 47,
     "metadata": {},
     "output_type": "execute_result"
    }
   ],
   "source": [
    "test_csv = pd.concat([X_test, y_pred_test, y_prob_test], axis=1)\n",
    "test_csv"
   ]
  },
  {
   "cell_type": "code",
   "execution_count": 48,
   "id": "31b8f46e",
   "metadata": {},
   "outputs": [
    {
     "data": {
      "text/plain": [
       "['senior',\n",
       " 'partner',\n",
       " 'dependents',\n",
       " 'tenure',\n",
       " 'e_bill',\n",
       " 'monthly_charges',\n",
       " 'total_charges',\n",
       " 'DSL',\n",
       " 'Fiber',\n",
       " 'one_year',\n",
       " 'two_year',\n",
       " 'bank_transfer',\n",
       " 'cc',\n",
       " 'e_check',\n",
       " 'add_ons',\n",
       " 0,\n",
       " 0,\n",
       " 1]"
      ]
     },
     "execution_count": 48,
     "metadata": {},
     "output_type": "execute_result"
    }
   ],
   "source": [
    "test_csv.columns.to_list()"
   ]
  },
  {
   "cell_type": "code",
   "execution_count": 49,
   "id": "b8cb4338",
   "metadata": {},
   "outputs": [],
   "source": [
    "df = acquire.get_telco_data()"
   ]
  },
  {
   "cell_type": "code",
   "execution_count": 50,
   "id": "f6960944",
   "metadata": {},
   "outputs": [
    {
     "data": {
      "text/plain": [
       "Index(['customer_id', 'gender', 'senior_citizen', 'partner', 'dependents',\n",
       "       'tenure', 'phone_service', 'multiple_lines', 'internet_service_type',\n",
       "       'online_security', 'online_backup', 'device_protection', 'tech_support',\n",
       "       'streaming_tv', 'streaming_movies', 'contract_type',\n",
       "       'paperless_billing', 'payment_type', 'monthly_charges', 'total_charges',\n",
       "       'churn'],\n",
       "      dtype='object')"
      ]
     },
     "execution_count": 50,
     "metadata": {},
     "output_type": "execute_result"
    }
   ],
   "source": [
    "df.columns"
   ]
  },
  {
   "cell_type": "code",
   "execution_count": 51,
   "id": "7bdb2dda",
   "metadata": {},
   "outputs": [],
   "source": [
    "df_test = df[df.index.isin(test_csv.index)]"
   ]
  },
  {
   "cell_type": "code",
   "execution_count": 52,
   "id": "428d185a",
   "metadata": {},
   "outputs": [],
   "source": [
    "test_out = pd.concat([df_test, test_csv], axis=1)"
   ]
  },
  {
   "cell_type": "code",
   "execution_count": 53,
   "id": "98388640",
   "metadata": {},
   "outputs": [],
   "source": [
    "test_out_1 = test_out.drop(columns=['gender',\n",
    " 'senior_citizen',\n",
    " 'partner',\n",
    " 'dependents',\n",
    " 'tenure',\n",
    " 'phone_service',\n",
    " 'multiple_lines',\n",
    " 'internet_service_type',\n",
    " 'online_security',\n",
    " 'online_backup',\n",
    " 'device_protection',\n",
    " 'tech_support',\n",
    " 'streaming_tv',\n",
    " 'streaming_movies',\n",
    " 'contract_type',\n",
    " 'paperless_billing',\n",
    " 'payment_type',\n",
    " 'monthly_charges',\n",
    " 'total_charges',\n",
    " 'churn','senior',\n",
    " 'partner',\n",
    " 'dependents',\n",
    " 'tenure',\n",
    " 'e_bill',\n",
    " 'monthly_charges',\n",
    " 'total_charges',\n",
    " 'DSL',\n",
    " 'Fiber',\n",
    " 'one_year',\n",
    " 'two_year',\n",
    " 'bank_transfer',\n",
    " 'cc',\n",
    " 'e_check',\n",
    " 'add_ons'])"
   ]
  },
  {
   "cell_type": "code",
   "execution_count": 54,
   "id": "1cbbefe1",
   "metadata": {},
   "outputs": [
    {
     "data": {
      "text/plain": [
       "['customer_id', 0, 0, 1]"
      ]
     },
     "execution_count": 54,
     "metadata": {},
     "output_type": "execute_result"
    }
   ],
   "source": [
    "test_out_1.columns.to_list()"
   ]
  },
  {
   "cell_type": "code",
   "execution_count": 55,
   "id": "d646ec68",
   "metadata": {},
   "outputs": [],
   "source": [
    "test_out_1.columns = ['customer_id', 'prediction_of_churn', 'prob_no', 'probability_of_churn']"
   ]
  },
  {
   "cell_type": "code",
   "execution_count": 56,
   "id": "b1425161",
   "metadata": {},
   "outputs": [
    {
     "data": {
      "text/html": [
       "<div>\n",
       "<style scoped>\n",
       "    .dataframe tbody tr th:only-of-type {\n",
       "        vertical-align: middle;\n",
       "    }\n",
       "\n",
       "    .dataframe tbody tr th {\n",
       "        vertical-align: top;\n",
       "    }\n",
       "\n",
       "    .dataframe thead th {\n",
       "        text-align: right;\n",
       "    }\n",
       "</style>\n",
       "<table border=\"1\" class=\"dataframe\">\n",
       "  <thead>\n",
       "    <tr style=\"text-align: right;\">\n",
       "      <th></th>\n",
       "      <th>customer_id</th>\n",
       "      <th>prediction_of_churn</th>\n",
       "      <th>probability_of_churn</th>\n",
       "    </tr>\n",
       "  </thead>\n",
       "  <tbody>\n",
       "    <tr>\n",
       "      <th>5</th>\n",
       "      <td>0013-MHZWF</td>\n",
       "      <td>1</td>\n",
       "      <td>0.599701</td>\n",
       "    </tr>\n",
       "    <tr>\n",
       "      <th>6</th>\n",
       "      <td>0013-SMEOE</td>\n",
       "      <td>0</td>\n",
       "      <td>0.090866</td>\n",
       "    </tr>\n",
       "    <tr>\n",
       "      <th>11</th>\n",
       "      <td>0017-IUDMW</td>\n",
       "      <td>0</td>\n",
       "      <td>0.098053</td>\n",
       "    </tr>\n",
       "    <tr>\n",
       "      <th>17</th>\n",
       "      <td>0021-IKXGC</td>\n",
       "      <td>1</td>\n",
       "      <td>0.781394</td>\n",
       "    </tr>\n",
       "    <tr>\n",
       "      <th>22</th>\n",
       "      <td>0027-KWYKW</td>\n",
       "      <td>1</td>\n",
       "      <td>0.620366</td>\n",
       "    </tr>\n",
       "    <tr>\n",
       "      <th>...</th>\n",
       "      <td>...</td>\n",
       "      <td>...</td>\n",
       "      <td>...</td>\n",
       "    </tr>\n",
       "    <tr>\n",
       "      <th>7029</th>\n",
       "      <td>9972-NKTFD</td>\n",
       "      <td>0</td>\n",
       "      <td>0.157790</td>\n",
       "    </tr>\n",
       "    <tr>\n",
       "      <th>7031</th>\n",
       "      <td>9974-JFBHQ</td>\n",
       "      <td>0</td>\n",
       "      <td>0.183416</td>\n",
       "    </tr>\n",
       "    <tr>\n",
       "      <th>7032</th>\n",
       "      <td>9975-GPKZU</td>\n",
       "      <td>0</td>\n",
       "      <td>0.008284</td>\n",
       "    </tr>\n",
       "    <tr>\n",
       "      <th>7036</th>\n",
       "      <td>9985-MWVIX</td>\n",
       "      <td>1</td>\n",
       "      <td>0.647994</td>\n",
       "    </tr>\n",
       "    <tr>\n",
       "      <th>7040</th>\n",
       "      <td>9992-UJOEL</td>\n",
       "      <td>1</td>\n",
       "      <td>0.605067</td>\n",
       "    </tr>\n",
       "  </tbody>\n",
       "</table>\n",
       "<p>1409 rows × 3 columns</p>\n",
       "</div>"
      ],
      "text/plain": [
       "     customer_id  prediction_of_churn  probability_of_churn\n",
       "5     0013-MHZWF                    1              0.599701\n",
       "6     0013-SMEOE                    0              0.090866\n",
       "11    0017-IUDMW                    0              0.098053\n",
       "17    0021-IKXGC                    1              0.781394\n",
       "22    0027-KWYKW                    1              0.620366\n",
       "...          ...                  ...                   ...\n",
       "7029  9972-NKTFD                    0              0.157790\n",
       "7031  9974-JFBHQ                    0              0.183416\n",
       "7032  9975-GPKZU                    0              0.008284\n",
       "7036  9985-MWVIX                    1              0.647994\n",
       "7040  9992-UJOEL                    1              0.605067\n",
       "\n",
       "[1409 rows x 3 columns]"
      ]
     },
     "execution_count": 56,
     "metadata": {},
     "output_type": "execute_result"
    }
   ],
   "source": [
    "predictions = test_out_1.drop(columns='prob_no')\n",
    "predictions"
   ]
  },
  {
   "cell_type": "code",
   "execution_count": 57,
   "id": "efa2c3c2",
   "metadata": {},
   "outputs": [],
   "source": [
    "# predictions.to_csv('predictions.csv', index=False)"
   ]
  }
 ],
 "metadata": {
  "kernelspec": {
   "display_name": "Python 3 (ipykernel)",
   "language": "python",
   "name": "python3"
  },
  "language_info": {
   "codemirror_mode": {
    "name": "ipython",
    "version": 3
   },
   "file_extension": ".py",
   "mimetype": "text/x-python",
   "name": "python",
   "nbconvert_exporter": "python",
   "pygments_lexer": "ipython3",
   "version": "3.9.12"
  }
 },
 "nbformat": 4,
 "nbformat_minor": 5
}
