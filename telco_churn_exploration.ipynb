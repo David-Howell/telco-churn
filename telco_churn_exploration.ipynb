{
 "cells": [
  {
   "cell_type": "code",
   "execution_count": 1,
   "id": "42774918",
   "metadata": {},
   "outputs": [
    {
     "name": "stdout",
     "output_type": "stream",
     "text": [
      "\n",
      "import os\n",
      "import seaborn as sns\n",
      "import matplotlib.pyplot as plt\n",
      "import pandas as pd\n",
      "import numpy as np\n",
      "import math as m\n",
      "from scipy import stats\n",
      "from stat_tools import *\n",
      "from sklearn.model_selection import train_test_split\n",
      "import acquire\n",
      "import prepare\n",
      "from sklearn.metrics import accuracy_score, precision_score, recall_score, classification_report\n",
      "import lux\n",
      "    \n"
     ]
    }
   ],
   "source": [
    "# Let's import our imports ;)\n",
    "from telco_setup import telco_imports\n",
    "telco_imports()"
   ]
  },
  {
   "cell_type": "code",
   "execution_count": 2,
   "id": "5455658f",
   "metadata": {},
   "outputs": [],
   "source": [
    "# import our imports ;)\n",
    "import os\n",
    "import seaborn as sns\n",
    "import matplotlib.pyplot as plt\n",
    "import pandas as pd\n",
    "import numpy as np\n",
    "import math as m\n",
    "from scipy import stats\n",
    "from stat_tools import *\n",
    "from sklearn.model_selection import train_test_split\n",
    "import acquire\n",
    "import prepare\n",
    "from sklearn.metrics import accuracy_score, precision_score, recall_score, classification_report\n",
    "import lux"
   ]
  },
  {
   "cell_type": "code",
   "execution_count": 170,
   "id": "8f8eed2c",
   "metadata": {},
   "outputs": [],
   "source": [
    "# I feel like it's all getting easier from here...\n",
    "# Let's use the aquire file's get_telco_data to return a DataFrame for us\n",
    "df = acquire.get_telco_data()"
   ]
  },
  {
   "cell_type": "code",
   "execution_count": 171,
   "id": "969712b7",
   "metadata": {},
   "outputs": [
    {
     "name": "stdout",
     "output_type": "stream",
     "text": [
      "<class 'lux.core.frame.LuxDataFrame'>\n",
      "RangeIndex: 7043 entries, 0 to 7042\n",
      "Data columns (total 21 columns):\n",
      " #   Column                 Non-Null Count  Dtype  \n",
      "---  ------                 --------------  -----  \n",
      " 0   customer_id            7043 non-null   object \n",
      " 1   gender                 7043 non-null   object \n",
      " 2   senior_citizen         7043 non-null   int64  \n",
      " 3   partner                7043 non-null   object \n",
      " 4   dependents             7043 non-null   object \n",
      " 5   tenure                 7043 non-null   int64  \n",
      " 6   phone_service          7043 non-null   object \n",
      " 7   multiple_lines         7043 non-null   object \n",
      " 8   internet_service_type  7043 non-null   object \n",
      " 9   online_security        7043 non-null   object \n",
      " 10  online_backup          7043 non-null   object \n",
      " 11  device_protection      7043 non-null   object \n",
      " 12  tech_support           7043 non-null   object \n",
      " 13  streaming_tv           7043 non-null   object \n",
      " 14  streaming_movies       7043 non-null   object \n",
      " 15  contract_type          7043 non-null   object \n",
      " 16  paperless_billing      7043 non-null   object \n",
      " 17  payment_type           7043 non-null   object \n",
      " 18  monthly_charges        7043 non-null   float64\n",
      " 19  total_charges          7043 non-null   object \n",
      " 20  churn                  7043 non-null   object \n",
      "dtypes: float64(1), int64(2), object(18)\n",
      "memory usage: 1.1+ MB\n"
     ]
    }
   ],
   "source": [
    "# Oughta see what's going on in there\n",
    "df.info()"
   ]
  },
  {
   "cell_type": "code",
   "execution_count": null,
   "id": "6c1c901c",
   "metadata": {
    "scrolled": false
   },
   "outputs": [],
   "source": []
  },
  {
   "cell_type": "markdown",
   "id": "13d174cf",
   "metadata": {},
   "source": [
    "# First let's see what's going on in the univariate\n",
    "\n",
    "- There are 7043 total records, all of which are non-null\n",
    "  - `senior_citizen` and `tenure` are both integers and `monthly_charges` is a float\n",
    "  - all other fields are string objects\n",
    "    - This means things need to change around here if we're going to make it work"
   ]
  },
  {
   "cell_type": "markdown",
   "id": "a8771b14",
   "metadata": {},
   "source": [
    "### `phone_service` - There are `6361` with phone service and `682` without\n",
    "  - That's `90.32%` Yes and `9.68%` No"
   ]
  },
  {
   "cell_type": "code",
   "execution_count": 22,
   "id": "ae56861f",
   "metadata": {
    "scrolled": true
   },
   "outputs": [
    {
     "data": {
      "application/vnd.jupyter.widget-view+json": {
       "model_id": "d21c7db70a704572b8d691d44bc6c068",
       "version_major": 2,
       "version_minor": 0
      },
      "text/plain": [
       "Button(description='Toggle Pandas/Lux', layout=Layout(top='5px', width='140px'), style=ButtonStyle())"
      ]
     },
     "metadata": {},
     "output_type": "display_data"
    },
    {
     "data": {
      "application/vnd.jupyter.widget-view+json": {
       "model_id": "1f0d0db3edf74a2f9c8e61cc80b1dfdc",
       "version_major": 2,
       "version_minor": 0
      },
      "text/plain": [
       "Output()"
      ]
     },
     "metadata": {},
     "output_type": "display_data"
    }
   ],
   "source": [
    "df.phone_service.value_counts(dropna=False, normalize=True)"
   ]
  },
  {
   "cell_type": "code",
   "execution_count": 46,
   "id": "5731604f",
   "metadata": {},
   "outputs": [
    {
     "data": {
      "text/plain": [
       "<AxesSubplot:xlabel='Count', ylabel='phone_service'>"
      ]
     },
     "execution_count": 46,
     "metadata": {},
     "output_type": "execute_result"
    },
    {
     "data": {
      "image/png": "[encoded data removed]",
      "text/plain": [
       "<Figure size 432x288 with 1 Axes>"
      ]
     },
     "metadata": {
      "needs_background": "light"
     },
     "output_type": "display_data"
    }
   ],
   "source": [
    "sns.histplot(y=df.phone_service)"
   ]
  },
  {
   "cell_type": "code",
   "execution_count": 47,
   "id": "abbe5715",
   "metadata": {
    "collapsed": true
   },
   "outputs": [
    {
     "name": "stdout",
     "output_type": "stream",
     "text": [
      "sns.histplot(y=df.customer_id)\n",
      "sns.histplot(y=df.gender)\n",
      "sns.histplot(y=df.senior_citizen)\n",
      "sns.histplot(y=df.partner)\n",
      "sns.histplot(y=df.dependents)\n",
      "sns.histplot(y=df.tenure)\n",
      "sns.histplot(y=df.phone_service)\n",
      "sns.histplot(y=df.multiple_lines)\n",
      "sns.histplot(y=df.internet_service_type)\n",
      "sns.histplot(y=df.online_security)\n",
      "sns.histplot(y=df.online_backup)\n",
      "sns.histplot(y=df.device_protection)\n",
      "sns.histplot(y=df.tech_support)\n",
      "sns.histplot(y=df.streaming_tv)\n",
      "sns.histplot(y=df.streaming_movies)\n",
      "sns.histplot(y=df.contract_type)\n",
      "sns.histplot(y=df.paperless_billing)\n",
      "sns.histplot(y=df.payment_type)\n",
      "sns.histplot(y=df.monthly_charges)\n",
      "sns.histplot(y=df.total_charges)\n",
      "sns.histplot(y=df.churn)\n"
     ]
    }
   ],
   "source": [
    "for i in df:\n",
    "    print(f'sns.histplot(y=df.{i})')"
   ]
  },
  {
   "cell_type": "markdown",
   "id": "d4c634c8",
   "metadata": {},
   "source": [
    "### `senior_citizen` - Only accounts for `1142` vs `5901`of customers that are not\n",
    "  - About `16%` of customers are senior citizens `84%` are not"
   ]
  },
  {
   "cell_type": "code",
   "execution_count": 24,
   "id": "7d6dd892",
   "metadata": {},
   "outputs": [
    {
     "data": {
      "application/vnd.jupyter.widget-view+json": {
       "model_id": "f9eeb6c343a64decb92377945bc276c2",
       "version_major": 2,
       "version_minor": 0
      },
      "text/plain": [
       "Button(description='Toggle Pandas/Lux', layout=Layout(top='5px', width='140px'), style=ButtonStyle())"
      ]
     },
     "metadata": {},
     "output_type": "display_data"
    },
    {
     "data": {
      "application/vnd.jupyter.widget-view+json": {
       "model_id": "bb149967e6d042e6ac795bbf7693eb40",
       "version_major": 2,
       "version_minor": 0
      },
      "text/plain": [
       "Output()"
      ]
     },
     "metadata": {},
     "output_type": "display_data"
    }
   ],
   "source": [
    "df.senior_citizen.value_counts(dropna=False, normalize=True)"
   ]
  },
  {
   "cell_type": "code",
   "execution_count": 48,
   "id": "e676c5a2",
   "metadata": {},
   "outputs": [
    {
     "data": {
      "text/plain": [
       "<AxesSubplot:xlabel='Count', ylabel='senior_citizen'>"
      ]
     },
     "execution_count": 48,
     "metadata": {},
     "output_type": "execute_result"
    },
    {
     "data": {
      "image/png": "[encoded data removed]",
      "text/plain": [
       "<Figure size 432x288 with 1 Axes>"
      ]
     },
     "metadata": {
      "needs_background": "light"
     },
     "output_type": "display_data"
    }
   ],
   "source": [
    "sns.histplot(y=df.senior_citizen)"
   ]
  },
  {
   "cell_type": "markdown",
   "id": "32a3b99d",
   "metadata": {},
   "source": [
    "###  `dependents` - We have `2110` vs. `4933` that are have no dependents\n",
    "  - Right at a `30%/70%` split"
   ]
  },
  {
   "cell_type": "code",
   "execution_count": 37,
   "id": "0caea38b",
   "metadata": {},
   "outputs": [
    {
     "data": {
      "application/vnd.jupyter.widget-view+json": {
       "model_id": "e96daa1c6d1c42dbae6e211212ff36d5",
       "version_major": 2,
       "version_minor": 0
      },
      "text/plain": [
       "Button(description='Toggle Pandas/Lux', layout=Layout(top='5px', width='140px'), style=ButtonStyle())"
      ]
     },
     "metadata": {},
     "output_type": "display_data"
    },
    {
     "data": {
      "application/vnd.jupyter.widget-view+json": {
       "model_id": "d5e4f15a803a4fb18bc18cd570edbc80",
       "version_major": 2,
       "version_minor": 0
      },
      "text/plain": [
       "Output()"
      ]
     },
     "metadata": {},
     "output_type": "display_data"
    }
   ],
   "source": [
    "df.dependents.value_counts(dropna=False, normalize=True)"
   ]
  },
  {
   "cell_type": "code",
   "execution_count": 49,
   "id": "e4536cdd",
   "metadata": {},
   "outputs": [
    {
     "data": {
      "text/plain": [
       "<AxesSubplot:xlabel='Count', ylabel='dependents'>"
      ]
     },
     "execution_count": 49,
     "metadata": {},
     "output_type": "execute_result"
    },
    {
     "data": {
      "image/png": "[encoded data removed]",
      "text/plain": [
       "<Figure size 432x288 with 1 Axes>"
      ]
     },
     "metadata": {
      "needs_background": "light"
     },
     "output_type": "display_data"
    }
   ],
   "source": [
    "sns.histplot(y=df.dependents)"
   ]
  },
  {
   "cell_type": "markdown",
   "id": "89342efc",
   "metadata": {},
   "source": [
    "### `multiple_lines` - we have `3390: No`, `2971: Yes`, <br><br>and `682: No phone service`\n",
    "  - The almost `10%` with no phone service might be their own group\n",
    "  - It also means that `90%` of customers have phone service\n",
    "  - We'll find out which people only have phone as well, and maybe pull them apart\n",
    "  - Let's look into this more"
   ]
  },
  {
   "cell_type": "code",
   "execution_count": 50,
   "id": "571755d0",
   "metadata": {},
   "outputs": [
    {
     "data": {
      "application/vnd.jupyter.widget-view+json": {
       "model_id": "85d85976fe9d486aa4ced20894d397cc",
       "version_major": 2,
       "version_minor": 0
      },
      "text/plain": [
       "Button(description='Toggle Pandas/Lux', layout=Layout(top='5px', width='140px'), style=ButtonStyle())"
      ]
     },
     "metadata": {},
     "output_type": "display_data"
    },
    {
     "data": {
      "application/vnd.jupyter.widget-view+json": {
       "model_id": "28d02e7017ca496b971581fd127012b7",
       "version_major": 2,
       "version_minor": 0
      },
      "text/plain": [
       "Output()"
      ]
     },
     "metadata": {},
     "output_type": "display_data"
    }
   ],
   "source": [
    "df.multiple_lines.value_counts(dropna=False, normalize=True)"
   ]
  },
  {
   "cell_type": "code",
   "execution_count": 51,
   "id": "e97161d0",
   "metadata": {},
   "outputs": [
    {
     "data": {
      "text/plain": [
       "<AxesSubplot:xlabel='Count', ylabel='multiple_lines'>"
      ]
     },
     "execution_count": 51,
     "metadata": {},
     "output_type": "execute_result"
    },
    {
     "data": {
      "image/png": "[encoded data removed]",
      "text/plain": [
       "<Figure size 432x288 with 1 Axes>"
      ]
     },
     "metadata": {
      "needs_background": "light"
     },
     "output_type": "display_data"
    }
   ],
   "source": [
    "sns.histplot(y=df.multiple_lines)"
   ]
  },
  {
   "cell_type": "code",
   "execution_count": null,
   "id": "bfe564ba",
   "metadata": {},
   "outputs": [],
   "source": []
  },
  {
   "cell_type": "code",
   "execution_count": 52,
   "id": "31412d79",
   "metadata": {},
   "outputs": [
    {
     "data": {
      "text/plain": [
       "<AxesSubplot:xlabel='Count', ylabel='gender'>"
      ]
     },
     "execution_count": 52,
     "metadata": {},
     "output_type": "execute_result"
    },
    {
     "data": {
      "image/png": "[encoded data removed]",
      "text/plain": [
       "<Figure size 432x288 with 1 Axes>"
      ]
     },
     "metadata": {
      "needs_background": "light"
     },
     "output_type": "display_data"
    }
   ],
   "source": [
    "sns.histplot(y=df.gender)"
   ]
  },
  {
   "cell_type": "code",
   "execution_count": 53,
   "id": "3b47278f",
   "metadata": {},
   "outputs": [
    {
     "data": {
      "text/plain": [
       "<AxesSubplot:xlabel='Count', ylabel='partner'>"
      ]
     },
     "execution_count": 53,
     "metadata": {},
     "output_type": "execute_result"
    },
    {
     "data": {
      "image/png": "[encoded data removed]",
      "text/plain": [
       "<Figure size 432x288 with 1 Axes>"
      ]
     },
     "metadata": {
      "needs_background": "light"
     },
     "output_type": "display_data"
    }
   ],
   "source": [
    "sns.histplot(y=df.partner)"
   ]
  },
  {
   "cell_type": "code",
   "execution_count": 54,
   "id": "92e79d28",
   "metadata": {},
   "outputs": [
    {
     "data": {
      "text/plain": [
       "<AxesSubplot:xlabel='Count', ylabel='tenure'>"
      ]
     },
     "execution_count": 54,
     "metadata": {},
     "output_type": "execute_result"
    },
    {
     "data": {
      "image/png": "[encoded data removed]",
      "text/plain": [
       "<Figure size 432x288 with 1 Axes>"
      ]
     },
     "metadata": {
      "needs_background": "light"
     },
     "output_type": "display_data"
    }
   ],
   "source": [
    "sns.histplot(y=df.tenure)"
   ]
  },
  {
   "cell_type": "code",
   "execution_count": 55,
   "id": "4e5554ee",
   "metadata": {},
   "outputs": [
    {
     "data": {
      "text/plain": [
       "<AxesSubplot:xlabel='Count', ylabel='phone_service'>"
      ]
     },
     "execution_count": 55,
     "metadata": {},
     "output_type": "execute_result"
    },
    {
     "data": {
      "image/png": "[encoded data removed]",
      "text/plain": [
       "<Figure size 432x288 with 1 Axes>"
      ]
     },
     "metadata": {
      "needs_background": "light"
     },
     "output_type": "display_data"
    }
   ],
   "source": [
    "sns.histplot(y=df.phone_service)"
   ]
  },
  {
   "cell_type": "code",
   "execution_count": 56,
   "id": "6a635863",
   "metadata": {},
   "outputs": [
    {
     "data": {
      "text/plain": [
       "<AxesSubplot:xlabel='Count', ylabel='internet_service_type'>"
      ]
     },
     "execution_count": 56,
     "metadata": {},
     "output_type": "execute_result"
    },
    {
     "data": {
      "image/png": "[encoded data removed]",
      "text/plain": [
       "<Figure size 432x288 with 1 Axes>"
      ]
     },
     "metadata": {
      "needs_background": "light"
     },
     "output_type": "display_data"
    }
   ],
   "source": [
    "sns.histplot(y=df.internet_service_type)"
   ]
  },
  {
   "cell_type": "code",
   "execution_count": 57,
   "id": "7eb45ece",
   "metadata": {},
   "outputs": [
    {
     "data": {
      "text/plain": [
       "<AxesSubplot:xlabel='Count', ylabel='online_security'>"
      ]
     },
     "execution_count": 57,
     "metadata": {},
     "output_type": "execute_result"
    },
    {
     "data": {
      "image/png": "[encoded data removed]",
      "text/plain": [
       "<Figure size 432x288 with 1 Axes>"
      ]
     },
     "metadata": {
      "needs_background": "light"
     },
     "output_type": "display_data"
    }
   ],
   "source": [
    "sns.histplot(y=df.online_security)"
   ]
  },
  {
   "cell_type": "code",
   "execution_count": 58,
   "id": "6ffecb88",
   "metadata": {},
   "outputs": [
    {
     "data": {
      "text/plain": [
       "<AxesSubplot:xlabel='Count', ylabel='online_backup'>"
      ]
     },
     "execution_count": 58,
     "metadata": {},
     "output_type": "execute_result"
    },
    {
     "data": {
      "image/png": "[encoded data removed]",
      "text/plain": [
       "<Figure size 432x288 with 1 Axes>"
      ]
     },
     "metadata": {
      "needs_background": "light"
     },
     "output_type": "display_data"
    }
   ],
   "source": [
    "sns.histplot(y=df.online_backup)"
   ]
  },
  {
   "cell_type": "code",
   "execution_count": 59,
   "id": "174380a5",
   "metadata": {},
   "outputs": [
    {
     "data": {
      "text/plain": [
       "<AxesSubplot:xlabel='Count', ylabel='device_protection'>"
      ]
     },
     "execution_count": 59,
     "metadata": {},
     "output_type": "execute_result"
    },
    {
     "data": {
      "image/png": "[encoded data removed]",
      "text/plain": [
       "<Figure size 432x288 with 1 Axes>"
      ]
     },
     "metadata": {
      "needs_background": "light"
     },
     "output_type": "display_data"
    }
   ],
   "source": [
    "sns.histplot(y=df.device_protection)"
   ]
  },
  {
   "cell_type": "code",
   "execution_count": 60,
   "id": "129a258b",
   "metadata": {},
   "outputs": [
    {
     "data": {
      "text/plain": [
       "<AxesSubplot:xlabel='Count', ylabel='tech_support'>"
      ]
     },
     "execution_count": 60,
     "metadata": {},
     "output_type": "execute_result"
    },
    {
     "data": {
      "image/png": "[encoded data removed]",
      "text/plain": [
       "<Figure size 432x288 with 1 Axes>"
      ]
     },
     "metadata": {
      "needs_background": "light"
     },
     "output_type": "display_data"
    }
   ],
   "source": [
    "sns.histplot(y=df.tech_support)"
   ]
  },
  {
   "cell_type": "code",
   "execution_count": 61,
   "id": "d8410c7a",
   "metadata": {},
   "outputs": [
    {
     "data": {
      "text/plain": [
       "<AxesSubplot:xlabel='Count', ylabel='streaming_tv'>"
      ]
     },
     "execution_count": 61,
     "metadata": {},
     "output_type": "execute_result"
    },
    {
     "data": {
      "image/png": "[encoded data removed]",
      "text/plain": [
       "<Figure size 432x288 with 1 Axes>"
      ]
     },
     "metadata": {
      "needs_background": "light"
     },
     "output_type": "display_data"
    }
   ],
   "source": [
    "sns.histplot(y=df.streaming_tv)"
   ]
  },
  {
   "cell_type": "code",
   "execution_count": 62,
   "id": "1d70f496",
   "metadata": {},
   "outputs": [
    {
     "data": {
      "text/plain": [
       "<AxesSubplot:xlabel='Count', ylabel='streaming_movies'>"
      ]
     },
     "execution_count": 62,
     "metadata": {},
     "output_type": "execute_result"
    },
    {
     "data": {
      "image/png": "[encoded data removed]",
      "text/plain": [
       "<Figure size 432x288 with 1 Axes>"
      ]
     },
     "metadata": {
      "needs_background": "light"
     },
     "output_type": "display_data"
    }
   ],
   "source": [
    "sns.histplot(y=df.streaming_movies)"
   ]
  },
  {
   "cell_type": "code",
   "execution_count": 63,
   "id": "b74d188a",
   "metadata": {},
   "outputs": [
    {
     "data": {
      "text/plain": [
       "<AxesSubplot:xlabel='Count', ylabel='contract_type'>"
      ]
     },
     "execution_count": 63,
     "metadata": {},
     "output_type": "execute_result"
    },
    {
     "data": {
      "image/png": "[encoded data removed]",
      "text/plain": [
       "<Figure size 432x288 with 1 Axes>"
      ]
     },
     "metadata": {
      "needs_background": "light"
     },
     "output_type": "display_data"
    }
   ],
   "source": [
    "sns.histplot(y=df.contract_type)"
   ]
  },
  {
   "cell_type": "code",
   "execution_count": 64,
   "id": "a505e9dd",
   "metadata": {},
   "outputs": [
    {
     "data": {
      "text/plain": [
       "<AxesSubplot:xlabel='Count', ylabel='paperless_billing'>"
      ]
     },
     "execution_count": 64,
     "metadata": {},
     "output_type": "execute_result"
    },
    {
     "data": {
      "image/png": "[encoded data removed]",
      "text/plain": [
       "<Figure size 432x288 with 1 Axes>"
      ]
     },
     "metadata": {
      "needs_background": "light"
     },
     "output_type": "display_data"
    }
   ],
   "source": [
    "sns.histplot(y=df.paperless_billing)"
   ]
  },
  {
   "cell_type": "code",
   "execution_count": 65,
   "id": "4cf1007d",
   "metadata": {},
   "outputs": [
    {
     "data": {
      "text/plain": [
       "<AxesSubplot:xlabel='Count', ylabel='payment_type'>"
      ]
     },
     "execution_count": 65,
     "metadata": {},
     "output_type": "execute_result"
    },
    {
     "data": {
      "image/png": "[encoded data removed]",
      "text/plain": [
       "<Figure size 432x288 with 1 Axes>"
      ]
     },
     "metadata": {
      "needs_background": "light"
     },
     "output_type": "display_data"
    }
   ],
   "source": [
    "sns.histplot(y=df.payment_type)"
   ]
  },
  {
   "cell_type": "code",
   "execution_count": 73,
   "id": "d914a98a",
   "metadata": {},
   "outputs": [
    {
     "data": {
      "text/plain": [
       "<AxesSubplot:xlabel='monthly_charges', ylabel='Count'>"
      ]
     },
     "execution_count": 73,
     "metadata": {},
     "output_type": "execute_result"
    },
    {
     "data": {
      "image/png": "[encoded data removed]",
      "text/plain": [
       "<Figure size 432x288 with 1 Axes>"
      ]
     },
     "metadata": {
      "needs_background": "light"
     },
     "output_type": "display_data"
    }
   ],
   "source": [
    "sns.histplot(x=df.monthly_charges)"
   ]
  },
  {
   "cell_type": "code",
   "execution_count": 176,
   "id": "d570ca57",
   "metadata": {},
   "outputs": [],
   "source": [
    "df.total_charges = pd.to_numeric(df.total_charges, errors='coerce')"
   ]
  },
  {
   "cell_type": "code",
   "execution_count": 181,
   "id": "c9bc786f",
   "metadata": {},
   "outputs": [
    {
     "data": {
      "application/vnd.jupyter.widget-view+json": {
       "model_id": "80a9d3eecadf4e78b14cb39381439a0a",
       "version_major": 2,
       "version_minor": 0
      },
      "text/plain": [
       "Button(description='Toggle Pandas/Lux', layout=Layout(top='5px', width='140px'), style=ButtonStyle())"
      ]
     },
     "metadata": {},
     "output_type": "display_data"
    },
    {
     "data": {
      "application/vnd.jupyter.widget-view+json": {
       "model_id": "d1573887fcff438c9afbf31f02640264",
       "version_major": 2,
       "version_minor": 0
      },
      "text/plain": [
       "Output()"
      ]
     },
     "metadata": {},
     "output_type": "display_data"
    }
   ],
   "source": [
    "df.total_charges.isnull().value_counts()"
   ]
  },
  {
   "cell_type": "code",
   "execution_count": 178,
   "id": "930d9ada",
   "metadata": {},
   "outputs": [
    {
     "name": "stderr",
     "output_type": "stream",
     "text": [
      "/var/folders/n7/p9r5pxl53g99g0h4q1_h50fr0000gn/T/ipykernel_19347/3673192903.py:3: SettingWithCopyWarning:\n",
      "A value is trying to be set on a copy of a slice from a DataFrame\n",
      "\n",
      "See the caveats in the documentation: https://pandas.pydata.org/pandas-docs/stable/user_guide/indexing.html#returning-a-view-versus-a-copy\n"
     ]
    }
   ],
   "source": [
    "df['null_charges'] = pd.to_numeric(df['total_charges'], errors='coerce').isnull()\n",
    "\n",
    "df['total_charges'][df['null_charges'] == True] = df['monthly_charges'][df['null_charges'] == True]"
   ]
  },
  {
   "cell_type": "code",
   "execution_count": 180,
   "id": "bc4f16ce",
   "metadata": {},
   "outputs": [
    {
     "data": {
      "application/vnd.jupyter.widget-view+json": {
       "model_id": "cef99a30f1694910b72e91a7ee81c6ce",
       "version_major": 2,
       "version_minor": 0
      },
      "text/plain": [
       "Button(description='Toggle Pandas/Lux', layout=Layout(top='5px', width='140px'), style=ButtonStyle())"
      ]
     },
     "metadata": {},
     "output_type": "display_data"
    },
    {
     "data": {
      "application/vnd.jupyter.widget-view+json": {
       "model_id": "08bb5341b2d24bfcaf35dd04a1302ca9",
       "version_major": 2,
       "version_minor": 0
      },
      "text/plain": [
       "Output()"
      ]
     },
     "metadata": {},
     "output_type": "display_data"
    }
   ],
   "source": [
    "df.null_charges.value_counts()"
   ]
  },
  {
   "cell_type": "code",
   "execution_count": 80,
   "id": "cb1791d8",
   "metadata": {
    "collapsed": true
   },
   "outputs": [
    {
     "name": "stderr",
     "output_type": "stream",
     "text": [
      "/var/folders/n7/p9r5pxl53g99g0h4q1_h50fr0000gn/T/ipykernel_19347/913548743.py:1: SettingWithCopyWarning:\n",
      "A value is trying to be set on a copy of a slice from a DataFrame\n",
      "\n",
      "See the caveats in the documentation: https://pandas.pydata.org/pandas-docs/stable/user_guide/indexing.html#returning-a-view-versus-a-copy\n"
     ]
    }
   ],
   "source": [
    "df['total_charges'].loc[df.null_charges == True] = df.monthly_charges.loc[df.null_charges ==True]"
   ]
  },
  {
   "cell_type": "code",
   "execution_count": 183,
   "id": "10b4dae0",
   "metadata": {},
   "outputs": [
    {
     "data": {
      "application/vnd.jupyter.widget-view+json": {
       "model_id": "b6cdff82943e435d9bd6e1d579147367",
       "version_major": 2,
       "version_minor": 0
      },
      "text/plain": [
       "Button(description='Toggle Pandas/Lux', layout=Layout(top='5px', width='140px'), style=ButtonStyle())"
      ]
     },
     "metadata": {},
     "output_type": "display_data"
    },
    {
     "data": {
      "application/vnd.jupyter.widget-view+json": {
       "model_id": "b863c971089042d29d42c64ac1e05733",
       "version_major": 2,
       "version_minor": 0
      },
      "text/plain": [
       "Output()"
      ]
     },
     "metadata": {},
     "output_type": "display_data"
    }
   ],
   "source": [
    "df.total_charges.value_counts(dropna=False)"
   ]
  },
  {
   "cell_type": "code",
   "execution_count": 184,
   "id": "e05beb53",
   "metadata": {},
   "outputs": [
    {
     "data": {
      "text/plain": [
       "<AxesSubplot:xlabel='total_charges', ylabel='Count'>"
      ]
     },
     "execution_count": 184,
     "metadata": {},
     "output_type": "execute_result"
    },
    {
     "data": {
      "image/png": "[encoded data removed]",
      "text/plain": [
       "<Figure size 432x288 with 1 Axes>"
      ]
     },
     "metadata": {
      "needs_background": "light"
     },
     "output_type": "display_data"
    }
   ],
   "source": [
    "sns.histplot(df.total_charges)"
   ]
  },
  {
   "cell_type": "code",
   "execution_count": 68,
   "id": "59d9de37",
   "metadata": {},
   "outputs": [
    {
     "data": {
      "text/plain": [
       "<AxesSubplot:xlabel='Count', ylabel='churn'>"
      ]
     },
     "execution_count": 68,
     "metadata": {},
     "output_type": "execute_result"
    },
    {
     "data": {
      "image/png": "[encoded data removed]",
      "text/plain": [
       "<Figure size 432x288 with 1 Axes>"
      ]
     },
     "metadata": {
      "needs_background": "light"
     },
     "output_type": "display_data"
    }
   ],
   "source": [
    "sns.histplot(y=df.churn)"
   ]
  },
  {
   "cell_type": "markdown",
   "id": "661733b3",
   "metadata": {},
   "source": [
    "### churn - is our target and within the dataset 1869 have churned vs 5174 that have not\n",
    "  - Nearly 27% of all customers have churned... Let's look into that a bit more."
   ]
  },
  {
   "cell_type": "code",
   "execution_count": 26,
   "id": "ea23c765",
   "metadata": {},
   "outputs": [
    {
     "data": {
      "application/vnd.jupyter.widget-view+json": {
       "model_id": "8fc822a167504f01bbbd442cefd53298",
       "version_major": 2,
       "version_minor": 0
      },
      "text/plain": [
       "Button(description='Toggle Pandas/Lux', layout=Layout(top='5px', width='140px'), style=ButtonStyle())"
      ]
     },
     "metadata": {},
     "output_type": "display_data"
    },
    {
     "data": {
      "application/vnd.jupyter.widget-view+json": {
       "model_id": "0ab03b78c70047ebbd6c48202e1cae7f",
       "version_major": 2,
       "version_minor": 0
      },
      "text/plain": [
       "Output()"
      ]
     },
     "metadata": {},
     "output_type": "display_data"
    }
   ],
   "source": [
    "df.churn.value_counts(dropna=False, normalize=True)"
   ]
  },
  {
   "cell_type": "markdown",
   "id": "307af630",
   "metadata": {},
   "source": [
    "###  Let's look at how things relate to `Churn`"
   ]
  },
  {
   "cell_type": "code",
   "execution_count": 185,
   "id": "7d23f0d3",
   "metadata": {},
   "outputs": [],
   "source": [
    "df.intent = ['churn']"
   ]
  },
  {
   "cell_type": "code",
   "execution_count": 186,
   "id": "c58a096a",
   "metadata": {
    "scrolled": false
   },
   "outputs": [
    {
     "data": {
      "application/vnd.jupyter.widget-view+json": {
       "model_id": "daadc3c867bf4c94a7f2ef81f6622ded",
       "version_major": 2,
       "version_minor": 0
      },
      "text/plain": [
       "Button(description='Toggle Pandas/Lux', layout=Layout(top='5px', width='140px'), style=ButtonStyle())"
      ]
     },
     "metadata": {},
     "output_type": "display_data"
    },
    {
     "data": {
      "application/vnd.jupyter.widget-view+json": {
       "model_id": "91bae7e2355d4b38ba60601732a69adc",
       "version_major": 2,
       "version_minor": 0
      },
      "text/plain": [
       "Output()"
      ]
     },
     "metadata": {},
     "output_type": "display_data"
    }
   ],
   "source": [
    "df"
   ]
  },
  {
   "cell_type": "code",
   "execution_count": 187,
   "id": "d6168254",
   "metadata": {},
   "outputs": [
    {
     "data": {
      "application/vnd.jupyter.widget-view+json": {
       "model_id": "0aa89e7079c0434bb26eab8083dae183",
       "version_major": 2,
       "version_minor": 0
      },
      "text/plain": [
       "Button(description='Toggle Pandas/Lux', layout=Layout(top='5px', width='140px'), style=ButtonStyle())"
      ]
     },
     "metadata": {},
     "output_type": "display_data"
    },
    {
     "data": {
      "application/vnd.jupyter.widget-view+json": {
       "model_id": "d8fce22b73b24529befd123a6d3b7c49",
       "version_major": 2,
       "version_minor": 0
      },
      "text/plain": [
       "Output()"
      ]
     },
     "metadata": {},
     "output_type": "display_data"
    }
   ],
   "source": [
    "vis = df\n",
    "vis"
   ]
  },
  {
   "cell_type": "code",
   "execution_count": 188,
   "id": "fef17141",
   "metadata": {},
   "outputs": [
    {
     "name": "stdout",
     "output_type": "stream",
     "text": [
      "import matplotlib.pyplot as plt\n",
      "plt.rcParams.update(\n",
      "            {\n",
      "                \"axes.titlesize\": 20,\n",
      "                \"axes.titleweight\": \"bold\",\n",
      "                \"axes.labelweight\": \"bold\",\n",
      "                \"axes.labelsize\": 16,\n",
      "                \"legend.fontsize\": 14,\n",
      "                \"legend.title_fontsize\": 15,\n",
      "                \"xtick.labelsize\": 13,\n",
      "                \"ytick.labelsize\": 13,\n",
      "            }\n",
      "        )\n",
      "import numpy as np\n",
      "from math import nan\n",
      "df = pd.DataFrame({'payment_type': {0: 'Bank transfer (automatic)', 1: 'Bank transfer (automatic)', 2: 'Credit card (automatic)', 3: 'Credit card (automatic)', 4: 'Electronic check', 5: 'Electronic check', 6: 'Mailed check', 7: 'Mailed check'}, 'churn': {0: 'No', 1: 'Yes', 2: 'No', 3: 'Yes', 4: 'No', 5: 'Yes', 6: 'No', 7: 'Yes'}, 'Record': {0: 1286, 1: 258, 2: 1290, 3: 232, 4: 1294, 5: 1071, 6: 1304, 7: 308}})\n",
      "fig, ax = plt.subplots()\n",
      "bars = df['payment_type']\n",
      "measurements = df['Record']\n",
      "ax.barh(['Bank transfer (automatic)', 'Credit card (automatic)', 'Electronic check', 'Mailed check'],[1286, 1290, 1294, 1304], label='No')\n",
      "ax.barh(['Bank transfer (automatic)', 'Credit card (automatic)', 'Electronic check', 'Mailed check'],[258, 232, 1071, 308], label='Yes')\n",
      "ax.legend(title='churn', \n",
      "            bbox_to_anchor=(1.05, 1), \n",
      "            loc='upper left', \n",
      "            ncol=1, \n",
      "            frameon=False)\n",
      "ax.set_xlabel('Record')\n",
      "ax.set_ylabel('payment_type')\n",
      "\n",
      "fig\n"
     ]
    }
   ],
   "source": [
    "print(vis.exported[0].to_matplotlib())"
   ]
  },
  {
   "cell_type": "code",
   "execution_count": 189,
   "id": "cc8063fa",
   "metadata": {},
   "outputs": [
    {
     "data": {
      "image/png": "[encoded data removed]",
      "text/plain": [
       "<Figure size 432x288 with 1 Axes>"
      ]
     },
     "execution_count": 189,
     "metadata": {},
     "output_type": "execute_result"
    },
    {
     "data": {
      "image/png": "[encoded data removed]",
      "text/plain": [
       "<Figure size 432x288 with 1 Axes>"
      ]
     },
     "metadata": {
      "needs_background": "light"
     },
     "output_type": "display_data"
    }
   ],
   "source": [
    "plt.rcParams.update(\n",
    "            {\n",
    "                \"axes.titlesize\": 20,\n",
    "                \"axes.titleweight\": \"bold\",\n",
    "                \"axes.labelweight\": \"bold\",\n",
    "                \"axes.labelsize\": 16,\n",
    "                \"legend.fontsize\": 14,\n",
    "                \"legend.title_fontsize\": 15,\n",
    "                \"xtick.labelsize\": 13,\n",
    "                \"ytick.labelsize\": 13,\n",
    "            }\n",
    "        )\n",
    "import numpy as np\n",
    "from math import nan\n",
    "df1 = pd.DataFrame({'payment_type': {0: 'Bank transfer (automatic)', 1: 'Bank transfer (automatic)', 2: 'Credit card (automatic)', 3: 'Credit card (automatic)', 4: 'Electronic check', 5: 'Electronic check', 6: 'Mailed check', 7: 'Mailed check'}, 'churn': {0: 'No', 1: 'Yes', 2: 'No', 3: 'Yes', 4: 'No', 5: 'Yes', 6: 'No', 7: 'Yes'}, 'Record': {0: 1286, 1: 258, 2: 1290, 3: 232, 4: 1294, 5: 1071, 6: 1304, 7: 308}})\n",
    "fig, ax = plt.subplots()\n",
    "bars = df1['payment_type']\n",
    "measurements = df1['Record']\n",
    "ax.barh(['Bank transfer (automatic)', 'Credit card (automatic)', 'Electronic check', 'Mailed check'],[1286, 1290, 1294, 1304], label='No')\n",
    "ax.barh(['Bank transfer (automatic)', 'Credit card (automatic)', 'Electronic check', 'Mailed check'],[258, 232, 1071, 308], label='Yes')\n",
    "ax.legend(title='churn', \n",
    "            bbox_to_anchor=(1.05, 1), \n",
    "            loc='upper left', \n",
    "            ncol=1, \n",
    "            frameon=False)\n",
    "ax.set_xlabel('Record')\n",
    "ax.set_ylabel('payment_type')\n",
    "\n",
    "fig"
   ]
  },
  {
   "cell_type": "code",
   "execution_count": 190,
   "id": "158673a4",
   "metadata": {},
   "outputs": [
    {
     "data": {
      "application/vnd.jupyter.widget-view+json": {
       "model_id": "71ca65c6ce41420a8c785819f40b7428",
       "version_major": 2,
       "version_minor": 0
      },
      "text/plain": [
       "Button(description='Toggle Pandas/Lux', layout=Layout(top='5px', width='140px'), style=ButtonStyle())"
      ]
     },
     "metadata": {},
     "output_type": "display_data"
    },
    {
     "data": {
      "application/vnd.jupyter.widget-view+json": {
       "model_id": "d3adcd00250d4770bc97d9a717dc1744",
       "version_major": 2,
       "version_minor": 0
      },
      "text/plain": [
       "Output()"
      ]
     },
     "metadata": {},
     "output_type": "display_data"
    }
   ],
   "source": [
    "df1"
   ]
  },
  {
   "cell_type": "markdown",
   "id": "82511538",
   "metadata": {},
   "source": [
    "There are about 1300 people in each payment type that have not churned however, there are 232, 258, and 308 who have churned in CC(auto), Bank Transfer(auto) and Mailed Check respectively, while the Electronic Check category has over 1000 who have churned."
   ]
  },
  {
   "cell_type": "code",
   "execution_count": 165,
   "id": "b1c569cb",
   "metadata": {},
   "outputs": [
    {
     "data": {
      "image/png": "[encoded data removed]",
      "text/plain": [
       "<Figure size 432x288 with 1 Axes>"
      ]
     },
     "execution_count": 165,
     "metadata": {},
     "output_type": "execute_result"
    }
   ],
   "source": [
    "plt.rcParams.update(\n",
    "            {\n",
    "                \"axes.titlesize\": 20,\n",
    "                \"axes.titleweight\": \"bold\",\n",
    "                \"axes.labelweight\": \"bold\",\n",
    "                \"axes.labelsize\": 16,\n",
    "                \"legend.fontsize\": 14,\n",
    "                \"legend.title_fontsize\": 15,\n",
    "                \"xtick.labelsize\": 13,\n",
    "                \"ytick.labelsize\": 13,\n",
    "            }\n",
    "        )\n",
    "# import numpy as np\n",
    "# from math import nan\n",
    "df = pd.DataFrame({'payment_type': {0: 'Bank transfer (automatic)', 1: 'Bank transfer (automatic)', 2: 'Credit card (automatic)', 3: 'Credit card (automatic)', 4: 'Electronic check', 5: 'Electronic check', 6: 'Mailed check', 7: 'Mailed check'}, 'churn': {0: 'No', 1: 'Yes', 2: 'No', 3: 'Yes', 4: 'No', 5: 'Yes', 6: 'No', 7: 'Yes'}, 'Record': {0: 1286, 1: 258, 2: 1290, 3: 232, 4: 1294, 5: 1071, 6: 1304, 7: 308}})\n",
    "# fig, ax = plt.subplots()\n",
    "bars = df['payment_type']\n",
    "measurements = df['Record']\n",
    "ax.barh(['Bank transfer (automatic)', 'Credit card (automatic)', 'Electronic check', 'Mailed check'],[1286, 1290, 1294, 1304], label='No')\n",
    "ax.barh(['Bank transfer (automatic)', 'Credit card (automatic)', 'Electronic check', 'Mailed check'],[258, 232, 1071, 308], label='Yes')\n",
    "ax.legend(title='churn', \n",
    "            bbox_to_anchor=(1.05, 1), \n",
    "            loc='upper left', \n",
    "            ncol=1, \n",
    "            frameon=False)\n",
    "ax.set_xlabel('Record')\n",
    "ax.set_ylabel('payment_type')\n",
    "\n",
    "fig"
   ]
  },
  {
   "cell_type": "code",
   "execution_count": 168,
   "id": "d1cf68a1",
   "metadata": {},
   "outputs": [
    {
     "data": {
      "image/png": "[encoded data removed]",
      "text/plain": [
       "<Figure size 432x288 with 1 Axes>"
      ]
     },
     "execution_count": 168,
     "metadata": {},
     "output_type": "execute_result"
    }
   ],
   "source": [
    "plt.rcParams.update(\n",
    "            {\n",
    "                \"axes.titlesize\": 20,\n",
    "                \"axes.titleweight\": \"bold\",\n",
    "                \"axes.labelweight\": \"bold\",\n",
    "                \"axes.labelsize\": 16,\n",
    "                \"legend.fontsize\": 14,\n",
    "                \"legend.title_fontsize\": 15,\n",
    "                \"xtick.labelsize\": 13,\n",
    "                \"ytick.labelsize\": 13,\n",
    "            }\n",
    "        )\n",
    "# import numpy as np\n",
    "# from math import nan\n",
    "df = pd.DataFrame({'internet_service_type': {0: 'DSL', 1: 'DSL', 2: 'Fiber optic', 3: 'Fiber optic', 4: 'None', 5: 'None'}, 'churn': {0: 'No', 1: 'Yes', 2: 'No', 3: 'Yes', 4: 'No', 5: 'Yes'}, 'Record': {0: 1962, 1: 459, 2: 1799, 3: 1297, 4: 1413, 5: 113}})\n",
    "# fig, ax = plt.subplots()\n",
    "bars = df['internet_service_type']\n",
    "measurements = df['Record']\n",
    "ax.barh(['DSL', 'Fiber optic', 'None'],[1962, 1799, 1413], label='No')\n",
    "ax.barh(['DSL', 'Fiber optic', 'None'],[459, 1297, 113], label='Yes')\n",
    "ax.legend(title='churn', \n",
    "            bbox_to_anchor=(1.05, 1), \n",
    "            loc='upper left', \n",
    "            ncol=1, \n",
    "            frameon=False)\n",
    "ax.set_xlabel('Record')\n",
    "ax.set_ylabel('internet_service_type')\n",
    "\n",
    "fig"
   ]
  },
  {
   "cell_type": "code",
   "execution_count": 162,
   "id": "8e4c48e6",
   "metadata": {},
   "outputs": [
    {
     "data": {
      "image/png": "[encoded data removed]",
      "text/plain": [
       "<Figure size 432x288 with 1 Axes>"
      ]
     },
     "execution_count": 162,
     "metadata": {},
     "output_type": "execute_result"
    },
    {
     "data": {
      "image/png": "[encoded data removed]",
      "text/plain": [
       "<Figure size 432x288 with 1 Axes>"
      ]
     },
     "metadata": {
      "needs_background": "light"
     },
     "output_type": "display_data"
    }
   ],
   "source": [
    "plt.rcParams.update(\n",
    "            {\n",
    "                \"axes.titlesize\": 20,\n",
    "                \"axes.titleweight\": \"bold\",\n",
    "                \"axes.labelweight\": \"bold\",\n",
    "                \"axes.labelsize\": 16,\n",
    "                \"legend.fontsize\": 14,\n",
    "                \"legend.title_fontsize\": 15,\n",
    "                \"xtick.labelsize\": 13,\n",
    "                \"ytick.labelsize\": 13,\n",
    "            }\n",
    "        )\n",
    "# import numpy as np\n",
    "# from math import nan\n",
    "df = pd.DataFrame({'online_security': {0: 'No', 1: 'No', 2: 'No internet service', 3: 'No internet service', 4: 'Yes', 5: 'Yes'}, 'churn': {0: 'No', 1: 'Yes', 2: 'No', 3: 'Yes', 4: 'No', 5: 'Yes'}, 'Record': {0: 2037, 1: 1461, 2: 1413, 3: 113, 4: 1724, 5: 295}})\n",
    "fig, ax = plt.subplots()\n",
    "bars = df['online_security']\n",
    "measurements = df['Record']\n",
    "ax.barh(['No', 'No internet service', 'Yes'],[2037, 1413, 1724], label='No')\n",
    "ax.barh(['No', 'No internet service', 'Yes'],[1461, 113, 295], label='Yes')\n",
    "ax.legend(title='churn', \n",
    "            bbox_to_anchor=(1.05, 1), \n",
    "            loc='upper left', \n",
    "            ncol=1, \n",
    "            frameon=False)\n",
    "ax.set_xlabel('Record')\n",
    "ax.set_ylabel('online_security')\n",
    "\n",
    "fig"
   ]
  },
  {
   "cell_type": "code",
   "execution_count": 160,
   "id": "a7426548",
   "metadata": {},
   "outputs": [
    {
     "data": {
      "image/png": "[encoded data removed]",
      "text/plain": [
       "<Figure size 432x288 with 1 Axes>"
      ]
     },
     "execution_count": 160,
     "metadata": {},
     "output_type": "execute_result"
    },
    {
     "data": {
      "image/png": "[encoded data removed]",
      "text/plain": [
       "<Figure size 432x288 with 1 Axes>"
      ]
     },
     "metadata": {
      "needs_background": "light"
     },
     "output_type": "display_data"
    }
   ],
   "source": [
    "plt.rcParams.update(\n",
    "            {\n",
    "                \"axes.titlesize\": 20,\n",
    "                \"axes.titleweight\": \"bold\",\n",
    "                \"axes.labelweight\": \"bold\",\n",
    "                \"axes.labelsize\": 16,\n",
    "                \"legend.fontsize\": 14,\n",
    "                \"legend.title_fontsize\": 15,\n",
    "                \"xtick.labelsize\": 13,\n",
    "                \"ytick.labelsize\": 13,\n",
    "            }\n",
    "        )\n",
    "from math import nan\n",
    "df = pd.DataFrame({'contract_type': {0: 'Month-to-month', 1: 'Month-to-month', 2: 'One year', 3: 'One year', 4: 'Two year', 5: 'Two year'}, 'churn': {0: 'No', 1: 'Yes', 2: 'No', 3: 'Yes', 4: 'No', 5: 'Yes'}, 'Record': {0: 2220, 1: 1655, 2: 1307, 3: 166, 4: 1647, 5: 48}})\n",
    "fig, ax = plt.subplots()\n",
    "bars = df['contract_type']\n",
    "measurements = df['Record']\n",
    "ax.barh(['Month-to-month', 'One year', 'Two year'],[2220, 1307, 1647], label='No')\n",
    "ax.barh(['Month-to-month', 'One year', 'Two year'],[1655, 166, 48], label='Yes')\n",
    "ax.legend(title='churn', \n",
    "            bbox_to_anchor=(1.05, 1), \n",
    "            loc='upper left', \n",
    "            ncol=1, \n",
    "            frameon=False)\n",
    "ax.set_xlabel('Record')\n",
    "ax.set_ylabel('contract_type')\n",
    "\n",
    "fig\n",
    "# Lets print out the histplot's for everything using the hue of churn\n"
   ]
  },
  {
   "cell_type": "code",
   "execution_count": 105,
   "id": "46284aea",
   "metadata": {
    "collapsed": true
   },
   "outputs": [
    {
     "name": "stdout",
     "output_type": "stream",
     "text": [
      "sns.histplot(data=df, y=\"customer_id\", hue=\"churn\")\n",
      "sns.histplot(data=df, y=\"gender\", hue=\"churn\")\n",
      "sns.histplot(data=df, y=\"senior_citizen\", hue=\"churn\")\n",
      "sns.histplot(data=df, y=\"partner\", hue=\"churn\")\n",
      "sns.histplot(data=df, y=\"dependents\", hue=\"churn\")\n",
      "sns.histplot(data=df, y=\"tenure\", hue=\"churn\")\n",
      "sns.histplot(data=df, y=\"phone_service\", hue=\"churn\")\n",
      "sns.histplot(data=df, y=\"multiple_lines\", hue=\"churn\")\n",
      "sns.histplot(data=df, y=\"internet_service_type\", hue=\"churn\")\n",
      "sns.histplot(data=df, y=\"online_security\", hue=\"churn\")\n",
      "sns.histplot(data=df, y=\"online_backup\", hue=\"churn\")\n",
      "sns.histplot(data=df, y=\"device_protection\", hue=\"churn\")\n",
      "sns.histplot(data=df, y=\"tech_support\", hue=\"churn\")\n",
      "sns.histplot(data=df, y=\"streaming_tv\", hue=\"churn\")\n",
      "sns.histplot(data=df, y=\"streaming_movies\", hue=\"churn\")\n",
      "sns.histplot(data=df, y=\"contract_type\", hue=\"churn\")\n",
      "sns.histplot(data=df, y=\"paperless_billing\", hue=\"churn\")\n",
      "sns.histplot(data=df, y=\"payment_type\", hue=\"churn\")\n",
      "sns.histplot(data=df, y=\"monthly_charges\", hue=\"churn\")\n",
      "sns.histplot(data=df, y=\"total_charges\", hue=\"churn\")\n",
      "sns.histplot(data=df, y=\"churn\", hue=\"churn\")\n",
      "sns.histplot(data=df, y=\"null_charges\", hue=\"churn\")\n"
     ]
    }
   ],
   "source": [
    "# Lets print out the histplot's for everything using the hue of churn\n",
    "for i in df:\n",
    "    print(f'sns.histplot(data=df, y=\"{i}\", hue=\"churn\")')"
   ]
  },
  {
   "cell_type": "code",
   "execution_count": 113,
   "id": "cb0831e1",
   "metadata": {},
   "outputs": [
    {
     "data": {
      "text/plain": [
       "<AxesSubplot:xlabel='Count', ylabel='gender'>"
      ]
     },
     "execution_count": 113,
     "metadata": {},
     "output_type": "execute_result"
    },
    {
     "data": {
      "image/png": "[encoded data removed]",
      "text/plain": [
       "<Figure size 432x288 with 1 Axes>"
      ]
     },
     "metadata": {
      "needs_background": "light"
     },
     "output_type": "display_data"
    }
   ],
   "source": [
    "sns.histplot(data=df, y=\"gender\", hue=\"churn\", hue_order=['Yes', 'No'])"
   ]
  },
  {
   "cell_type": "code",
   "execution_count": 134,
   "id": "ae54eb76",
   "metadata": {},
   "outputs": [
    {
     "data": {
      "application/vnd.jupyter.widget-view+json": {
       "model_id": "b180e188c0f14a8e8e581f857b4d39cd",
       "version_major": 2,
       "version_minor": 0
      },
      "text/plain": [
       "Button(description='Toggle Pandas/Lux', layout=Layout(top='5px', width='140px'), style=ButtonStyle())"
      ]
     },
     "metadata": {},
     "output_type": "display_data"
    },
    {
     "data": {
      "application/vnd.jupyter.widget-view+json": {
       "model_id": "fb9b53bf0e6a4b5d8bf16adc42eb77dc",
       "version_major": 2,
       "version_minor": 0
      },
      "text/plain": [
       "Output()"
      ]
     },
     "metadata": {},
     "output_type": "display_data"
    }
   ],
   "source": [
    "df.gender[df.churn == 'Yes'].value_counts()"
   ]
  },
  {
   "cell_type": "code",
   "execution_count": 136,
   "id": "0bb28bef",
   "metadata": {},
   "outputs": [
    {
     "data": {
      "application/vnd.jupyter.widget-view+json": {
       "model_id": "8eff65ee97884723ae97c7800c61ce13",
       "version_major": 2,
       "version_minor": 0
      },
      "text/plain": [
       "Button(description='Toggle Pandas/Lux', layout=Layout(top='5px', width='140px'), style=ButtonStyle())"
      ]
     },
     "metadata": {},
     "output_type": "display_data"
    },
    {
     "data": {
      "application/vnd.jupyter.widget-view+json": {
       "model_id": "026c851bd7a4412f80f65e88dc119068",
       "version_major": 2,
       "version_minor": 0
      },
      "text/plain": [
       "Output()"
      ]
     },
     "metadata": {},
     "output_type": "display_data"
    }
   ],
   "source": [
    "df.gender[df.churn == 'No'].value_counts()"
   ]
  },
  {
   "cell_type": "code",
   "execution_count": 114,
   "id": "ced1f374",
   "metadata": {},
   "outputs": [
    {
     "data": {
      "text/plain": [
       "<AxesSubplot:xlabel='Count', ylabel='senior_citizen'>"
      ]
     },
     "execution_count": 114,
     "metadata": {},
     "output_type": "execute_result"
    },
    {
     "data": {
      "image/png": "[encoded data removed]",
      "text/plain": [
       "<Figure size 432x288 with 1 Axes>"
      ]
     },
     "metadata": {
      "needs_background": "light"
     },
     "output_type": "display_data"
    }
   ],
   "source": [
    "sns.histplot(data=df, y=\"senior_citizen\", hue=\"churn\")"
   ]
  },
  {
   "cell_type": "code",
   "execution_count": 146,
   "id": "7800bc3d",
   "metadata": {},
   "outputs": [
    {
     "data": {
      "text/plain": [
       "<AxesSubplot:xlabel='Count', ylabel='partner'>"
      ]
     },
     "execution_count": 146,
     "metadata": {},
     "output_type": "execute_result"
    },
    {
     "data": {
      "image/png": "[encoded data removed]",
      "text/plain": [
       "<Figure size 432x288 with 1 Axes>"
      ]
     },
     "metadata": {
      "needs_background": "light"
     },
     "output_type": "display_data"
    }
   ],
   "source": [
    "sns.histplot(data=df, y=\"partner\", hue=\"churn\", cumulative=True)"
   ]
  },
  {
   "cell_type": "code",
   "execution_count": 115,
   "id": "528cd635",
   "metadata": {},
   "outputs": [
    {
     "data": {
      "text/plain": [
       "<AxesSubplot:xlabel='Count', ylabel='dependents'>"
      ]
     },
     "execution_count": 115,
     "metadata": {},
     "output_type": "execute_result"
    },
    {
     "data": {
      "image/png": "[encoded data removed]",
      "text/plain": [
       "<Figure size 432x288 with 1 Axes>"
      ]
     },
     "metadata": {
      "needs_background": "light"
     },
     "output_type": "display_data"
    }
   ],
   "source": [
    "sns.histplot(data=df, y=\"dependents\", hue=\"churn\")"
   ]
  },
  {
   "cell_type": "markdown",
   "id": "9ab247b0",
   "metadata": {},
   "source": [
    "##  The longer the tenure, the lower percentage of churn"
   ]
  },
  {
   "cell_type": "code",
   "execution_count": 116,
   "id": "3a57d62b",
   "metadata": {},
   "outputs": [
    {
     "data": {
      "text/plain": [
       "<AxesSubplot:xlabel='Count', ylabel='tenure'>"
      ]
     },
     "execution_count": 116,
     "metadata": {},
     "output_type": "execute_result"
    },
    {
     "data": {
      "image/png": "[encoded data removed]",
      "text/plain": [
       "<Figure size 432x288 with 1 Axes>"
      ]
     },
     "metadata": {
      "needs_background": "light"
     },
     "output_type": "display_data"
    }
   ],
   "source": [
    "sns.histplot(data=df, y=\"tenure\", hue=\"churn\")"
   ]
  },
  {
   "cell_type": "code",
   "execution_count": 117,
   "id": "f0070e04",
   "metadata": {},
   "outputs": [
    {
     "data": {
      "text/plain": [
       "<AxesSubplot:xlabel='Count', ylabel='phone_service'>"
      ]
     },
     "execution_count": 117,
     "metadata": {},
     "output_type": "execute_result"
    },
    {
     "data": {
      "image/png": "[encoded data removed]",
      "text/plain": [
       "<Figure size 432x288 with 1 Axes>"
      ]
     },
     "metadata": {
      "needs_background": "light"
     },
     "output_type": "display_data"
    }
   ],
   "source": [
    "sns.histplot(data=df, y=\"phone_service\", hue=\"churn\")"
   ]
  },
  {
   "cell_type": "code",
   "execution_count": 118,
   "id": "4781526a",
   "metadata": {},
   "outputs": [
    {
     "data": {
      "text/plain": [
       "<AxesSubplot:xlabel='Count', ylabel='multiple_lines'>"
      ]
     },
     "execution_count": 118,
     "metadata": {},
     "output_type": "execute_result"
    },
    {
     "data": {
      "image/png": "[encoded data removed]",
      "text/plain": [
       "<Figure size 432x288 with 1 Axes>"
      ]
     },
     "metadata": {
      "needs_background": "light"
     },
     "output_type": "display_data"
    }
   ],
   "source": [
    "sns.histplot(data=df, y=\"multiple_lines\", hue=\"churn\")"
   ]
  },
  {
   "cell_type": "code",
   "execution_count": 119,
   "id": "209fc8ca",
   "metadata": {},
   "outputs": [
    {
     "data": {
      "text/plain": [
       "<AxesSubplot:xlabel='Count', ylabel='internet_service_type'>"
      ]
     },
     "execution_count": 119,
     "metadata": {},
     "output_type": "execute_result"
    },
    {
     "data": {
      "image/png": "[encoded data removed]",
      "text/plain": [
       "<Figure size 432x288 with 1 Axes>"
      ]
     },
     "metadata": {
      "needs_background": "light"
     },
     "output_type": "display_data"
    }
   ],
   "source": [
    "sns.histplot(data=df, y=\"internet_service_type\", hue=\"churn\")"
   ]
  },
  {
   "cell_type": "code",
   "execution_count": 120,
   "id": "7c23c38e",
   "metadata": {},
   "outputs": [
    {
     "data": {
      "text/plain": [
       "<AxesSubplot:xlabel='Count', ylabel='online_security'>"
      ]
     },
     "execution_count": 120,
     "metadata": {},
     "output_type": "execute_result"
    },
    {
     "data": {
      "image/png": "[encoded data removed]",
      "text/plain": [
       "<Figure size 432x288 with 1 Axes>"
      ]
     },
     "metadata": {
      "needs_background": "light"
     },
     "output_type": "display_data"
    }
   ],
   "source": [
    "sns.histplot(data=df, y=\"online_security\", hue=\"churn\")"
   ]
  },
  {
   "cell_type": "code",
   "execution_count": 121,
   "id": "69ad0c75",
   "metadata": {},
   "outputs": [
    {
     "data": {
      "text/plain": [
       "<AxesSubplot:xlabel='Count', ylabel='online_backup'>"
      ]
     },
     "execution_count": 121,
     "metadata": {},
     "output_type": "execute_result"
    },
    {
     "data": {
      "image/png": "[encoded data removed]",
      "text/plain": [
       "<Figure size 432x288 with 1 Axes>"
      ]
     },
     "metadata": {
      "needs_background": "light"
     },
     "output_type": "display_data"
    }
   ],
   "source": [
    "sns.histplot(data=df, y=\"online_backup\", hue=\"churn\")"
   ]
  },
  {
   "cell_type": "code",
   "execution_count": 122,
   "id": "b1cf2410",
   "metadata": {},
   "outputs": [
    {
     "data": {
      "text/plain": [
       "<AxesSubplot:xlabel='Count', ylabel='device_protection'>"
      ]
     },
     "execution_count": 122,
     "metadata": {},
     "output_type": "execute_result"
    },
    {
     "data": {
      "image/png": "[encoded data removed]",
      "text/plain": [
       "<Figure size 432x288 with 1 Axes>"
      ]
     },
     "metadata": {
      "needs_background": "light"
     },
     "output_type": "display_data"
    }
   ],
   "source": [
    "sns.histplot(data=df, y=\"device_protection\", hue=\"churn\")"
   ]
  },
  {
   "cell_type": "code",
   "execution_count": 123,
   "id": "d3393f6b",
   "metadata": {},
   "outputs": [
    {
     "data": {
      "text/plain": [
       "<AxesSubplot:xlabel='Count', ylabel='tech_support'>"
      ]
     },
     "execution_count": 123,
     "metadata": {},
     "output_type": "execute_result"
    },
    {
     "data": {
      "image/png": "[encoded data removed]",
      "text/plain": [
       "<Figure size 432x288 with 1 Axes>"
      ]
     },
     "metadata": {
      "needs_background": "light"
     },
     "output_type": "display_data"
    }
   ],
   "source": [
    "sns.histplot(data=df, y=\"tech_support\", hue=\"churn\")"
   ]
  },
  {
   "cell_type": "code",
   "execution_count": 124,
   "id": "b4260eea",
   "metadata": {},
   "outputs": [
    {
     "data": {
      "text/plain": [
       "<AxesSubplot:xlabel='Count', ylabel='streaming_tv'>"
      ]
     },
     "execution_count": 124,
     "metadata": {},
     "output_type": "execute_result"
    },
    {
     "data": {
      "image/png": "[encoded data removed]",
      "text/plain": [
       "<Figure size 432x288 with 1 Axes>"
      ]
     },
     "metadata": {
      "needs_background": "light"
     },
     "output_type": "display_data"
    }
   ],
   "source": [
    "sns.histplot(data=df, y=\"streaming_tv\", hue=\"churn\")"
   ]
  },
  {
   "cell_type": "code",
   "execution_count": 125,
   "id": "7d50c003",
   "metadata": {},
   "outputs": [
    {
     "data": {
      "text/plain": [
       "<AxesSubplot:xlabel='Count', ylabel='streaming_movies'>"
      ]
     },
     "execution_count": 125,
     "metadata": {},
     "output_type": "execute_result"
    },
    {
     "data": {
      "image/png": "[encoded data removed]",
      "text/plain": [
       "<Figure size 432x288 with 1 Axes>"
      ]
     },
     "metadata": {
      "needs_background": "light"
     },
     "output_type": "display_data"
    }
   ],
   "source": [
    "sns.histplot(data=df, y=\"streaming_movies\", hue=\"churn\")"
   ]
  },
  {
   "cell_type": "code",
   "execution_count": 126,
   "id": "9290bf6e",
   "metadata": {},
   "outputs": [
    {
     "data": {
      "text/plain": [
       "<AxesSubplot:xlabel='Count', ylabel='contract_type'>"
      ]
     },
     "execution_count": 126,
     "metadata": {},
     "output_type": "execute_result"
    },
    {
     "data": {
      "image/png": "[encoded data removed]",
      "text/plain": [
       "<Figure size 432x288 with 1 Axes>"
      ]
     },
     "metadata": {
      "needs_background": "light"
     },
     "output_type": "display_data"
    }
   ],
   "source": [
    "sns.histplot(data=df, y=\"contract_type\", hue=\"churn\")"
   ]
  },
  {
   "cell_type": "code",
   "execution_count": 127,
   "id": "dc3e0a2e",
   "metadata": {},
   "outputs": [
    {
     "data": {
      "text/plain": [
       "<AxesSubplot:xlabel='Count', ylabel='paperless_billing'>"
      ]
     },
     "execution_count": 127,
     "metadata": {},
     "output_type": "execute_result"
    },
    {
     "data": {
      "image/png": "[encoded data removed]",
      "text/plain": [
       "<Figure size 432x288 with 1 Axes>"
      ]
     },
     "metadata": {
      "needs_background": "light"
     },
     "output_type": "display_data"
    }
   ],
   "source": [
    "sns.histplot(data=df, y=\"paperless_billing\", hue=\"churn\")"
   ]
  },
  {
   "cell_type": "markdown",
   "id": "0e8a855e",
   "metadata": {},
   "source": [
    "### This electronic check option seems to be really out of whack..."
   ]
  },
  {
   "cell_type": "code",
   "execution_count": 128,
   "id": "38acdf85",
   "metadata": {},
   "outputs": [
    {
     "data": {
      "text/plain": [
       "<AxesSubplot:xlabel='Count', ylabel='payment_type'>"
      ]
     },
     "execution_count": 128,
     "metadata": {},
     "output_type": "execute_result"
    },
    {
     "data": {
      "image/png": "[encoded data removed]",
      "text/plain": [
       "<Figure size 432x288 with 1 Axes>"
      ]
     },
     "metadata": {
      "needs_background": "light"
     },
     "output_type": "display_data"
    }
   ],
   "source": [
    "sns.histplot(data=df, y=\"payment_type\", hue=\"churn\")"
   ]
  },
  {
   "cell_type": "markdown",
   "id": "97348e9b",
   "metadata": {},
   "source": [
    "### Higher monthly charges don't seem to make a difference, <br><br>in fact there seems to be less churn in the highest monthly charges groups."
   ]
  },
  {
   "cell_type": "code",
   "execution_count": 191,
   "id": "5dbcfc94",
   "metadata": {},
   "outputs": [
    {
     "data": {
      "text/plain": [
       "<AxesSubplot:xlabel='monthly_charges', ylabel='Count'>"
      ]
     },
     "execution_count": 191,
     "metadata": {},
     "output_type": "execute_result"
    },
    {
     "data": {
      "image/png": "[encoded data removed]",
      "text/plain": [
       "<Figure size 432x288 with 1 Axes>"
      ]
     },
     "metadata": {
      "needs_background": "light"
     },
     "output_type": "display_data"
    }
   ],
   "source": [
    "sns.histplot(data=df, x=\"monthly_charges\", hue=\"churn\")"
   ]
  },
  {
   "cell_type": "code",
   "execution_count": 130,
   "id": "4383d203",
   "metadata": {
    "scrolled": true
   },
   "outputs": [
    {
     "data": {
      "text/plain": [
       "<AxesSubplot:xlabel='Count', ylabel='total_charges'>"
      ]
     },
     "execution_count": 130,
     "metadata": {},
     "output_type": "execute_result"
    },
    {
     "data": {
      "image/png": "[encoded data removed]",
      "text/plain": [
       "<Figure size 432x288 with 1 Axes>"
      ]
     },
     "metadata": {
      "needs_background": "light"
     },
     "output_type": "display_data"
    }
   ],
   "source": [
    "sns.histplot(data=df, y=\"total_charges\", hue=\"churn\")"
   ]
  },
  {
   "cell_type": "code",
   "execution_count": null,
   "id": "f886b425",
   "metadata": {},
   "outputs": [],
   "source": []
  },
  {
   "cell_type": "code",
   "execution_count": null,
   "id": "1f3c7519",
   "metadata": {},
   "outputs": [],
   "source": []
  }
 ],
 "metadata": {
  "kernelspec": {
   "display_name": "Python 3 (ipykernel)",
   "language": "python",
   "name": "python3"
  },
  "language_info": {
   "codemirror_mode": {
    "name": "ipython",
    "version": 3
   },
   "file_extension": ".py",
   "mimetype": "text/x-python",
   "name": "python",
   "nbconvert_exporter": "python",
   "pygments_lexer": "ipython3",
   "version": "3.9.12"
  }
 },
 "nbformat": 4,
 "nbformat_minor": 5
}
